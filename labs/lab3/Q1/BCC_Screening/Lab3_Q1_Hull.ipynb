{
 "cells": [
  {
   "cell_type": "code",
   "execution_count": 1,
   "metadata": {
    "collapsed": true
   },
   "outputs": [],
   "source": [
    "import matplotlib.pyplot as plt\n",
    "%matplotlib inline\n",
    "from pymatgen.util.plotting_utils import get_publication_quality_plot"
   ]
  },
  {
   "cell_type": "code",
   "execution_count": 2,
   "metadata": {
    "collapsed": true
   },
   "outputs": [],
   "source": [
    "import numpy as np\n",
    "import pandas as pd"
   ]
  },
  {
   "cell_type": "code",
   "execution_count": 5,
   "metadata": {
    "collapsed": false
   },
   "outputs": [],
   "source": [
    "datafile = pd.read_csv('results.csv')"
   ]
  },
  {
   "cell_type": "code",
   "execution_count": 6,
   "metadata": {
    "collapsed": false
   },
   "outputs": [
    {
     "data": {
      "text/html": [
       "<div style=\"max-height:1000px;max-width:1500px;overflow:auto;\">\n",
       "<table border=\"1\" class=\"dataframe\">\n",
       "  <thead>\n",
       "    <tr style=\"text-align: right;\">\n",
       "      <th></th>\n",
       "      <th>filename</th>\n",
       "      <th>ecut</th>\n",
       "      <th>nkpts</th>\n",
       "      <th>alat</th>\n",
       "      <th>energy</th>\n",
       "      <th>total_force</th>\n",
       "      <th>cpu_time</th>\n",
       "    </tr>\n",
       "  </thead>\n",
       "  <tbody>\n",
       "    <tr>\n",
       "      <th>0</th>\n",
       "      <td>  Fe_bcc_5.38_7.out</td>\n",
       "      <td> 50</td>\n",
       "      <td>  40</td>\n",
       "      <td> 5.38</td>\n",
       "      <td>-329.263384</td>\n",
       "      <td> 0</td>\n",
       "      <td> 19.7</td>\n",
       "    </tr>\n",
       "    <tr>\n",
       "      <th>1</th>\n",
       "      <td>  Fe_bcc_5.38_8.out</td>\n",
       "      <td> 50</td>\n",
       "      <td>  58</td>\n",
       "      <td> 5.38</td>\n",
       "      <td>-329.262011</td>\n",
       "      <td> 0</td>\n",
       "      <td> 30.0</td>\n",
       "    </tr>\n",
       "    <tr>\n",
       "      <th>2</th>\n",
       "      <td>  Fe_bcc_5.38_9.out</td>\n",
       "      <td> 50</td>\n",
       "      <td>  70</td>\n",
       "      <td> 5.38</td>\n",
       "      <td>-329.262817</td>\n",
       "      <td> 0</td>\n",
       "      <td> 36.9</td>\n",
       "    </tr>\n",
       "    <tr>\n",
       "      <th>3</th>\n",
       "      <td> Fe_bcc_5.38_10.out</td>\n",
       "      <td> 50</td>\n",
       "      <td>  94</td>\n",
       "      <td> 5.38</td>\n",
       "      <td>-329.263102</td>\n",
       "      <td> 0</td>\n",
       "      <td> 37.1</td>\n",
       "    </tr>\n",
       "    <tr>\n",
       "      <th>4</th>\n",
       "      <td> Fe_bcc_5.38_11.out</td>\n",
       "      <td> 50</td>\n",
       "      <td> 112</td>\n",
       "      <td> 5.38</td>\n",
       "      <td>-329.262501</td>\n",
       "      <td> 0</td>\n",
       "      <td> 34.8</td>\n",
       "    </tr>\n",
       "    <tr>\n",
       "      <th>5</th>\n",
       "      <td> Fe_bcc_5.38_12.out</td>\n",
       "      <td> 50</td>\n",
       "      <td> 144</td>\n",
       "      <td> 5.38</td>\n",
       "      <td>-329.262704</td>\n",
       "      <td> 0</td>\n",
       "      <td> 51.4</td>\n",
       "    </tr>\n",
       "    <tr>\n",
       "      <th>6</th>\n",
       "      <td> Fe_bcc_5.38_13.out</td>\n",
       "      <td> 50</td>\n",
       "      <td> 168</td>\n",
       "      <td> 5.38</td>\n",
       "      <td>-329.262782</td>\n",
       "      <td> 0</td>\n",
       "      <td> 56.2</td>\n",
       "    </tr>\n",
       "    <tr>\n",
       "      <th>7</th>\n",
       "      <td>  Fe_bcc_5.39_7.out</td>\n",
       "      <td> 50</td>\n",
       "      <td>  40</td>\n",
       "      <td> 5.39</td>\n",
       "      <td>-329.263356</td>\n",
       "      <td> 0</td>\n",
       "      <td> 20.1</td>\n",
       "    </tr>\n",
       "    <tr>\n",
       "      <th>8</th>\n",
       "      <td>  Fe_bcc_5.39_8.out</td>\n",
       "      <td> 50</td>\n",
       "      <td>  58</td>\n",
       "      <td> 5.39</td>\n",
       "      <td>-329.261880</td>\n",
       "      <td> 0</td>\n",
       "      <td> 30.4</td>\n",
       "    </tr>\n",
       "    <tr>\n",
       "      <th>9</th>\n",
       "      <td>  Fe_bcc_5.39_9.out</td>\n",
       "      <td> 50</td>\n",
       "      <td>  70</td>\n",
       "      <td> 5.39</td>\n",
       "      <td>-329.262751</td>\n",
       "      <td> 0</td>\n",
       "      <td> 36.7</td>\n",
       "    </tr>\n",
       "  </tbody>\n",
       "</table>\n",
       "</div>"
      ],
      "text/plain": [
       "             filename  ecut  nkpts  alat      energy  total_force  cpu_time\n",
       "0   Fe_bcc_5.38_7.out    50     40  5.38 -329.263384            0      19.7\n",
       "1   Fe_bcc_5.38_8.out    50     58  5.38 -329.262011            0      30.0\n",
       "2   Fe_bcc_5.38_9.out    50     70  5.38 -329.262817            0      36.9\n",
       "3  Fe_bcc_5.38_10.out    50     94  5.38 -329.263102            0      37.1\n",
       "4  Fe_bcc_5.38_11.out    50    112  5.38 -329.262501            0      34.8\n",
       "5  Fe_bcc_5.38_12.out    50    144  5.38 -329.262704            0      51.4\n",
       "6  Fe_bcc_5.38_13.out    50    168  5.38 -329.262782            0      56.2\n",
       "7   Fe_bcc_5.39_7.out    50     40  5.39 -329.263356            0      20.1\n",
       "8   Fe_bcc_5.39_8.out    50     58  5.39 -329.261880            0      30.4\n",
       "9   Fe_bcc_5.39_9.out    50     70  5.39 -329.262751            0      36.7"
      ]
     },
     "execution_count": 6,
     "metadata": {},
     "output_type": "execute_result"
    }
   ],
   "source": [
    "datafile.head(10)"
   ]
  },
  {
   "cell_type": "code",
   "execution_count": 8,
   "metadata": {
    "collapsed": false
   },
   "outputs": [],
   "source": [
    "gb = datafile.groupby('alat')"
   ]
  },
  {
   "cell_type": "code",
   "execution_count": 10,
   "metadata": {
    "collapsed": false
   },
   "outputs": [
    {
     "data": {
      "text/plain": [
       "{5.3799999999999999: [0, 1, 2, 3, 4, 5, 6],\n",
       " 5.3899999999999997: [7, 8, 9, 10, 11, 12, 13],\n",
       " 5.4000000000000004: [14, 15, 16, 17, 18, 19, 20],\n",
       " 5.4100000000000001: [21, 22, 23, 24, 25, 26, 27],\n",
       " 5.4199999999999999: [28, 29, 30, 31, 32, 33, 34],\n",
       " 5.4299999999999997: [35, 36, 37, 38, 39, 40, 41],\n",
       " 5.4400000000000004: [42, 43, 44, 45, 46, 47, 48],\n",
       " 5.4500000000000002: [49, 50, 51, 52, 53, 54, 55],\n",
       " 5.46: [56, 57, 58, 59, 60, 61, 62]}"
      ]
     },
     "execution_count": 10,
     "metadata": {},
     "output_type": "execute_result"
    }
   ],
   "source": [
    "gb.groups"
   ]
  },
  {
   "cell_type": "code",
   "execution_count": 16,
   "metadata": {
    "collapsed": false
   },
   "outputs": [
    {
     "name": "stdout",
     "output_type": "stream",
     "text": [
      "[3, 10, 17, 24, 31, 38, 45, 52, 59]\n"
     ]
    },
    {
     "name": "stderr",
     "output_type": "stream",
     "text": [
      "/Library/Frameworks/Python.framework/Versions/2.7/lib/python2.7/site-packages/IPython/kernel/__main__.py:5: SettingWithCopyWarning: \n",
      "A value is trying to be set on a copy of a slice from a DataFrame\n",
      "\n",
      "See the the caveats in the documentation: http://pandas.pydata.org/pandas-docs/stable/indexing.html#indexing-view-versus-copy\n"
     ]
    },
    {
     "data": {
      "text/html": [
       "<div style=\"max-height:1000px;max-width:1500px;overflow:auto;\">\n",
       "<table border=\"1\" class=\"dataframe\">\n",
       "  <thead>\n",
       "    <tr style=\"text-align: right;\">\n",
       "      <th></th>\n",
       "      <th>filename</th>\n",
       "      <th>ecut</th>\n",
       "      <th>nkpts</th>\n",
       "      <th>alat</th>\n",
       "      <th>energy</th>\n",
       "      <th>cpu_time</th>\n",
       "    </tr>\n",
       "  </thead>\n",
       "  <tbody>\n",
       "    <tr>\n",
       "      <th>3 </th>\n",
       "      <td> Fe_bcc_5.38_10.out</td>\n",
       "      <td> 50</td>\n",
       "      <td> 94</td>\n",
       "      <td> 5.38</td>\n",
       "      <td>-329.263102</td>\n",
       "      <td> 37.1</td>\n",
       "    </tr>\n",
       "    <tr>\n",
       "      <th>10</th>\n",
       "      <td> Fe_bcc_5.39_10.out</td>\n",
       "      <td> 50</td>\n",
       "      <td> 94</td>\n",
       "      <td> 5.39</td>\n",
       "      <td>-329.262996</td>\n",
       "      <td> 37.3</td>\n",
       "    </tr>\n",
       "    <tr>\n",
       "      <th>17</th>\n",
       "      <td>  Fe_bcc_5.4_10.out</td>\n",
       "      <td> 50</td>\n",
       "      <td> 94</td>\n",
       "      <td> 5.40</td>\n",
       "      <td>-329.262947</td>\n",
       "      <td> 35.5</td>\n",
       "    </tr>\n",
       "    <tr>\n",
       "      <th>24</th>\n",
       "      <td> Fe_bcc_5.41_10.out</td>\n",
       "      <td> 50</td>\n",
       "      <td> 94</td>\n",
       "      <td> 5.41</td>\n",
       "      <td>-329.262775</td>\n",
       "      <td> 32.2</td>\n",
       "    </tr>\n",
       "    <tr>\n",
       "      <th>31</th>\n",
       "      <td> Fe_bcc_5.42_10.out</td>\n",
       "      <td> 50</td>\n",
       "      <td> 94</td>\n",
       "      <td> 5.42</td>\n",
       "      <td>-329.262360</td>\n",
       "      <td> 37.6</td>\n",
       "    </tr>\n",
       "    <tr>\n",
       "      <th>38</th>\n",
       "      <td> Fe_bcc_5.43_10.out</td>\n",
       "      <td> 50</td>\n",
       "      <td> 94</td>\n",
       "      <td> 5.43</td>\n",
       "      <td>-329.262179</td>\n",
       "      <td> 38.1</td>\n",
       "    </tr>\n",
       "    <tr>\n",
       "      <th>45</th>\n",
       "      <td> Fe_bcc_5.44_10.out</td>\n",
       "      <td> 50</td>\n",
       "      <td> 94</td>\n",
       "      <td> 5.44</td>\n",
       "      <td>-329.261858</td>\n",
       "      <td> 29.4</td>\n",
       "    </tr>\n",
       "    <tr>\n",
       "      <th>52</th>\n",
       "      <td> Fe_bcc_5.45_10.out</td>\n",
       "      <td> 50</td>\n",
       "      <td> 94</td>\n",
       "      <td> 5.45</td>\n",
       "      <td>-329.261508</td>\n",
       "      <td> 38.1</td>\n",
       "    </tr>\n",
       "    <tr>\n",
       "      <th>59</th>\n",
       "      <td> Fe_bcc_5.46_10.out</td>\n",
       "      <td> 50</td>\n",
       "      <td> 94</td>\n",
       "      <td> 5.46</td>\n",
       "      <td>-329.261207</td>\n",
       "      <td> 42.8</td>\n",
       "    </tr>\n",
       "  </tbody>\n",
       "</table>\n",
       "</div>"
      ],
      "text/plain": [
       "              filename  ecut  nkpts  alat      energy  cpu_time\n",
       "3   Fe_bcc_5.38_10.out    50     94  5.38 -329.263102      37.1\n",
       "10  Fe_bcc_5.39_10.out    50     94  5.39 -329.262996      37.3\n",
       "17   Fe_bcc_5.4_10.out    50     94  5.40 -329.262947      35.5\n",
       "24  Fe_bcc_5.41_10.out    50     94  5.41 -329.262775      32.2\n",
       "31  Fe_bcc_5.42_10.out    50     94  5.42 -329.262360      37.6\n",
       "38  Fe_bcc_5.43_10.out    50     94  5.43 -329.262179      38.1\n",
       "45  Fe_bcc_5.44_10.out    50     94  5.44 -329.261858      29.4\n",
       "52  Fe_bcc_5.45_10.out    50     94  5.45 -329.261508      38.1\n",
       "59  Fe_bcc_5.46_10.out    50     94  5.46 -329.261207      42.8"
      ]
     },
     "execution_count": 16,
     "metadata": {},
     "output_type": "execute_result"
    }
   ],
   "source": [
    "mini_index_list = []\n",
    "for k, gp in gb:\n",
    "#     print 'key=' +str(k)\n",
    "    df = gb.get_group(k)\n",
    "    df.drop('total_force',axis=1,inplace=True)\n",
    "    df_mod = df[df['nkpts']>60]\n",
    "    minenergy_index = df_mod['energy'].idxmin()\n",
    "    mini_index_list.append(minenergy_index)\n",
    "print mini_index_list\n",
    "    \n",
    "df_mini_energy = pd.DataFrame(datafile,index=mini_index_list)\n",
    "df_mini_energy.drop('total_force',axis=1,inplace=True)\n",
    "df_mini_energy"
   ]
  },
  {
   "cell_type": "code",
   "execution_count": 17,
   "metadata": {
    "collapsed": false
   },
   "outputs": [],
   "source": [
    "x = df_mini_energy['alat'].tolist()\n",
    "y_energy = df_mini_energy['energy'].tolist()"
   ]
  },
  {
   "cell_type": "code",
   "execution_count": 18,
   "metadata": {
    "collapsed": false
   },
   "outputs": [
    {
     "data": {
      "image/png": "[encoded data removed]",
      "text/plain": [
       "<matplotlib.figure.Figure at 0x107f05f10>"
      ]
     },
     "metadata": {},
     "output_type": "display_data"
    }
   ],
   "source": [
    "fig, ax0=plt.subplots(nrows=1)\n",
    "fig.set_size_inches(10,10)\n",
    "\n",
    "ax0.scatter(x, y_energy,marker='o',alpha=0.75,s=60,c='r')\n",
    "ax0.plot(x,y_energy,c='black')\n",
    "ax0.set_title('Energy VS Lattice Constant',fontsize=30,y=1.05)\n",
    "ax0.set_xlabel('Lattice Parameter (a.u)',fontsize=24)\n",
    "ax0.set_ylabel(r'Total Energy (Ry)',fontsize=20)\n",
    "# ax0.set_ylim(-93.456,-93.44)\n",
    "ax0.tick_params(labelsize = 18)\n",
    "# ax0.annotate('Lowest Energy: 10.33 a.u.', xy=(10.33, -93.45421),  xycoords='data',\n",
    "#                 xytext=(-50, -30), textcoords='offset points',\n",
    "#                 arrowprops=dict(arrowstyle=\"->\",\n",
    "#                                 connectionstyle=\"angle3,angleA=0,angleB=-90\"),fontsize=15\n",
    "#                 )\n",
    "\n",
    "# ax1.scatter(x,y_conver,marker='o',alpha=0.75, s=60,c='b')\n",
    "# ax1.plot(x,y_conver,c='black')\n",
    "# ax1.set_title('Force Convergence Vs K-points',fontsize=24,y=1.05)\n",
    "# ax1.set_xlabel('# of K-points',fontsize=24)\n",
    "# ax1.set_ylabel(r'Force Converge $meV/\\AA$',fontsize=18)\n",
    "# # ax1.set_yscale('log')\n",
    "# ax1.set_ylim(-1,40)\n",
    "# ax1.annotate(r'Convergence < 5 $meV/\\AA$ # Kpoints: 205', xy=(207, 5),  xycoords='data',\n",
    "#                 xytext=(0.95, 0.95), textcoords='axes fraction',\n",
    "#                 arrowprops=dict(facecolor='black', shrink=0.05),\n",
    "#                 horizontalalignment='right', verticalalignment='top',fontsize=16\n",
    "#                 )\n",
    "# ax1.tick_params(labelsize = 18)\n",
    "\n",
    "plt.subplots_adjust(hspace=0.5)\n",
    "plt.show()"
   ]
  },
  {
   "cell_type": "code",
   "execution_count": 18,
   "metadata": {
    "collapsed": true
   },
   "outputs": [],
   "source": [
    "plt.show()"
   ]
  }
 ],
 "metadata": {
  "kernelspec": {
   "display_name": "Python 2",
   "language": "python",
   "name": "python2"
  },
  "language_info": {
   "codemirror_mode": {
    "name": "ipython",
    "version": 2
   },
   "file_extension": ".py",
   "mimetype": "text/x-python",
   "name": "python",
   "nbconvert_exporter": "python",
   "pygments_lexer": "ipython2",
   "version": "2.7.6"
  }
 },
 "nbformat": 4,
 "nbformat_minor": 0
}
