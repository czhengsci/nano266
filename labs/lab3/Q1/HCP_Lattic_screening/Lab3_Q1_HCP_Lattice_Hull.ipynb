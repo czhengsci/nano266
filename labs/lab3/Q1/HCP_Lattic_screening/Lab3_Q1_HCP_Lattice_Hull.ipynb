{
 "cells": [
  {
   "cell_type": "code",
   "execution_count": 1,
   "metadata": {
    "collapsed": true
   },
   "outputs": [],
   "source": [
    "import matplotlib.pyplot as plt\n",
    "%matplotlib inline\n",
    "from pymatgen.util.plotting_utils import get_publication_quality_plot"
   ]
  },
  {
   "cell_type": "code",
   "execution_count": 16,
   "metadata": {
    "collapsed": true
   },
   "outputs": [],
   "source": [
    "import numpy as np\n",
    "import math\n",
    "import pandas as pd"
   ]
  },
  {
   "cell_type": "code",
   "execution_count": 19,
   "metadata": {
    "collapsed": false
   },
   "outputs": [
    {
     "name": "stdout",
     "output_type": "stream",
     "text": [
      "Fe.hcp.pw.in.template           Fe_HCP_3.6_173_9_5.out          Fe_HCP_4.4_172_9_5.out          Fe_HCP_4.8_174_9_5.out          Fe_HCP_5.4_173_9_5.out          Fe_HCP_5_172_9_5.out            Lab3_Q1_HCP_Lattice_Hull.ipynb\r\n",
      "Fe_HCP_3.2_172_9_5.out          Fe_HCP_3.6_174_9_5.out          Fe_HCP_4.4_173_9_5.out          Fe_HCP_4_172_9_5.out            Fe_HCP_5.4_174_9_5.out          Fe_HCP_5_173_9_5.out            Lab3_Q1_Hull.ipynb\r\n",
      "Fe_HCP_3.2_173_9_5.out          Fe_HCP_3.8_172_9_5.out          Fe_HCP_4.4_174_9_5.out          Fe_HCP_4_173_9_5.out            Fe_HCP_5.6_172_9_5.out          Fe_HCP_5_174_9_5.out            \u001b[31manalyze.py\u001b[m\u001b[m*\r\n",
      "Fe_HCP_3.2_174_9_5.out          Fe_HCP_3.8_173_9_5.out          Fe_HCP_4.6_172_9_5.out          Fe_HCP_4_174_9_5.out            Fe_HCP_5.6_173_9_5.out          Fe_HCP_6_172_9_5.out            results.csv\r\n",
      "Fe_HCP_3.4_172_9_5.out          Fe_HCP_3.8_174_9_5.out          Fe_HCP_4.6_173_9_5.out          Fe_HCP_5.2_172_9_5.out          Fe_HCP_5.6_174_9_5.out          Fe_HCP_6_173_9_5.out\r\n",
      "Fe_HCP_3.4_173_9_5.out          Fe_HCP_4.2_172_9_5.out          Fe_HCP_4.6_174_9_5.out          Fe_HCP_5.2_173_9_5.out          Fe_HCP_5.8_172_9_5.out          Fe_HCP_6_174_9_5.out\r\n",
      "Fe_HCP_3.4_174_9_5.out          Fe_HCP_4.2_173_9_5.out          Fe_HCP_4.8_172_9_5.out          Fe_HCP_5.2_174_9_5.out          Fe_HCP_5.8_173_9_5.out          HPC_template_gen_only.py\r\n",
      "Fe_HCP_3.6_172_9_5.out          Fe_HCP_4.2_174_9_5.out          Fe_HCP_4.8_173_9_5.out          Fe_HCP_5.4_172_9_5.out          Fe_HCP_5.8_174_9_5.out          Lab3_Q1_HCP.ipynb\r\n"
     ]
    }
   ],
   "source": [
    "ls"
   ]
  },
  {
   "cell_type": "code",
   "execution_count": 7,
   "metadata": {
    "collapsed": true
   },
   "outputs": [],
   "source": [
    "datafile2 = pd.read_csv('results.csv')"
   ]
  },
  {
   "cell_type": "code",
   "execution_count": 21,
   "metadata": {
    "collapsed": false
   },
   "outputs": [
    {
     "data": {
      "text/html": [
       "<div style=\"max-height:1000px;max-width:1500px;overflow:auto;\">\n",
       "<table border=\"1\" class=\"dataframe\">\n",
       "  <thead>\n",
       "    <tr style=\"text-align: right;\">\n",
       "      <th></th>\n",
       "      <th>filename</th>\n",
       "      <th>ecut</th>\n",
       "      <th>nkpts</th>\n",
       "      <th>alat_1</th>\n",
       "      <th>alat_3</th>\n",
       "      <th>energy</th>\n",
       "      <th>unit_cell volume</th>\n",
       "      <th>cpu_time</th>\n",
       "      <th>energy/atom</th>\n",
       "      <th>unit cell volume (A^3)</th>\n",
       "    </tr>\n",
       "  </thead>\n",
       "  <tbody>\n",
       "    <tr>\n",
       "      <th>0</th>\n",
       "      <td> Fe_HCP_3.2_172_9_5.out</td>\n",
       "      <td> 50</td>\n",
       "      <td> 72</td>\n",
       "      <td> 3.2</td>\n",
       "      <td> 1.72</td>\n",
       "      <td>-654.875711</td>\n",
       "      <td> 48.8100</td>\n",
       "      <td> 34.14</td>\n",
       "      <td>-327.437856</td>\n",
       "      <td>  7.232887</td>\n",
       "    </tr>\n",
       "    <tr>\n",
       "      <th>1</th>\n",
       "      <td> Fe_HCP_3.2_173_9_5.out</td>\n",
       "      <td> 50</td>\n",
       "      <td> 72</td>\n",
       "      <td> 3.2</td>\n",
       "      <td> 1.73</td>\n",
       "      <td>-654.926505</td>\n",
       "      <td> 49.0938</td>\n",
       "      <td> 34.55</td>\n",
       "      <td>-327.463253</td>\n",
       "      <td>  7.274942</td>\n",
       "    </tr>\n",
       "    <tr>\n",
       "      <th>2</th>\n",
       "      <td> Fe_HCP_3.2_174_9_5.out</td>\n",
       "      <td> 50</td>\n",
       "      <td> 72</td>\n",
       "      <td> 3.2</td>\n",
       "      <td> 1.74</td>\n",
       "      <td>-654.976120</td>\n",
       "      <td> 49.3776</td>\n",
       "      <td> 28.22</td>\n",
       "      <td>-327.488060</td>\n",
       "      <td>  7.316997</td>\n",
       "    </tr>\n",
       "    <tr>\n",
       "      <th>3</th>\n",
       "      <td> Fe_HCP_3.4_172_9_5.out</td>\n",
       "      <td> 50</td>\n",
       "      <td> 72</td>\n",
       "      <td> 3.4</td>\n",
       "      <td> 1.72</td>\n",
       "      <td>-656.365948</td>\n",
       "      <td> 58.5458</td>\n",
       "      <td> 31.73</td>\n",
       "      <td>-328.182974</td>\n",
       "      <td>  8.675582</td>\n",
       "    </tr>\n",
       "    <tr>\n",
       "      <th>4</th>\n",
       "      <td> Fe_HCP_3.4_173_9_5.out</td>\n",
       "      <td> 50</td>\n",
       "      <td> 72</td>\n",
       "      <td> 3.4</td>\n",
       "      <td> 1.73</td>\n",
       "      <td>-656.399187</td>\n",
       "      <td> 58.8862</td>\n",
       "      <td> 31.02</td>\n",
       "      <td>-328.199594</td>\n",
       "      <td>  8.726024</td>\n",
       "    </tr>\n",
       "    <tr>\n",
       "      <th>5</th>\n",
       "      <td> Fe_HCP_3.4_174_9_5.out</td>\n",
       "      <td> 50</td>\n",
       "      <td> 72</td>\n",
       "      <td> 3.4</td>\n",
       "      <td> 1.74</td>\n",
       "      <td>-656.431491</td>\n",
       "      <td> 59.2266</td>\n",
       "      <td> 30.75</td>\n",
       "      <td>-328.215745</td>\n",
       "      <td>  8.776466</td>\n",
       "    </tr>\n",
       "    <tr>\n",
       "      <th>6</th>\n",
       "      <td> Fe_HCP_3.6_172_9_5.out</td>\n",
       "      <td> 50</td>\n",
       "      <td> 72</td>\n",
       "      <td> 3.6</td>\n",
       "      <td> 1.72</td>\n",
       "      <td>-657.305976</td>\n",
       "      <td> 69.4971</td>\n",
       "      <td> 34.33</td>\n",
       "      <td>-328.652988</td>\n",
       "      <td> 10.298395</td>\n",
       "    </tr>\n",
       "    <tr>\n",
       "      <th>7</th>\n",
       "      <td> Fe_HCP_3.6_173_9_5.out</td>\n",
       "      <td> 50</td>\n",
       "      <td> 72</td>\n",
       "      <td> 3.6</td>\n",
       "      <td> 1.73</td>\n",
       "      <td>-657.327463</td>\n",
       "      <td> 69.9011</td>\n",
       "      <td> 39.00</td>\n",
       "      <td>-328.663731</td>\n",
       "      <td> 10.358262</td>\n",
       "    </tr>\n",
       "    <tr>\n",
       "      <th>8</th>\n",
       "      <td> Fe_HCP_3.6_174_9_5.out</td>\n",
       "      <td> 50</td>\n",
       "      <td> 72</td>\n",
       "      <td> 3.6</td>\n",
       "      <td> 1.74</td>\n",
       "      <td>-657.347853</td>\n",
       "      <td> 70.3052</td>\n",
       "      <td> 39.24</td>\n",
       "      <td>-328.673927</td>\n",
       "      <td> 10.418143</td>\n",
       "    </tr>\n",
       "    <tr>\n",
       "      <th>9</th>\n",
       "      <td> Fe_HCP_3.8_172_9_5.out</td>\n",
       "      <td> 50</td>\n",
       "      <td> 72</td>\n",
       "      <td> 3.8</td>\n",
       "      <td> 1.72</td>\n",
       "      <td>-657.883120</td>\n",
       "      <td> 81.7353</td>\n",
       "      <td> 39.22</td>\n",
       "      <td>-328.941560</td>\n",
       "      <td> 12.111907</td>\n",
       "    </tr>\n",
       "  </tbody>\n",
       "</table>\n",
       "</div>"
      ],
      "text/plain": [
       "                 filename  ecut  nkpts  alat_1  alat_3      energy  \\\n",
       "0  Fe_HCP_3.2_172_9_5.out    50     72     3.2    1.72 -654.875711   \n",
       "1  Fe_HCP_3.2_173_9_5.out    50     72     3.2    1.73 -654.926505   \n",
       "2  Fe_HCP_3.2_174_9_5.out    50     72     3.2    1.74 -654.976120   \n",
       "3  Fe_HCP_3.4_172_9_5.out    50     72     3.4    1.72 -656.365948   \n",
       "4  Fe_HCP_3.4_173_9_5.out    50     72     3.4    1.73 -656.399187   \n",
       "5  Fe_HCP_3.4_174_9_5.out    50     72     3.4    1.74 -656.431491   \n",
       "6  Fe_HCP_3.6_172_9_5.out    50     72     3.6    1.72 -657.305976   \n",
       "7  Fe_HCP_3.6_173_9_5.out    50     72     3.6    1.73 -657.327463   \n",
       "8  Fe_HCP_3.6_174_9_5.out    50     72     3.6    1.74 -657.347853   \n",
       "9  Fe_HCP_3.8_172_9_5.out    50     72     3.8    1.72 -657.883120   \n",
       "\n",
       "   unit_cell volume  cpu_time  energy/atom  unit cell volume (A^3)  \n",
       "0           48.8100     34.14  -327.437856                7.232887  \n",
       "1           49.0938     34.55  -327.463253                7.274942  \n",
       "2           49.3776     28.22  -327.488060                7.316997  \n",
       "3           58.5458     31.73  -328.182974                8.675582  \n",
       "4           58.8862     31.02  -328.199594                8.726024  \n",
       "5           59.2266     30.75  -328.215745                8.776466  \n",
       "6           69.4971     34.33  -328.652988               10.298395  \n",
       "7           69.9011     39.00  -328.663731               10.358262  \n",
       "8           70.3052     39.24  -328.673927               10.418143  \n",
       "9           81.7353     39.22  -328.941560               12.111907  "
      ]
     },
     "execution_count": 21,
     "metadata": {},
     "output_type": "execute_result"
    }
   ],
   "source": [
    "datafile2.head(10)"
   ]
  },
  {
   "cell_type": "code",
   "execution_count": 18,
   "metadata": {
    "collapsed": true
   },
   "outputs": [],
   "source": [
    "datafile2['energy/atom'] = datafile2['energy']/2"
   ]
  },
  {
   "cell_type": "code",
   "execution_count": 20,
   "metadata": {
    "collapsed": false
   },
   "outputs": [],
   "source": [
    "datafile2['unit cell volume (A^3)'] = datafile2['unit_cell volume'] * vol_cons"
   ]
  },
  {
   "cell_type": "code",
   "execution_count": 17,
   "metadata": {
    "collapsed": false
   },
   "outputs": [],
   "source": [
    "vol_cons = math.pow(0.529177,3)"
   ]
  },
  {
   "cell_type": "code",
   "execution_count": 22,
   "metadata": {
    "collapsed": false
   },
   "outputs": [],
   "source": [
    "datafile_172 = datafile2[(datafile2['alat_3']==1.72)]\n",
    "datafile_173 = datafile2[(datafile2['alat_3']==1.73)]\n",
    "datafile_174 = datafile2[(datafile2['alat_3']==1.74)]\n",
    "gb_172 = datafile_172.sort('alat_1')\n",
    "gb_173 = datafile_173.sort('alat_1')\n",
    "gb_174 = datafile_174.sort('alat_1')"
   ]
  },
  {
   "cell_type": "code",
   "execution_count": 23,
   "metadata": {
    "collapsed": false
   },
   "outputs": [],
   "source": [
    "gb_172['energy per atom'] = gb_172['energy']/2\n",
    "gb_173['energy per atom'] = gb_173['energy']/2\n",
    "gb_174['energy per atom'] = gb_174['energy']/2"
   ]
  },
  {
   "cell_type": "code",
   "execution_count": 24,
   "metadata": {
    "collapsed": false
   },
   "outputs": [
    {
     "data": {
      "text/plain": [
       "filename                  Fe_HCP_4.5_172_9_5.out\n",
       "ecut                                          50\n",
       "nkpts                                         72\n",
       "alat_1                                       4.5\n",
       "alat_3                                      1.72\n",
       "energy                                 -658.4969\n",
       "unit_cell volume                        135.7365\n",
       "cpu_time                                  138.13\n",
       "energy/atom                            -329.2485\n",
       "unit cell volume (A^3)                  20.11405\n",
       "energy per atom                        -329.2485\n",
       "Name: 24, dtype: object"
      ]
     },
     "execution_count": 24,
     "metadata": {},
     "output_type": "execute_result"
    }
   ],
   "source": [
    "gb_172.ix[gb_172['energy per atom'].idxmin()]"
   ]
  },
  {
   "cell_type": "code",
   "execution_count": 25,
   "metadata": {
    "collapsed": false
   },
   "outputs": [
    {
     "data": {
      "text/plain": [
       "filename                  Fe_HCP_4.5_173_9_5.out\n",
       "ecut                                          50\n",
       "nkpts                                         72\n",
       "alat_1                                       4.5\n",
       "alat_3                                      1.73\n",
       "energy                                 -658.4957\n",
       "unit_cell volume                        136.5257\n",
       "cpu_time                                  182.43\n",
       "energy/atom                            -329.2478\n",
       "unit cell volume (A^3)                    20.231\n",
       "energy per atom                        -329.2478\n",
       "Name: 25, dtype: object"
      ]
     },
     "execution_count": 25,
     "metadata": {},
     "output_type": "execute_result"
    }
   ],
   "source": [
    "gb_173.ix[gb_173['energy per atom'].idxmin()]"
   ]
  },
  {
   "cell_type": "code",
   "execution_count": 13,
   "metadata": {
    "collapsed": false
   },
   "outputs": [
    {
     "data": {
      "text/plain": [
       "filename            Fe_HCP_4.5_174_9_5.out\n",
       "ecut                                    50\n",
       "nkpts                                   72\n",
       "alat_1                                 4.5\n",
       "alat_3                                1.74\n",
       "energy                           -658.4945\n",
       "unit_cell volume                  137.3148\n",
       "cpu_time                            136.54\n",
       "energy per atom                  -329.2472\n",
       "Name: 26, dtype: object"
      ]
     },
     "execution_count": 13,
     "metadata": {},
     "output_type": "execute_result"
    }
   ],
   "source": [
    "gb_174.ix[gb_174['energy per atom'].idxmin()]"
   ]
  },
  {
   "cell_type": "code",
   "execution_count": 31,
   "metadata": {
    "collapsed": true
   },
   "outputs": [],
   "source": [
    "datafile_mod = gb_172[(gb_172['alat_1']>4.4) & (gb_172['alat_1']<4.8)]"
   ]
  },
  {
   "cell_type": "code",
   "execution_count": 32,
   "metadata": {
    "collapsed": false
   },
   "outputs": [
    {
     "data": {
      "text/html": [
       "<div style=\"max-height:1000px;max-width:1500px;overflow:auto;\">\n",
       "<table border=\"1\" class=\"dataframe\">\n",
       "  <thead>\n",
       "    <tr style=\"text-align: right;\">\n",
       "      <th></th>\n",
       "      <th>filename</th>\n",
       "      <th>ecut</th>\n",
       "      <th>nkpts</th>\n",
       "      <th>alat_1</th>\n",
       "      <th>alat_3</th>\n",
       "      <th>energy</th>\n",
       "      <th>unit_cell volume</th>\n",
       "      <th>cpu_time</th>\n",
       "      <th>energy/atom</th>\n",
       "      <th>unit cell volume (A^3)</th>\n",
       "      <th>energy per atom</th>\n",
       "    </tr>\n",
       "  </thead>\n",
       "  <tbody>\n",
       "    <tr>\n",
       "      <th>24</th>\n",
       "      <td> Fe_HCP_4.5_172_9_5.out</td>\n",
       "      <td> 50</td>\n",
       "      <td>  72</td>\n",
       "      <td> 4.5</td>\n",
       "      <td> 1.72</td>\n",
       "      <td>-658.496918</td>\n",
       "      <td> 135.7365</td>\n",
       "      <td> 138.13</td>\n",
       "      <td>-329.248459</td>\n",
       "      <td> 20.114050</td>\n",
       "      <td>-329.248459</td>\n",
       "    </tr>\n",
       "    <tr>\n",
       "      <th>27</th>\n",
       "      <td> Fe_HCP_4.6_172_9_5.out</td>\n",
       "      <td> 50</td>\n",
       "      <td>  72</td>\n",
       "      <td> 4.6</td>\n",
       "      <td> 1.72</td>\n",
       "      <td>-658.468702</td>\n",
       "      <td> 144.9882</td>\n",
       "      <td> 572.07</td>\n",
       "      <td>-329.234351</td>\n",
       "      <td> 21.485009</td>\n",
       "      <td>-329.234351</td>\n",
       "    </tr>\n",
       "    <tr>\n",
       "      <th>30</th>\n",
       "      <td> Fe_HCP_4.7_172_9_5.out</td>\n",
       "      <td> 50</td>\n",
       "      <td> 100</td>\n",
       "      <td> 4.7</td>\n",
       "      <td> 1.72</td>\n",
       "      <td>-658.491478</td>\n",
       "      <td> 154.6510</td>\n",
       "      <td> 115.62</td>\n",
       "      <td>-329.245739</td>\n",
       "      <td> 22.916886</td>\n",
       "      <td>-329.245739</td>\n",
       "    </tr>\n",
       "  </tbody>\n",
       "</table>\n",
       "</div>"
      ],
      "text/plain": [
       "                  filename  ecut  nkpts  alat_1  alat_3      energy  \\\n",
       "24  Fe_HCP_4.5_172_9_5.out    50     72     4.5    1.72 -658.496918   \n",
       "27  Fe_HCP_4.6_172_9_5.out    50     72     4.6    1.72 -658.468702   \n",
       "30  Fe_HCP_4.7_172_9_5.out    50    100     4.7    1.72 -658.491478   \n",
       "\n",
       "    unit_cell volume  cpu_time  energy/atom  unit cell volume (A^3)  \\\n",
       "24          135.7365    138.13  -329.248459               20.114050   \n",
       "27          144.9882    572.07  -329.234351               21.485009   \n",
       "30          154.6510    115.62  -329.245739               22.916886   \n",
       "\n",
       "    energy per atom  \n",
       "24      -329.248459  \n",
       "27      -329.234351  \n",
       "30      -329.245739  "
      ]
     },
     "execution_count": 32,
     "metadata": {},
     "output_type": "execute_result"
    }
   ],
   "source": [
    "datafile_mod.head()"
   ]
  },
  {
   "cell_type": "code",
   "execution_count": 28,
   "metadata": {
    "collapsed": false
   },
   "outputs": [],
   "source": [
    "x = gb_172['alat_1'].tolist()\n",
    "y_energy = gb_172['energy/atom'].tolist()"
   ]
  },
  {
   "cell_type": "code",
   "execution_count": 58,
   "metadata": {
    "collapsed": false
   },
   "outputs": [],
   "source": [
    "y_energy = datafile_mod['energy'].tolist()\n",
    "# y_conver = datafile['Force Difference (meV/Angstrom)'].tolist()"
   ]
  },
  {
   "cell_type": "code",
   "execution_count": 30,
   "metadata": {
    "collapsed": false
   },
   "outputs": [
    {
     "data": {
      "image/png": "[encoded data removed]",
      "text/plain": [
       "<matplotlib.figure.Figure at 0x108088610>"
      ]
     },
     "metadata": {},
     "output_type": "display_data"
    }
   ],
   "source": [
    "fig, ax0=plt.subplots(nrows=1)\n",
    "fig.set_size_inches(10,10)\n",
    "\n",
    "ax0.scatter(x, y_energy,marker='o',alpha=0.75,s=60,c='r')\n",
    "ax0.plot(x,y_energy,c='black')\n",
    "ax0.set_title('Energy VS Lattice Constant',fontsize=30,y=1.05)\n",
    "ax0.set_xlabel('Lattice Parameter (a.u)',fontsize=24)\n",
    "ax0.set_ylabel(r'Total Energy (Ry)',fontsize=20)\n",
    "# ax0.set_ylim(-93.456,-93.44)\n",
    "ax0.tick_params(labelsize = 18)\n",
    "ax0.annotate('Lowest Energy: 10.33 a.u.', xy=(10.33, -93.45421),  xycoords='data',\n",
    "                xytext=(-50, -30), textcoords='offset points',\n",
    "                arrowprops=dict(arrowstyle=\"->\",\n",
    "                                connectionstyle=\"angle3,angleA=0,angleB=-90\"),fontsize=15\n",
    "                )\n",
    "\n",
    "# ax1.scatter(x,y_conver,marker='o',alpha=0.75, s=60,c='b')\n",
    "# ax1.plot(x,y_conver,c='black')\n",
    "# ax1.set_title('Force Convergence Vs K-points',fontsize=24,y=1.05)\n",
    "# ax1.set_xlabel('# of K-points',fontsize=24)\n",
    "# ax1.set_ylabel(r'Force Converge $meV/\\AA$',fontsize=18)\n",
    "# # ax1.set_yscale('log')\n",
    "# ax1.set_ylim(-1,40)\n",
    "# ax1.annotate(r'Convergence < 5 $meV/\\AA$ # Kpoints: 205', xy=(207, 5),  xycoords='data',\n",
    "#                 xytext=(0.95, 0.95), textcoords='axes fraction',\n",
    "#                 arrowprops=dict(facecolor='black', shrink=0.05),\n",
    "#                 horizontalalignment='right', verticalalignment='top',fontsize=16\n",
    "#                 )\n",
    "# ax1.tick_params(labelsize = 18)\n",
    "\n",
    "plt.subplots_adjust(hspace=0.5)\n",
    "plt.show()"
   ]
  },
  {
   "cell_type": "code",
   "execution_count": 17,
   "metadata": {
    "collapsed": false
   },
   "outputs": [
    {
     "data": {
      "text/plain": [
       "<matplotlib.text.Text at 0x10891e9d0>"
      ]
     },
     "execution_count": 17,
     "metadata": {},
     "output_type": "execute_result"
    }
   ],
   "source": []
  },
  {
   "cell_type": "code",
   "execution_count": 18,
   "metadata": {
    "collapsed": true
   },
   "outputs": [],
   "source": [
    "plt.show()"
   ]
  }
 ],
 "metadata": {
  "kernelspec": {
   "display_name": "Python 2",
   "language": "python",
   "name": "python2"
  },
  "language_info": {
   "codemirror_mode": {
    "name": "ipython",
    "version": 2
   },
   "file_extension": ".py",
   "mimetype": "text/x-python",
   "name": "python",
   "nbconvert_exporter": "python",
   "pygments_lexer": "ipython2",
   "version": "2.7.6"
  }
 },
 "nbformat": 4,
 "nbformat_minor": 0
}
