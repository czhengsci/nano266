{
 "cells": [
  {
   "cell_type": "code",
   "execution_count": 17,
   "metadata": {
    "collapsed": true
   },
   "outputs": [],
   "source": [
    "import matplotlib.pyplot as plt\n",
    "%matplotlib inline\n",
    "from pymatgen.util.plotting_utils import get_publication_quality_plot"
   ]
  },
  {
   "cell_type": "code",
   "execution_count": 18,
   "metadata": {
    "collapsed": true
   },
   "outputs": [],
   "source": [
    "import numpy as np\n",
    "import pandas as pd"
   ]
  },
  {
   "cell_type": "code",
   "execution_count": 19,
   "metadata": {
    "collapsed": false
   },
   "outputs": [],
   "source": [
    "datafile = pd.read_csv('results.csv')"
   ]
  },
  {
   "cell_type": "code",
   "execution_count": 20,
   "metadata": {
    "collapsed": false
   },
   "outputs": [],
   "source": [
    "datafile = datafile.sort('alat')"
   ]
  },
  {
   "cell_type": "code",
   "execution_count": 26,
   "metadata": {
    "collapsed": false
   },
   "outputs": [
    {
     "data": {
      "text/html": [
       "<div style=\"max-height:1000px;max-width:1500px;overflow:auto;\">\n",
       "<table border=\"1\" class=\"dataframe\">\n",
       "  <thead>\n",
       "    <tr style=\"text-align: right;\">\n",
       "      <th></th>\n",
       "      <th>filename</th>\n",
       "      <th>ecut</th>\n",
       "      <th>nkpts</th>\n",
       "      <th>alat</th>\n",
       "      <th>energy</th>\n",
       "      <th>total_force</th>\n",
       "      <th>cpu_time</th>\n",
       "    </tr>\n",
       "  </thead>\n",
       "  <tbody>\n",
       "    <tr>\n",
       "      <th>0 </th>\n",
       "      <td> Fe_bcc_5.15_9.out</td>\n",
       "      <td> 50</td>\n",
       "      <td> 70</td>\n",
       "      <td> 5.15</td>\n",
       "      <td>-329.254223</td>\n",
       "      <td> 0</td>\n",
       "      <td> 23.6</td>\n",
       "    </tr>\n",
       "    <tr>\n",
       "      <th>2 </th>\n",
       "      <td>  Fe_bcc_5.2_9.out</td>\n",
       "      <td> 50</td>\n",
       "      <td> 70</td>\n",
       "      <td> 5.20</td>\n",
       "      <td>-329.258225</td>\n",
       "      <td> 0</td>\n",
       "      <td> 24.6</td>\n",
       "    </tr>\n",
       "    <tr>\n",
       "      <th>1 </th>\n",
       "      <td> Fe_bcc_5.25_9.out</td>\n",
       "      <td> 50</td>\n",
       "      <td> 70</td>\n",
       "      <td> 5.25</td>\n",
       "      <td>-329.260888</td>\n",
       "      <td> 0</td>\n",
       "      <td> 26.0</td>\n",
       "    </tr>\n",
       "    <tr>\n",
       "      <th>12</th>\n",
       "      <td>  Fe_bcc_5.3_9.out</td>\n",
       "      <td> 50</td>\n",
       "      <td> 70</td>\n",
       "      <td> 5.30</td>\n",
       "      <td>-329.262342</td>\n",
       "      <td> 0</td>\n",
       "      <td> 27.7</td>\n",
       "    </tr>\n",
       "    <tr>\n",
       "      <th>3 </th>\n",
       "      <td> Fe_bcc_5.31_9.out</td>\n",
       "      <td> 50</td>\n",
       "      <td> 70</td>\n",
       "      <td> 5.31</td>\n",
       "      <td>-329.262634</td>\n",
       "      <td> 0</td>\n",
       "      <td> 25.9</td>\n",
       "    </tr>\n",
       "    <tr>\n",
       "      <th>4 </th>\n",
       "      <td> Fe_bcc_5.32_9.out</td>\n",
       "      <td> 50</td>\n",
       "      <td> 70</td>\n",
       "      <td> 5.32</td>\n",
       "      <td>-329.262785</td>\n",
       "      <td> 0</td>\n",
       "      <td> 26.0</td>\n",
       "    </tr>\n",
       "    <tr>\n",
       "      <th>5 </th>\n",
       "      <td> Fe_bcc_5.33_9.out</td>\n",
       "      <td> 50</td>\n",
       "      <td> 70</td>\n",
       "      <td> 5.33</td>\n",
       "      <td>-329.262957</td>\n",
       "      <td> 0</td>\n",
       "      <td> 26.0</td>\n",
       "    </tr>\n",
       "    <tr>\n",
       "      <th>6 </th>\n",
       "      <td> Fe_bcc_5.34_9.out</td>\n",
       "      <td> 50</td>\n",
       "      <td> 70</td>\n",
       "      <td> 5.34</td>\n",
       "      <td>-329.262860</td>\n",
       "      <td> 0</td>\n",
       "      <td> 27.4</td>\n",
       "    </tr>\n",
       "    <tr>\n",
       "      <th>7 </th>\n",
       "      <td> Fe_bcc_5.35_9.out</td>\n",
       "      <td> 50</td>\n",
       "      <td> 70</td>\n",
       "      <td> 5.35</td>\n",
       "      <td>-329.262914</td>\n",
       "      <td> 0</td>\n",
       "      <td> 26.3</td>\n",
       "    </tr>\n",
       "    <tr>\n",
       "      <th>8 </th>\n",
       "      <td> Fe_bcc_5.36_9.out</td>\n",
       "      <td> 50</td>\n",
       "      <td> 70</td>\n",
       "      <td> 5.36</td>\n",
       "      <td>-329.262825</td>\n",
       "      <td> 0</td>\n",
       "      <td> 26.4</td>\n",
       "    </tr>\n",
       "    <tr>\n",
       "      <th>9 </th>\n",
       "      <td> Fe_bcc_5.37_9.out</td>\n",
       "      <td> 50</td>\n",
       "      <td> 70</td>\n",
       "      <td> 5.37</td>\n",
       "      <td>-329.262920</td>\n",
       "      <td> 0</td>\n",
       "      <td> 30.5</td>\n",
       "    </tr>\n",
       "    <tr>\n",
       "      <th>10</th>\n",
       "      <td> Fe_bcc_5.38_9.out</td>\n",
       "      <td> 50</td>\n",
       "      <td> 70</td>\n",
       "      <td> 5.38</td>\n",
       "      <td>-329.262817</td>\n",
       "      <td> 0</td>\n",
       "      <td> 30.2</td>\n",
       "    </tr>\n",
       "    <tr>\n",
       "      <th>11</th>\n",
       "      <td> Fe_bcc_5.39_9.out</td>\n",
       "      <td> 50</td>\n",
       "      <td> 70</td>\n",
       "      <td> 5.39</td>\n",
       "      <td>-329.262751</td>\n",
       "      <td> 0</td>\n",
       "      <td> 30.4</td>\n",
       "    </tr>\n",
       "    <tr>\n",
       "      <th>14</th>\n",
       "      <td>  Fe_bcc_5.4_9.out</td>\n",
       "      <td> 50</td>\n",
       "      <td> 70</td>\n",
       "      <td> 5.40</td>\n",
       "      <td>-329.262704</td>\n",
       "      <td> 0</td>\n",
       "      <td> 31.3</td>\n",
       "    </tr>\n",
       "    <tr>\n",
       "      <th>13</th>\n",
       "      <td> Fe_bcc_5.45_9.out</td>\n",
       "      <td> 50</td>\n",
       "      <td> 70</td>\n",
       "      <td> 5.45</td>\n",
       "      <td>-329.261257</td>\n",
       "      <td> 0</td>\n",
       "      <td> 31.5</td>\n",
       "    </tr>\n",
       "    <tr>\n",
       "      <th>16</th>\n",
       "      <td>  Fe_bcc_5.5_9.out</td>\n",
       "      <td> 50</td>\n",
       "      <td> 70</td>\n",
       "      <td> 5.50</td>\n",
       "      <td>-329.259494</td>\n",
       "      <td> 0</td>\n",
       "      <td> 31.4</td>\n",
       "    </tr>\n",
       "    <tr>\n",
       "      <th>15</th>\n",
       "      <td> Fe_bcc_5.55_9.out</td>\n",
       "      <td> 50</td>\n",
       "      <td> 70</td>\n",
       "      <td> 5.55</td>\n",
       "      <td>-329.257680</td>\n",
       "      <td> 0</td>\n",
       "      <td> 34.0</td>\n",
       "    </tr>\n",
       "  </tbody>\n",
       "</table>\n",
       "</div>"
      ],
      "text/plain": [
       "             filename  ecut  nkpts  alat      energy  total_force  cpu_time\n",
       "0   Fe_bcc_5.15_9.out    50     70  5.15 -329.254223            0      23.6\n",
       "2    Fe_bcc_5.2_9.out    50     70  5.20 -329.258225            0      24.6\n",
       "1   Fe_bcc_5.25_9.out    50     70  5.25 -329.260888            0      26.0\n",
       "12   Fe_bcc_5.3_9.out    50     70  5.30 -329.262342            0      27.7\n",
       "3   Fe_bcc_5.31_9.out    50     70  5.31 -329.262634            0      25.9\n",
       "4   Fe_bcc_5.32_9.out    50     70  5.32 -329.262785            0      26.0\n",
       "5   Fe_bcc_5.33_9.out    50     70  5.33 -329.262957            0      26.0\n",
       "6   Fe_bcc_5.34_9.out    50     70  5.34 -329.262860            0      27.4\n",
       "7   Fe_bcc_5.35_9.out    50     70  5.35 -329.262914            0      26.3\n",
       "8   Fe_bcc_5.36_9.out    50     70  5.36 -329.262825            0      26.4\n",
       "9   Fe_bcc_5.37_9.out    50     70  5.37 -329.262920            0      30.5\n",
       "10  Fe_bcc_5.38_9.out    50     70  5.38 -329.262817            0      30.2\n",
       "11  Fe_bcc_5.39_9.out    50     70  5.39 -329.262751            0      30.4\n",
       "14   Fe_bcc_5.4_9.out    50     70  5.40 -329.262704            0      31.3\n",
       "13  Fe_bcc_5.45_9.out    50     70  5.45 -329.261257            0      31.5\n",
       "16   Fe_bcc_5.5_9.out    50     70  5.50 -329.259494            0      31.4\n",
       "15  Fe_bcc_5.55_9.out    50     70  5.55 -329.257680            0      34.0"
      ]
     },
     "execution_count": 26,
     "metadata": {},
     "output_type": "execute_result"
    }
   ],
   "source": [
    "datafile"
   ]
  },
  {
   "cell_type": "code",
   "execution_count": 25,
   "metadata": {
    "collapsed": false
   },
   "outputs": [
    {
     "data": {
      "text/plain": [
       "filename       Fe_bcc_5.33_9.out\n",
       "ecut                          50\n",
       "nkpts                         70\n",
       "alat                        5.33\n",
       "energy                  -329.263\n",
       "total_force                    0\n",
       "cpu_time                      26\n",
       "Name: 5, dtype: object"
      ]
     },
     "execution_count": 25,
     "metadata": {},
     "output_type": "execute_result"
    }
   ],
   "source": [
    "datafile.ix[datafile['energy'].idxmin()]"
   ]
  },
  {
   "cell_type": "code",
   "execution_count": 22,
   "metadata": {
    "collapsed": false
   },
   "outputs": [],
   "source": [
    "x = datafile['alat'].tolist()\n",
    "y_energy = datafile['energy'].tolist()"
   ]
  },
  {
   "cell_type": "code",
   "execution_count": 33,
   "metadata": {
    "collapsed": false
   },
   "outputs": [
    {
     "data": {
      "image/png": "[encoded data removed]",
      "text/plain": [
       "<matplotlib.figure.Figure at 0x108c9a110>"
      ]
     },
     "metadata": {},
     "output_type": "display_data"
    }
   ],
   "source": [
    "fig, ax0=plt.subplots(nrows=1)\n",
    "fig.set_size_inches(10,10)\n",
    "\n",
    "ax0.scatter(x, y_energy,marker='o',alpha=0.75,s=60,c='r')\n",
    "ax0.plot(x,y_energy,c='black')\n",
    "ax0.set_title('Energy VS Lattice Constant',fontsize=30,y=1.05)\n",
    "ax0.set_xlabel('Lattice Parameter (a.u)',fontsize=24)\n",
    "ax0.set_ylabel(r'Total Energy (Ry)',fontsize=20)\n",
    "ax0.set_ylim(-329.265,-329.252)\n",
    "ax0.tick_params(labelsize = 18)\n",
    "ax0.annotate('Lowest Energy: 5.33 a.u.', xy=(5.33, -329.263),  xycoords='data',\n",
    "                xytext=(-50, -35), textcoords='offset points',\n",
    "                arrowprops=dict(arrowstyle=\"->\",\n",
    "                                connectionstyle=\"angle3,angleA=0,angleB=-90\"),fontsize=15\n",
    "                )\n",
    "\n",
    "# ax1.scatter(x,y_conver,marker='o',alpha=0.75, s=60,c='b')\n",
    "# ax1.plot(x,y_conver,c='black')\n",
    "# ax1.set_title('Force Convergence Vs K-points',fontsize=24,y=1.05)\n",
    "# ax1.set_xlabel('# of K-points',fontsize=24)\n",
    "# ax1.set_ylabel(r'Force Converge $meV/\\AA$',fontsize=18)\n",
    "# # ax1.set_yscale('log')\n",
    "# ax1.set_ylim(-1,40)\n",
    "# ax1.annotate(r'Convergence < 5 $meV/\\AA$ # Kpoints: 205', xy=(207, 5),  xycoords='data',\n",
    "#                 xytext=(0.95, 0.95), textcoords='axes fraction',\n",
    "#                 arrowprops=dict(facecolor='black', shrink=0.05),\n",
    "#                 horizontalalignment='right', verticalalignment='top',fontsize=16\n",
    "#                 )\n",
    "# ax1.tick_params(labelsize = 18)\n",
    "\n",
    "plt.subplots_adjust(hspace=0.5)\n",
    "plt.show()"
   ]
  },
  {
   "cell_type": "code",
   "execution_count": 17,
   "metadata": {
    "collapsed": false
   },
   "outputs": [
    {
     "data": {
      "text/plain": [
       "<matplotlib.text.Text at 0x10891e9d0>"
      ]
     },
     "execution_count": 17,
     "metadata": {},
     "output_type": "execute_result"
    }
   ],
   "source": []
  },
  {
   "cell_type": "code",
   "execution_count": 18,
   "metadata": {
    "collapsed": true
   },
   "outputs": [],
   "source": [
    "plt.show()"
   ]
  }
 ],
 "metadata": {
  "kernelspec": {
   "display_name": "Python 2",
   "language": "python",
   "name": "python2"
  },
  "language_info": {
   "codemirror_mode": {
    "name": "ipython",
    "version": 2
   },
   "file_extension": ".py",
   "mimetype": "text/x-python",
   "name": "python",
   "nbconvert_exporter": "python",
   "pygments_lexer": "ipython2",
   "version": "2.7.6"
  }
 },
 "nbformat": 4,
 "nbformat_minor": 0
}
