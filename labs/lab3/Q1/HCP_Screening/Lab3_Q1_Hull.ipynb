{
 "cells": [
  {
   "cell_type": "code",
   "execution_count": 1,
   "metadata": {
    "collapsed": true
   },
   "outputs": [],
   "source": [
    "import matplotlib.pyplot as plt\n",
    "%matplotlib inline\n",
    "from pymatgen.util.plotting_utils import get_publication_quality_plot"
   ]
  },
  {
   "cell_type": "code",
   "execution_count": 2,
   "metadata": {
    "collapsed": true
   },
   "outputs": [],
   "source": [
    "import numpy as np\n",
    "import pandas as pd"
   ]
  },
  {
   "cell_type": "code",
   "execution_count": 3,
   "metadata": {
    "collapsed": false
   },
   "outputs": [],
   "source": [
    "datafile2 = pd.read_csv('results_ranked_HCP.csv')"
   ]
  },
  {
   "cell_type": "code",
   "execution_count": 4,
   "metadata": {
    "collapsed": false
   },
   "outputs": [
    {
     "data": {
      "text/html": [
       "<div style=\"max-height:1000px;max-width:1500px;overflow:auto;\">\n",
       "<table border=\"1\" class=\"dataframe\">\n",
       "  <thead>\n",
       "    <tr style=\"text-align: right;\">\n",
       "      <th></th>\n",
       "      <th>filename</th>\n",
       "      <th>ecut</th>\n",
       "      <th>nkpts</th>\n",
       "      <th>alat_1</th>\n",
       "      <th>alat_3</th>\n",
       "      <th>energy</th>\n",
       "      <th>cpu_time</th>\n",
       "      <th>energy per atom </th>\n",
       "    </tr>\n",
       "  </thead>\n",
       "  <tbody>\n",
       "    <tr>\n",
       "      <th>0</th>\n",
       "      <td>  Fe_HCP_5.38_172_6_3.out</td>\n",
       "      <td> 50</td>\n",
       "      <td>  28</td>\n",
       "      <td> 5.38</td>\n",
       "      <td> 1.72</td>\n",
       "      <td>-658.419621</td>\n",
       "      <td>  88.3</td>\n",
       "      <td>-329.209811</td>\n",
       "    </tr>\n",
       "    <tr>\n",
       "      <th>1</th>\n",
       "      <td>  Fe_HCP_5.38_172_7_4.out</td>\n",
       "      <td> 50</td>\n",
       "      <td>  48</td>\n",
       "      <td> 5.38</td>\n",
       "      <td> 1.72</td>\n",
       "      <td>-658.422234</td>\n",
       "      <td>  95.3</td>\n",
       "      <td>-329.211117</td>\n",
       "    </tr>\n",
       "    <tr>\n",
       "      <th>2</th>\n",
       "      <td>  Fe_HCP_5.38_172_8_4.out</td>\n",
       "      <td> 50</td>\n",
       "      <td>  60</td>\n",
       "      <td> 5.38</td>\n",
       "      <td> 1.72</td>\n",
       "      <td>-658.421922</td>\n",
       "      <td> 155.5</td>\n",
       "      <td>-329.210961</td>\n",
       "    </tr>\n",
       "    <tr>\n",
       "      <th>3</th>\n",
       "      <td>  Fe_HCP_5.38_172_9_5.out</td>\n",
       "      <td> 50</td>\n",
       "      <td>  72</td>\n",
       "      <td> 5.38</td>\n",
       "      <td> 1.72</td>\n",
       "      <td>-658.422348</td>\n",
       "      <td> 191.7</td>\n",
       "      <td>-329.211174</td>\n",
       "    </tr>\n",
       "    <tr>\n",
       "      <th>4</th>\n",
       "      <td> Fe_HCP_5.38_172_10_5.out</td>\n",
       "      <td> 50</td>\n",
       "      <td>  84</td>\n",
       "      <td> 5.38</td>\n",
       "      <td> 1.72</td>\n",
       "      <td>-658.422011</td>\n",
       "      <td> 189.2</td>\n",
       "      <td>-329.211006</td>\n",
       "    </tr>\n",
       "    <tr>\n",
       "      <th>5</th>\n",
       "      <td> Fe_HCP_5.38_172_11_6.out</td>\n",
       "      <td> 50</td>\n",
       "      <td> 128</td>\n",
       "      <td> 5.38</td>\n",
       "      <td> 1.72</td>\n",
       "      <td>-658.422038</td>\n",
       "      <td> 264.7</td>\n",
       "      <td>-329.211019</td>\n",
       "    </tr>\n",
       "    <tr>\n",
       "      <th>6</th>\n",
       "      <td>  Fe_HCP_5.39_172_6_3.out</td>\n",
       "      <td> 50</td>\n",
       "      <td>  28</td>\n",
       "      <td> 5.39</td>\n",
       "      <td> 1.72</td>\n",
       "      <td>-658.417582</td>\n",
       "      <td>  82.6</td>\n",
       "      <td>-329.208791</td>\n",
       "    </tr>\n",
       "    <tr>\n",
       "      <th>7</th>\n",
       "      <td>  Fe_HCP_5.39_172_7_4.out</td>\n",
       "      <td> 50</td>\n",
       "      <td>  48</td>\n",
       "      <td> 5.39</td>\n",
       "      <td> 1.72</td>\n",
       "      <td>-658.420304</td>\n",
       "      <td> 139.2</td>\n",
       "      <td>-329.210152</td>\n",
       "    </tr>\n",
       "    <tr>\n",
       "      <th>8</th>\n",
       "      <td>  Fe_HCP_5.39_172_8_4.out</td>\n",
       "      <td> 50</td>\n",
       "      <td>  60</td>\n",
       "      <td> 5.39</td>\n",
       "      <td> 1.72</td>\n",
       "      <td>-658.419862</td>\n",
       "      <td> 157.5</td>\n",
       "      <td>-329.209931</td>\n",
       "    </tr>\n",
       "    <tr>\n",
       "      <th>9</th>\n",
       "      <td>  Fe_HCP_5.39_172_9_5.out</td>\n",
       "      <td> 50</td>\n",
       "      <td>  72</td>\n",
       "      <td> 5.39</td>\n",
       "      <td> 1.72</td>\n",
       "      <td>-658.420362</td>\n",
       "      <td> 158.4</td>\n",
       "      <td>-329.210181</td>\n",
       "    </tr>\n",
       "  </tbody>\n",
       "</table>\n",
       "</div>"
      ],
      "text/plain": [
       "                   filename  ecut  nkpts  alat_1  alat_3      energy  \\\n",
       "0   Fe_HCP_5.38_172_6_3.out    50     28    5.38    1.72 -658.419621   \n",
       "1   Fe_HCP_5.38_172_7_4.out    50     48    5.38    1.72 -658.422234   \n",
       "2   Fe_HCP_5.38_172_8_4.out    50     60    5.38    1.72 -658.421922   \n",
       "3   Fe_HCP_5.38_172_9_5.out    50     72    5.38    1.72 -658.422348   \n",
       "4  Fe_HCP_5.38_172_10_5.out    50     84    5.38    1.72 -658.422011   \n",
       "5  Fe_HCP_5.38_172_11_6.out    50    128    5.38    1.72 -658.422038   \n",
       "6   Fe_HCP_5.39_172_6_3.out    50     28    5.39    1.72 -658.417582   \n",
       "7   Fe_HCP_5.39_172_7_4.out    50     48    5.39    1.72 -658.420304   \n",
       "8   Fe_HCP_5.39_172_8_4.out    50     60    5.39    1.72 -658.419862   \n",
       "9   Fe_HCP_5.39_172_9_5.out    50     72    5.39    1.72 -658.420362   \n",
       "\n",
       "   cpu_time  energy per atom   \n",
       "0      88.3       -329.209811  \n",
       "1      95.3       -329.211117  \n",
       "2     155.5       -329.210961  \n",
       "3     191.7       -329.211174  \n",
       "4     189.2       -329.211006  \n",
       "5     264.7       -329.211019  \n",
       "6      82.6       -329.208791  \n",
       "7     139.2       -329.210152  \n",
       "8     157.5       -329.209931  \n",
       "9     158.4       -329.210181  "
      ]
     },
     "execution_count": 4,
     "metadata": {},
     "output_type": "execute_result"
    }
   ],
   "source": [
    "datafile2.head(10)"
   ]
  },
  {
   "cell_type": "code",
   "execution_count": 5,
   "metadata": {
    "collapsed": false
   },
   "outputs": [
    {
     "ename": "NameError",
     "evalue": "name 'datafile' is not defined",
     "output_type": "error",
     "traceback": [
      "\u001b[0;31m---------------------------------------------------------------------------\u001b[0m",
      "\u001b[0;31mNameError\u001b[0m                                 Traceback (most recent call last)",
      "\u001b[0;32m<ipython-input-5-81fb841830a6>\u001b[0m in \u001b[0;36m<module>\u001b[0;34m()\u001b[0m\n\u001b[0;32m----> 1\u001b[0;31m \u001b[0mgb\u001b[0m \u001b[0;34m=\u001b[0m \u001b[0mdatafile\u001b[0m\u001b[0;34m.\u001b[0m\u001b[0mgroupby\u001b[0m\u001b[0;34m(\u001b[0m\u001b[0;34m'alat'\u001b[0m\u001b[0;34m)\u001b[0m\u001b[0;34m\u001b[0m\u001b[0m\n\u001b[0m",
      "\u001b[0;31mNameError\u001b[0m: name 'datafile' is not defined"
     ]
    }
   ],
   "source": [
    "gb = datafile.groupby('alat')"
   ]
  },
  {
   "cell_type": "code",
   "execution_count": 6,
   "metadata": {
    "collapsed": false
   },
   "outputs": [],
   "source": [
    "datafile_172 = datafile2[(datafile2['alat_3']==1.72)]\n",
    "datafile_173 = datafile2[(datafile2['alat_3']==1.73)]\n",
    "datafile_174 = datafile2[(datafile2['alat_3']==1.74)]"
   ]
  },
  {
   "cell_type": "code",
   "execution_count": 7,
   "metadata": {
    "collapsed": true
   },
   "outputs": [],
   "source": [
    "gb_172 = datafile_172.groupby('alat_1')\n",
    "gb_173 = datafile_173.groupby('alat_1')\n",
    "gb_174 = datafile_174.groupby('alat_1')"
   ]
  },
  {
   "cell_type": "code",
   "execution_count": 9,
   "metadata": {
    "collapsed": false
   },
   "outputs": [
    {
     "name": "stdout",
     "output_type": "stream",
     "text": [
      "[3, 9, 15, 21, 27, 33, 39, 45, 51]\n"
     ]
    },
    {
     "data": {
      "text/html": [
       "<div style=\"max-height:1000px;max-width:1500px;overflow:auto;\">\n",
       "<table border=\"1\" class=\"dataframe\">\n",
       "  <thead>\n",
       "    <tr style=\"text-align: right;\">\n",
       "      <th></th>\n",
       "      <th>filename</th>\n",
       "      <th>ecut</th>\n",
       "      <th>nkpts</th>\n",
       "      <th>alat_1</th>\n",
       "      <th>alat_3</th>\n",
       "      <th>energy</th>\n",
       "      <th>cpu_time</th>\n",
       "      <th>energy per atom </th>\n",
       "    </tr>\n",
       "  </thead>\n",
       "  <tbody>\n",
       "    <tr>\n",
       "      <th>3 </th>\n",
       "      <td> Fe_HCP_5.38_172_9_5.out</td>\n",
       "      <td> 50</td>\n",
       "      <td> 72</td>\n",
       "      <td> 5.38</td>\n",
       "      <td> 1.72</td>\n",
       "      <td>-658.422348</td>\n",
       "      <td> 191.7</td>\n",
       "      <td>-329.211174</td>\n",
       "    </tr>\n",
       "    <tr>\n",
       "      <th>9 </th>\n",
       "      <td> Fe_HCP_5.39_172_9_5.out</td>\n",
       "      <td> 50</td>\n",
       "      <td> 72</td>\n",
       "      <td> 5.39</td>\n",
       "      <td> 1.72</td>\n",
       "      <td>-658.420362</td>\n",
       "      <td> 158.4</td>\n",
       "      <td>-329.210181</td>\n",
       "    </tr>\n",
       "    <tr>\n",
       "      <th>15</th>\n",
       "      <td>  Fe_HCP_5.4_172_9_5.out</td>\n",
       "      <td> 50</td>\n",
       "      <td> 72</td>\n",
       "      <td> 5.40</td>\n",
       "      <td> 1.72</td>\n",
       "      <td>-658.417757</td>\n",
       "      <td> 149.3</td>\n",
       "      <td>-329.208879</td>\n",
       "    </tr>\n",
       "    <tr>\n",
       "      <th>21</th>\n",
       "      <td> Fe_HCP_5.41_172_9_5.out</td>\n",
       "      <td> 50</td>\n",
       "      <td> 72</td>\n",
       "      <td> 5.41</td>\n",
       "      <td> 1.72</td>\n",
       "      <td>-658.415772</td>\n",
       "      <td> 157.4</td>\n",
       "      <td>-329.207886</td>\n",
       "    </tr>\n",
       "    <tr>\n",
       "      <th>27</th>\n",
       "      <td> Fe_HCP_5.42_172_9_5.out</td>\n",
       "      <td> 50</td>\n",
       "      <td> 72</td>\n",
       "      <td> 5.42</td>\n",
       "      <td> 1.72</td>\n",
       "      <td>-658.413846</td>\n",
       "      <td> 193.5</td>\n",
       "      <td>-329.206923</td>\n",
       "    </tr>\n",
       "    <tr>\n",
       "      <th>33</th>\n",
       "      <td> Fe_HCP_5.43_172_9_5.out</td>\n",
       "      <td> 50</td>\n",
       "      <td> 72</td>\n",
       "      <td> 5.43</td>\n",
       "      <td> 1.72</td>\n",
       "      <td>-658.412307</td>\n",
       "      <td> 146.2</td>\n",
       "      <td>-329.206153</td>\n",
       "    </tr>\n",
       "    <tr>\n",
       "      <th>39</th>\n",
       "      <td> Fe_HCP_5.44_172_9_5.out</td>\n",
       "      <td> 50</td>\n",
       "      <td> 72</td>\n",
       "      <td> 5.44</td>\n",
       "      <td> 1.72</td>\n",
       "      <td>-658.410715</td>\n",
       "      <td> 127.7</td>\n",
       "      <td>-329.205358</td>\n",
       "    </tr>\n",
       "    <tr>\n",
       "      <th>45</th>\n",
       "      <td> Fe_HCP_5.45_172_9_5.out</td>\n",
       "      <td> 50</td>\n",
       "      <td> 72</td>\n",
       "      <td> 5.45</td>\n",
       "      <td> 1.72</td>\n",
       "      <td>-658.408536</td>\n",
       "      <td> 127.7</td>\n",
       "      <td>-329.204268</td>\n",
       "    </tr>\n",
       "    <tr>\n",
       "      <th>51</th>\n",
       "      <td> Fe_HCP_5.46_172_9_5.out</td>\n",
       "      <td> 50</td>\n",
       "      <td> 72</td>\n",
       "      <td> 5.46</td>\n",
       "      <td> 1.72</td>\n",
       "      <td>-658.404731</td>\n",
       "      <td> 132.5</td>\n",
       "      <td>-329.202366</td>\n",
       "    </tr>\n",
       "  </tbody>\n",
       "</table>\n",
       "</div>"
      ],
      "text/plain": [
       "                   filename  ecut  nkpts  alat_1  alat_3      energy  \\\n",
       "3   Fe_HCP_5.38_172_9_5.out    50     72    5.38    1.72 -658.422348   \n",
       "9   Fe_HCP_5.39_172_9_5.out    50     72    5.39    1.72 -658.420362   \n",
       "15   Fe_HCP_5.4_172_9_5.out    50     72    5.40    1.72 -658.417757   \n",
       "21  Fe_HCP_5.41_172_9_5.out    50     72    5.41    1.72 -658.415772   \n",
       "27  Fe_HCP_5.42_172_9_5.out    50     72    5.42    1.72 -658.413846   \n",
       "33  Fe_HCP_5.43_172_9_5.out    50     72    5.43    1.72 -658.412307   \n",
       "39  Fe_HCP_5.44_172_9_5.out    50     72    5.44    1.72 -658.410715   \n",
       "45  Fe_HCP_5.45_172_9_5.out    50     72    5.45    1.72 -658.408536   \n",
       "51  Fe_HCP_5.46_172_9_5.out    50     72    5.46    1.72 -658.404731   \n",
       "\n",
       "    cpu_time  energy per atom   \n",
       "3      191.7       -329.211174  \n",
       "9      158.4       -329.210181  \n",
       "15     149.3       -329.208879  \n",
       "21     157.4       -329.207886  \n",
       "27     193.5       -329.206923  \n",
       "33     146.2       -329.206153  \n",
       "39     127.7       -329.205358  \n",
       "45     127.7       -329.204268  \n",
       "51     132.5       -329.202366  "
      ]
     },
     "execution_count": 9,
     "metadata": {},
     "output_type": "execute_result"
    }
   ],
   "source": [
    "mini_index_list = []\n",
    "for k, gp in gb_172:\n",
    "#     print 'key=' +str(k)\n",
    "    df = gb_172.get_group(k)\n",
    "#     df.drop('total_force',axis=1,inplace=True)\n",
    "    df_mod = df[df['nkpts']>60]\n",
    "    minenergy_index = df_mod['energy'].idxmin()\n",
    "    mini_index_list.append(minenergy_index)\n",
    "print mini_index_list\n",
    "    \n",
    "df_mini_energy = pd.DataFrame(datafile_172,index=mini_index_list)\n",
    "# df_mini_energy.drop('total_force',axis=1,inplace=True)\n",
    "df_mini_energy"
   ]
  },
  {
   "cell_type": "code",
   "execution_count": 11,
   "metadata": {
    "collapsed": false
   },
   "outputs": [],
   "source": [
    "x = df_mini_energy['alat_1'].tolist()\n",
    "y_energy = df_mini_energy['energy'].tolist()"
   ]
  },
  {
   "cell_type": "code",
   "execution_count": 12,
   "metadata": {
    "collapsed": false
   },
   "outputs": [
    {
     "data": {
      "image/png": "[encoded data removed]",
      "text/plain": [
       "<matplotlib.figure.Figure at 0x107f9e4d0>"
      ]
     },
     "metadata": {},
     "output_type": "display_data"
    }
   ],
   "source": [
    "fig, ax0=plt.subplots(nrows=1)\n",
    "fig.set_size_inches(10,10)\n",
    "\n",
    "ax0.scatter(x, y_energy,marker='o',alpha=0.75,s=60,c='r')\n",
    "ax0.plot(x,y_energy,c='black')\n",
    "ax0.set_title('Energy VS Lattice Constant',fontsize=30,y=1.05)\n",
    "ax0.set_xlabel('Lattice Parameter (a.u)',fontsize=24)\n",
    "ax0.set_ylabel(r'Total Energy (Ry)',fontsize=20)\n",
    "# ax0.set_ylim(-93.456,-93.44)\n",
    "ax0.tick_params(labelsize = 18)\n",
    "# ax0.annotate('Lowest Energy: 10.33 a.u.', xy=(10.33, -93.45421),  xycoords='data',\n",
    "#                 xytext=(-50, -30), textcoords='offset points',\n",
    "#                 arrowprops=dict(arrowstyle=\"->\",\n",
    "#                                 connectionstyle=\"angle3,angleA=0,angleB=-90\"),fontsize=15\n",
    "#                 )\n",
    "\n",
    "# ax1.scatter(x,y_conver,marker='o',alpha=0.75, s=60,c='b')\n",
    "# ax1.plot(x,y_conver,c='black')\n",
    "# ax1.set_title('Force Convergence Vs K-points',fontsize=24,y=1.05)\n",
    "# ax1.set_xlabel('# of K-points',fontsize=24)\n",
    "# ax1.set_ylabel(r'Force Converge $meV/\\AA$',fontsize=18)\n",
    "# # ax1.set_yscale('log')\n",
    "# ax1.set_ylim(-1,40)\n",
    "# ax1.annotate(r'Convergence < 5 $meV/\\AA$ # Kpoints: 205', xy=(207, 5),  xycoords='data',\n",
    "#                 xytext=(0.95, 0.95), textcoords='axes fraction',\n",
    "#                 arrowprops=dict(facecolor='black', shrink=0.05),\n",
    "#                 horizontalalignment='right', verticalalignment='top',fontsize=16\n",
    "#                 )\n",
    "# ax1.tick_params(labelsize = 18)\n",
    "\n",
    "plt.subplots_adjust(hspace=0.5)\n",
    "plt.show()"
   ]
  },
  {
   "cell_type": "code",
   "execution_count": 18,
   "metadata": {
    "collapsed": true
   },
   "outputs": [],
   "source": [
    "plt.show()"
   ]
  }
 ],
 "metadata": {
  "kernelspec": {
   "display_name": "Python 2",
   "language": "python",
   "name": "python2"
  },
  "language_info": {
   "codemirror_mode": {
    "name": "ipython",
    "version": 2
   },
   "file_extension": ".py",
   "mimetype": "text/x-python",
   "name": "python",
   "nbconvert_exporter": "python",
   "pygments_lexer": "ipython2",
   "version": "2.7.6"
  }
 },
 "nbformat": 4,
 "nbformat_minor": 0
}
