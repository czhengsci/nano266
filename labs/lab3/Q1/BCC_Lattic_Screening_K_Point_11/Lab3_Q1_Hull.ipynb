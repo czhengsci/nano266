{
 "cells": [
  {
   "cell_type": "code",
   "execution_count": 1,
   "metadata": {
    "collapsed": true
   },
   "outputs": [],
   "source": [
    "import matplotlib.pyplot as plt\n",
    "%matplotlib inline\n",
    "from pymatgen.util.plotting_utils import get_publication_quality_plot"
   ]
  },
  {
   "cell_type": "code",
   "execution_count": 8,
   "metadata": {
    "collapsed": true
   },
   "outputs": [],
   "source": [
    "import numpy as np\n",
    "import pandas as pd\n",
    "import math"
   ]
  },
  {
   "cell_type": "code",
   "execution_count": 15,
   "metadata": {
    "collapsed": false
   },
   "outputs": [],
   "source": [
    "vol_cons = math.pow(0.529177,3)"
   ]
  },
  {
   "cell_type": "code",
   "execution_count": 18,
   "metadata": {
    "collapsed": false
   },
   "outputs": [
    {
     "data": {
      "text/plain": [
       "0.14818453429566825"
      ]
     },
     "execution_count": 18,
     "metadata": {},
     "output_type": "execute_result"
    }
   ],
   "source": [
    "vol_cons"
   ]
  },
  {
   "cell_type": "code",
   "execution_count": 11,
   "metadata": {
    "collapsed": false
   },
   "outputs": [],
   "source": [
    "datafile = pd.read_csv('results.csv')"
   ]
  },
  {
   "cell_type": "code",
   "execution_count": 12,
   "metadata": {
    "collapsed": false
   },
   "outputs": [],
   "source": [
    "datafile = datafile.sort('alat')"
   ]
  },
  {
   "cell_type": "code",
   "execution_count": 13,
   "metadata": {
    "collapsed": false
   },
   "outputs": [
    {
     "data": {
      "text/html": [
       "<div style=\"max-height:1000px;max-width:1500px;overflow:auto;\">\n",
       "<table border=\"1\" class=\"dataframe\">\n",
       "  <thead>\n",
       "    <tr style=\"text-align: right;\">\n",
       "      <th></th>\n",
       "      <th>filename</th>\n",
       "      <th>ecut</th>\n",
       "      <th>nkpts</th>\n",
       "      <th>alat</th>\n",
       "      <th>energy</th>\n",
       "      <th>total_force</th>\n",
       "      <th>unit_cell volume</th>\n",
       "      <th>cpu_time</th>\n",
       "    </tr>\n",
       "  </thead>\n",
       "  <tbody>\n",
       "    <tr>\n",
       "      <th>0 </th>\n",
       "      <td> Fe_bcc_5.15_11.out</td>\n",
       "      <td> 50</td>\n",
       "      <td> 112</td>\n",
       "      <td> 5.15</td>\n",
       "      <td>-329.253726</td>\n",
       "      <td> 0</td>\n",
       "      <td> 68.2954</td>\n",
       "      <td> 18.72</td>\n",
       "    </tr>\n",
       "    <tr>\n",
       "      <th>2 </th>\n",
       "      <td>  Fe_bcc_5.2_11.out</td>\n",
       "      <td> 50</td>\n",
       "      <td> 112</td>\n",
       "      <td> 5.20</td>\n",
       "      <td>-329.257518</td>\n",
       "      <td> 0</td>\n",
       "      <td> 70.3040</td>\n",
       "      <td> 23.53</td>\n",
       "    </tr>\n",
       "    <tr>\n",
       "      <th>1 </th>\n",
       "      <td> Fe_bcc_5.25_11.out</td>\n",
       "      <td> 50</td>\n",
       "      <td> 112</td>\n",
       "      <td> 5.25</td>\n",
       "      <td>-329.260028</td>\n",
       "      <td> 0</td>\n",
       "      <td> 72.3516</td>\n",
       "      <td> 17.93</td>\n",
       "    </tr>\n",
       "    <tr>\n",
       "      <th>12</th>\n",
       "      <td>  Fe_bcc_5.3_11.out</td>\n",
       "      <td> 50</td>\n",
       "      <td> 112</td>\n",
       "      <td> 5.30</td>\n",
       "      <td>-329.261786</td>\n",
       "      <td> 0</td>\n",
       "      <td> 74.4385</td>\n",
       "      <td> 19.41</td>\n",
       "    </tr>\n",
       "    <tr>\n",
       "      <th>3 </th>\n",
       "      <td> Fe_bcc_5.31_11.out</td>\n",
       "      <td> 50</td>\n",
       "      <td> 112</td>\n",
       "      <td> 5.31</td>\n",
       "      <td>-329.261959</td>\n",
       "      <td> 0</td>\n",
       "      <td> 74.8606</td>\n",
       "      <td> 20.03</td>\n",
       "    </tr>\n",
       "    <tr>\n",
       "      <th>4 </th>\n",
       "      <td> Fe_bcc_5.32_11.out</td>\n",
       "      <td> 50</td>\n",
       "      <td> 112</td>\n",
       "      <td> 5.32</td>\n",
       "      <td>-329.262167</td>\n",
       "      <td> 0</td>\n",
       "      <td> 75.2844</td>\n",
       "      <td> 17.82</td>\n",
       "    </tr>\n",
       "    <tr>\n",
       "      <th>5 </th>\n",
       "      <td> Fe_bcc_5.33_11.out</td>\n",
       "      <td> 50</td>\n",
       "      <td> 112</td>\n",
       "      <td> 5.33</td>\n",
       "      <td>-329.262348</td>\n",
       "      <td> 0</td>\n",
       "      <td> 75.7097</td>\n",
       "      <td> 19.50</td>\n",
       "    </tr>\n",
       "    <tr>\n",
       "      <th>6 </th>\n",
       "      <td> Fe_bcc_5.34_11.out</td>\n",
       "      <td> 50</td>\n",
       "      <td> 112</td>\n",
       "      <td> 5.34</td>\n",
       "      <td>-329.262348</td>\n",
       "      <td> 0</td>\n",
       "      <td> 76.1367</td>\n",
       "      <td> 19.22</td>\n",
       "    </tr>\n",
       "    <tr>\n",
       "      <th>7 </th>\n",
       "      <td> Fe_bcc_5.35_11.out</td>\n",
       "      <td> 50</td>\n",
       "      <td> 112</td>\n",
       "      <td> 5.35</td>\n",
       "      <td>-329.262454</td>\n",
       "      <td> 0</td>\n",
       "      <td> 76.5652</td>\n",
       "      <td> 16.36</td>\n",
       "    </tr>\n",
       "    <tr>\n",
       "      <th>8 </th>\n",
       "      <td> Fe_bcc_5.36_11.out</td>\n",
       "      <td> 50</td>\n",
       "      <td> 112</td>\n",
       "      <td> 5.36</td>\n",
       "      <td>-329.262423</td>\n",
       "      <td> 0</td>\n",
       "      <td> 76.9953</td>\n",
       "      <td> 16.35</td>\n",
       "    </tr>\n",
       "  </tbody>\n",
       "</table>\n",
       "</div>"
      ],
      "text/plain": [
       "              filename  ecut  nkpts  alat      energy  total_force  \\\n",
       "0   Fe_bcc_5.15_11.out    50    112  5.15 -329.253726            0   \n",
       "2    Fe_bcc_5.2_11.out    50    112  5.20 -329.257518            0   \n",
       "1   Fe_bcc_5.25_11.out    50    112  5.25 -329.260028            0   \n",
       "12   Fe_bcc_5.3_11.out    50    112  5.30 -329.261786            0   \n",
       "3   Fe_bcc_5.31_11.out    50    112  5.31 -329.261959            0   \n",
       "4   Fe_bcc_5.32_11.out    50    112  5.32 -329.262167            0   \n",
       "5   Fe_bcc_5.33_11.out    50    112  5.33 -329.262348            0   \n",
       "6   Fe_bcc_5.34_11.out    50    112  5.34 -329.262348            0   \n",
       "7   Fe_bcc_5.35_11.out    50    112  5.35 -329.262454            0   \n",
       "8   Fe_bcc_5.36_11.out    50    112  5.36 -329.262423            0   \n",
       "\n",
       "    unit_cell volume  cpu_time  \n",
       "0            68.2954     18.72  \n",
       "2            70.3040     23.53  \n",
       "1            72.3516     17.93  \n",
       "12           74.4385     19.41  \n",
       "3            74.8606     20.03  \n",
       "4            75.2844     17.82  \n",
       "5            75.7097     19.50  \n",
       "6            76.1367     19.22  \n",
       "7            76.5652     16.36  \n",
       "8            76.9953     16.35  "
      ]
     },
     "execution_count": 13,
     "metadata": {},
     "output_type": "execute_result"
    }
   ],
   "source": [
    "datafile.head(10)"
   ]
  },
  {
   "cell_type": "code",
   "execution_count": 16,
   "metadata": {
    "collapsed": false
   },
   "outputs": [],
   "source": [
    "datafile['unit cell volume (A^3)'] = datafile['unit_cell volume'] * vol_cons"
   ]
  },
  {
   "cell_type": "code",
   "execution_count": 17,
   "metadata": {
    "collapsed": false
   },
   "outputs": [
    {
     "data": {
      "text/html": [
       "<div style=\"max-height:1000px;max-width:1500px;overflow:auto;\">\n",
       "<table border=\"1\" class=\"dataframe\">\n",
       "  <thead>\n",
       "    <tr style=\"text-align: right;\">\n",
       "      <th></th>\n",
       "      <th>filename</th>\n",
       "      <th>ecut</th>\n",
       "      <th>nkpts</th>\n",
       "      <th>alat</th>\n",
       "      <th>energy</th>\n",
       "      <th>total_force</th>\n",
       "      <th>unit_cell volume</th>\n",
       "      <th>cpu_time</th>\n",
       "      <th>unit cell volume (A^3)</th>\n",
       "    </tr>\n",
       "  </thead>\n",
       "  <tbody>\n",
       "    <tr>\n",
       "      <th>0 </th>\n",
       "      <td> Fe_bcc_5.15_11.out</td>\n",
       "      <td> 50</td>\n",
       "      <td> 112</td>\n",
       "      <td> 5.15</td>\n",
       "      <td>-329.253726</td>\n",
       "      <td> 0</td>\n",
       "      <td> 68.2954</td>\n",
       "      <td> 18.72</td>\n",
       "      <td> 10.120322</td>\n",
       "    </tr>\n",
       "    <tr>\n",
       "      <th>2 </th>\n",
       "      <td>  Fe_bcc_5.2_11.out</td>\n",
       "      <td> 50</td>\n",
       "      <td> 112</td>\n",
       "      <td> 5.20</td>\n",
       "      <td>-329.257518</td>\n",
       "      <td> 0</td>\n",
       "      <td> 70.3040</td>\n",
       "      <td> 23.53</td>\n",
       "      <td> 10.417965</td>\n",
       "    </tr>\n",
       "    <tr>\n",
       "      <th>1 </th>\n",
       "      <td> Fe_bcc_5.25_11.out</td>\n",
       "      <td> 50</td>\n",
       "      <td> 112</td>\n",
       "      <td> 5.25</td>\n",
       "      <td>-329.260028</td>\n",
       "      <td> 0</td>\n",
       "      <td> 72.3516</td>\n",
       "      <td> 17.93</td>\n",
       "      <td> 10.721388</td>\n",
       "    </tr>\n",
       "    <tr>\n",
       "      <th>12</th>\n",
       "      <td>  Fe_bcc_5.3_11.out</td>\n",
       "      <td> 50</td>\n",
       "      <td> 112</td>\n",
       "      <td> 5.30</td>\n",
       "      <td>-329.261786</td>\n",
       "      <td> 0</td>\n",
       "      <td> 74.4385</td>\n",
       "      <td> 19.41</td>\n",
       "      <td> 11.030634</td>\n",
       "    </tr>\n",
       "    <tr>\n",
       "      <th>3 </th>\n",
       "      <td> Fe_bcc_5.31_11.out</td>\n",
       "      <td> 50</td>\n",
       "      <td> 112</td>\n",
       "      <td> 5.31</td>\n",
       "      <td>-329.261959</td>\n",
       "      <td> 0</td>\n",
       "      <td> 74.8606</td>\n",
       "      <td> 20.03</td>\n",
       "      <td> 11.093183</td>\n",
       "    </tr>\n",
       "    <tr>\n",
       "      <th>4 </th>\n",
       "      <td> Fe_bcc_5.32_11.out</td>\n",
       "      <td> 50</td>\n",
       "      <td> 112</td>\n",
       "      <td> 5.32</td>\n",
       "      <td>-329.262167</td>\n",
       "      <td> 0</td>\n",
       "      <td> 75.2844</td>\n",
       "      <td> 17.82</td>\n",
       "      <td> 11.155984</td>\n",
       "    </tr>\n",
       "    <tr>\n",
       "      <th>5 </th>\n",
       "      <td> Fe_bcc_5.33_11.out</td>\n",
       "      <td> 50</td>\n",
       "      <td> 112</td>\n",
       "      <td> 5.33</td>\n",
       "      <td>-329.262348</td>\n",
       "      <td> 0</td>\n",
       "      <td> 75.7097</td>\n",
       "      <td> 19.50</td>\n",
       "      <td> 11.219007</td>\n",
       "    </tr>\n",
       "    <tr>\n",
       "      <th>6 </th>\n",
       "      <td> Fe_bcc_5.34_11.out</td>\n",
       "      <td> 50</td>\n",
       "      <td> 112</td>\n",
       "      <td> 5.34</td>\n",
       "      <td>-329.262348</td>\n",
       "      <td> 0</td>\n",
       "      <td> 76.1367</td>\n",
       "      <td> 19.22</td>\n",
       "      <td> 11.282281</td>\n",
       "    </tr>\n",
       "    <tr>\n",
       "      <th>7 </th>\n",
       "      <td> Fe_bcc_5.35_11.out</td>\n",
       "      <td> 50</td>\n",
       "      <td> 112</td>\n",
       "      <td> 5.35</td>\n",
       "      <td>-329.262454</td>\n",
       "      <td> 0</td>\n",
       "      <td> 76.5652</td>\n",
       "      <td> 16.36</td>\n",
       "      <td> 11.345779</td>\n",
       "    </tr>\n",
       "    <tr>\n",
       "      <th>8 </th>\n",
       "      <td> Fe_bcc_5.36_11.out</td>\n",
       "      <td> 50</td>\n",
       "      <td> 112</td>\n",
       "      <td> 5.36</td>\n",
       "      <td>-329.262423</td>\n",
       "      <td> 0</td>\n",
       "      <td> 76.9953</td>\n",
       "      <td> 16.35</td>\n",
       "      <td> 11.409513</td>\n",
       "    </tr>\n",
       "    <tr>\n",
       "      <th>9 </th>\n",
       "      <td> Fe_bcc_5.37_11.out</td>\n",
       "      <td> 50</td>\n",
       "      <td> 112</td>\n",
       "      <td> 5.37</td>\n",
       "      <td>-329.262526</td>\n",
       "      <td> 0</td>\n",
       "      <td> 77.4271</td>\n",
       "      <td> 19.37</td>\n",
       "      <td> 11.473499</td>\n",
       "    </tr>\n",
       "    <tr>\n",
       "      <th>10</th>\n",
       "      <td> Fe_bcc_5.38_11.out</td>\n",
       "      <td> 50</td>\n",
       "      <td> 112</td>\n",
       "      <td> 5.38</td>\n",
       "      <td>-329.262502</td>\n",
       "      <td> 0</td>\n",
       "      <td> 77.8604</td>\n",
       "      <td> 16.48</td>\n",
       "      <td> 11.537707</td>\n",
       "    </tr>\n",
       "    <tr>\n",
       "      <th>11</th>\n",
       "      <td> Fe_bcc_5.39_11.out</td>\n",
       "      <td> 50</td>\n",
       "      <td> 112</td>\n",
       "      <td> 5.39</td>\n",
       "      <td>-329.262426</td>\n",
       "      <td> 0</td>\n",
       "      <td> 78.2954</td>\n",
       "      <td> 18.25</td>\n",
       "      <td> 11.602167</td>\n",
       "    </tr>\n",
       "    <tr>\n",
       "      <th>14</th>\n",
       "      <td>  Fe_bcc_5.4_11.out</td>\n",
       "      <td> 50</td>\n",
       "      <td> 112</td>\n",
       "      <td> 5.40</td>\n",
       "      <td>-329.262411</td>\n",
       "      <td> 0</td>\n",
       "      <td> 78.7320</td>\n",
       "      <td> 19.35</td>\n",
       "      <td> 11.666865</td>\n",
       "    </tr>\n",
       "    <tr>\n",
       "      <th>13</th>\n",
       "      <td> Fe_bcc_5.45_11.out</td>\n",
       "      <td> 50</td>\n",
       "      <td> 112</td>\n",
       "      <td> 5.45</td>\n",
       "      <td>-329.261153</td>\n",
       "      <td> 0</td>\n",
       "      <td> 80.9393</td>\n",
       "      <td> 21.73</td>\n",
       "      <td> 11.993952</td>\n",
       "    </tr>\n",
       "    <tr>\n",
       "      <th>16</th>\n",
       "      <td>  Fe_bcc_5.5_11.out</td>\n",
       "      <td> 50</td>\n",
       "      <td> 112</td>\n",
       "      <td> 5.50</td>\n",
       "      <td>-329.259398</td>\n",
       "      <td> 0</td>\n",
       "      <td> 83.1875</td>\n",
       "      <td> 26.96</td>\n",
       "      <td> 12.327101</td>\n",
       "    </tr>\n",
       "    <tr>\n",
       "      <th>15</th>\n",
       "      <td> Fe_bcc_5.55_11.out</td>\n",
       "      <td> 50</td>\n",
       "      <td> 112</td>\n",
       "      <td> 5.55</td>\n",
       "      <td>-329.257473</td>\n",
       "      <td> 0</td>\n",
       "      <td> 85.4769</td>\n",
       "      <td> 36.09</td>\n",
       "      <td> 12.666355</td>\n",
       "    </tr>\n",
       "  </tbody>\n",
       "</table>\n",
       "</div>"
      ],
      "text/plain": [
       "              filename  ecut  nkpts  alat      energy  total_force  \\\n",
       "0   Fe_bcc_5.15_11.out    50    112  5.15 -329.253726            0   \n",
       "2    Fe_bcc_5.2_11.out    50    112  5.20 -329.257518            0   \n",
       "1   Fe_bcc_5.25_11.out    50    112  5.25 -329.260028            0   \n",
       "12   Fe_bcc_5.3_11.out    50    112  5.30 -329.261786            0   \n",
       "3   Fe_bcc_5.31_11.out    50    112  5.31 -329.261959            0   \n",
       "4   Fe_bcc_5.32_11.out    50    112  5.32 -329.262167            0   \n",
       "5   Fe_bcc_5.33_11.out    50    112  5.33 -329.262348            0   \n",
       "6   Fe_bcc_5.34_11.out    50    112  5.34 -329.262348            0   \n",
       "7   Fe_bcc_5.35_11.out    50    112  5.35 -329.262454            0   \n",
       "8   Fe_bcc_5.36_11.out    50    112  5.36 -329.262423            0   \n",
       "9   Fe_bcc_5.37_11.out    50    112  5.37 -329.262526            0   \n",
       "10  Fe_bcc_5.38_11.out    50    112  5.38 -329.262502            0   \n",
       "11  Fe_bcc_5.39_11.out    50    112  5.39 -329.262426            0   \n",
       "14   Fe_bcc_5.4_11.out    50    112  5.40 -329.262411            0   \n",
       "13  Fe_bcc_5.45_11.out    50    112  5.45 -329.261153            0   \n",
       "16   Fe_bcc_5.5_11.out    50    112  5.50 -329.259398            0   \n",
       "15  Fe_bcc_5.55_11.out    50    112  5.55 -329.257473            0   \n",
       "\n",
       "    unit_cell volume  cpu_time  unit cell volume (A^3)  \n",
       "0            68.2954     18.72               10.120322  \n",
       "2            70.3040     23.53               10.417965  \n",
       "1            72.3516     17.93               10.721388  \n",
       "12           74.4385     19.41               11.030634  \n",
       "3            74.8606     20.03               11.093183  \n",
       "4            75.2844     17.82               11.155984  \n",
       "5            75.7097     19.50               11.219007  \n",
       "6            76.1367     19.22               11.282281  \n",
       "7            76.5652     16.36               11.345779  \n",
       "8            76.9953     16.35               11.409513  \n",
       "9            77.4271     19.37               11.473499  \n",
       "10           77.8604     16.48               11.537707  \n",
       "11           78.2954     18.25               11.602167  \n",
       "14           78.7320     19.35               11.666865  \n",
       "13           80.9393     21.73               11.993952  \n",
       "16           83.1875     26.96               12.327101  \n",
       "15           85.4769     36.09               12.666355  "
      ]
     },
     "execution_count": 17,
     "metadata": {},
     "output_type": "execute_result"
    }
   ],
   "source": [
    "datafile"
   ]
  },
  {
   "cell_type": "code",
   "execution_count": 19,
   "metadata": {
    "collapsed": false
   },
   "outputs": [
    {
     "data": {
      "text/plain": [
       "filename                  Fe_bcc_5.37_11.out\n",
       "ecut                                      50\n",
       "nkpts                                    112\n",
       "alat                                    5.37\n",
       "energy                             -329.2625\n",
       "total_force                                0\n",
       "unit_cell volume                     77.4271\n",
       "cpu_time                               19.37\n",
       "unit cell volume (A^3)               11.4735\n",
       "Name: 9, dtype: object"
      ]
     },
     "execution_count": 19,
     "metadata": {},
     "output_type": "execute_result"
    }
   ],
   "source": [
    "datafile.ix[datafile['energy'].idxmin()]"
   ]
  },
  {
   "cell_type": "code",
   "execution_count": 21,
   "metadata": {
    "collapsed": false
   },
   "outputs": [],
   "source": [
    "x = datafile['unit cell volume (A^3)'].tolist()\n",
    "y_energy = datafile['energy'].tolist()"
   ]
  },
  {
   "cell_type": "code",
   "execution_count": 24,
   "metadata": {
    "collapsed": false
   },
   "outputs": [
    {
     "data": {
      "image/png": "[encoded data removed]",
      "text/plain": [
       "<matplotlib.figure.Figure at 0x107f49610>"
      ]
     },
     "metadata": {},
     "output_type": "display_data"
    }
   ],
   "source": [
    "fig, ax0=plt.subplots(nrows=1)\n",
    "fig.set_size_inches(10,10)\n",
    "\n",
    "ax0.scatter(x, y_energy,marker='o',alpha=0.75,s=60,c='r')\n",
    "ax0.plot(x,y_energy,c='black')\n",
    "ax0.set_title('Energy VS Volumne/atom',fontsize=30,y=1.05)\n",
    "ax0.set_xlabel(r'Volume/atom $\\AA^3$',fontsize=24)\n",
    "ax0.set_ylabel(r'Total Energy (Ry)',fontsize=20)\n",
    "ax0.set_ylim(-329.265,-329.252)\n",
    "ax0.tick_params(labelsize = 18)\n",
    "ax0.annotate(r'Lowest Energy: $11.47 \\AA^3$', xy=(11.4735, -329.2625),  xycoords='data',\n",
    "                xytext=(-50, -35), textcoords='offset points',\n",
    "                arrowprops=dict(arrowstyle=\"->\",\n",
    "                                connectionstyle=\"angle3,angleA=0,angleB=-90\"),fontsize=15\n",
    "                )\n",
    "\n",
    "# ax1.scatter(x,y_conver,marker='o',alpha=0.75, s=60,c='b')\n",
    "# ax1.plot(x,y_conver,c='black')\n",
    "# ax1.set_title('Force Convergence Vs K-points',fontsize=24,y=1.05)\n",
    "# ax1.set_xlabel('# of K-points',fontsize=24)\n",
    "# ax1.set_ylabel(r'Force Converge $meV/\\AA$',fontsize=18)\n",
    "# # ax1.set_yscale('log')\n",
    "# ax1.set_ylim(-1,40)\n",
    "# ax1.annotate(r'Convergence < 5 $meV/\\AA$ # Kpoints: 205', xy=(207, 5),  xycoords='data',\n",
    "#                 xytext=(0.95, 0.95), textcoords='axes fraction',\n",
    "#                 arrowprops=dict(facecolor='black', shrink=0.05),\n",
    "#                 horizontalalignment='right', verticalalignment='top',fontsize=16\n",
    "#                 )\n",
    "# ax1.tick_params(labelsize = 18)\n",
    "\n",
    "plt.subplots_adjust(hspace=0.5)\n",
    "plt.show()"
   ]
  },
  {
   "cell_type": "code",
   "execution_count": 17,
   "metadata": {
    "collapsed": false
   },
   "outputs": [
    {
     "data": {
      "text/plain": [
       "<matplotlib.text.Text at 0x10891e9d0>"
      ]
     },
     "execution_count": 17,
     "metadata": {},
     "output_type": "execute_result"
    }
   ],
   "source": []
  },
  {
   "cell_type": "code",
   "execution_count": 18,
   "metadata": {
    "collapsed": true
   },
   "outputs": [],
   "source": [
    "plt.show()"
   ]
  }
 ],
 "metadata": {
  "kernelspec": {
   "display_name": "Python 2",
   "language": "python",
   "name": "python2"
  },
  "language_info": {
   "codemirror_mode": {
    "name": "ipython",
    "version": 2
   },
   "file_extension": ".py",
   "mimetype": "text/x-python",
   "name": "python",
   "nbconvert_exporter": "python",
   "pygments_lexer": "ipython2",
   "version": "2.7.6"
  }
 },
 "nbformat": 4,
 "nbformat_minor": 0
}
