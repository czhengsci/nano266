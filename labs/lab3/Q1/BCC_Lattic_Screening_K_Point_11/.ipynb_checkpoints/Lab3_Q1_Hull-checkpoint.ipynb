{
 "cells": [
  {
   "cell_type": "code",
   "execution_count": 1,
   "metadata": {
    "collapsed": true
   },
   "outputs": [],
   "source": [
    "import matplotlib.pyplot as plt\n",
    "%matplotlib inline\n",
    "from pymatgen.util.plotting_utils import get_publication_quality_plot"
   ]
  },
  {
   "cell_type": "code",
   "execution_count": 2,
   "metadata": {
    "collapsed": true
   },
   "outputs": [],
   "source": [
    "import numpy as np\n",
    "import pandas as pd"
   ]
  },
  {
   "cell_type": "code",
   "execution_count": 3,
   "metadata": {
    "collapsed": false
   },
   "outputs": [],
   "source": [
    "datafile = pd.read_csv('results.csv')"
   ]
  },
  {
   "cell_type": "code",
   "execution_count": 4,
   "metadata": {
    "collapsed": false
   },
   "outputs": [],
   "source": [
    "datafile = datafile.sort('alat')"
   ]
  },
  {
   "cell_type": "code",
   "execution_count": 5,
   "metadata": {
    "collapsed": false
   },
   "outputs": [
    {
     "data": {
      "text/html": [
       "<div style=\"max-height:1000px;max-width:1500px;overflow:auto;\">\n",
       "<table border=\"1\" class=\"dataframe\">\n",
       "  <thead>\n",
       "    <tr style=\"text-align: right;\">\n",
       "      <th></th>\n",
       "      <th>filename</th>\n",
       "      <th>ecut</th>\n",
       "      <th>nkpts</th>\n",
       "      <th>alat</th>\n",
       "      <th>energy</th>\n",
       "      <th>cpu_time</th>\n",
       "    </tr>\n",
       "  </thead>\n",
       "  <tbody>\n",
       "    <tr>\n",
       "      <th>0 </th>\n",
       "      <td> Fe_bcc_5.15_11.out</td>\n",
       "      <td> 50</td>\n",
       "      <td> 112</td>\n",
       "      <td> 5.15</td>\n",
       "      <td>-329.253726</td>\n",
       "      <td> 18.72</td>\n",
       "    </tr>\n",
       "    <tr>\n",
       "      <th>1 </th>\n",
       "      <td>  Fe_bcc_5.2_11.out</td>\n",
       "      <td> 50</td>\n",
       "      <td> 112</td>\n",
       "      <td> 5.20</td>\n",
       "      <td>-329.257518</td>\n",
       "      <td> 23.53</td>\n",
       "    </tr>\n",
       "    <tr>\n",
       "      <th>2 </th>\n",
       "      <td> Fe_bcc_5.25_11.out</td>\n",
       "      <td> 50</td>\n",
       "      <td> 112</td>\n",
       "      <td> 5.25</td>\n",
       "      <td>-329.260028</td>\n",
       "      <td> 17.93</td>\n",
       "    </tr>\n",
       "    <tr>\n",
       "      <th>3 </th>\n",
       "      <td>  Fe_bcc_5.3_11.out</td>\n",
       "      <td> 50</td>\n",
       "      <td> 112</td>\n",
       "      <td> 5.30</td>\n",
       "      <td>-329.261786</td>\n",
       "      <td> 19.41</td>\n",
       "    </tr>\n",
       "    <tr>\n",
       "      <th>4 </th>\n",
       "      <td> Fe_bcc_5.31_11.out</td>\n",
       "      <td> 50</td>\n",
       "      <td> 112</td>\n",
       "      <td> 5.31</td>\n",
       "      <td>-329.261960</td>\n",
       "      <td> 20.03</td>\n",
       "    </tr>\n",
       "    <tr>\n",
       "      <th>5 </th>\n",
       "      <td> Fe_bcc_5.32_11.out</td>\n",
       "      <td> 50</td>\n",
       "      <td> 112</td>\n",
       "      <td> 5.32</td>\n",
       "      <td>-329.262167</td>\n",
       "      <td> 17.82</td>\n",
       "    </tr>\n",
       "    <tr>\n",
       "      <th>6 </th>\n",
       "      <td> Fe_bcc_5.33_11.out</td>\n",
       "      <td> 50</td>\n",
       "      <td> 112</td>\n",
       "      <td> 5.33</td>\n",
       "      <td>-329.262348</td>\n",
       "      <td> 19.50</td>\n",
       "    </tr>\n",
       "    <tr>\n",
       "      <th>7 </th>\n",
       "      <td> Fe_bcc_5.34_11.out</td>\n",
       "      <td> 50</td>\n",
       "      <td> 112</td>\n",
       "      <td> 5.34</td>\n",
       "      <td>-329.262348</td>\n",
       "      <td> 19.22</td>\n",
       "    </tr>\n",
       "    <tr>\n",
       "      <th>8 </th>\n",
       "      <td> Fe_bcc_5.35_11.out</td>\n",
       "      <td> 50</td>\n",
       "      <td> 112</td>\n",
       "      <td> 5.35</td>\n",
       "      <td>-329.262454</td>\n",
       "      <td> 16.36</td>\n",
       "    </tr>\n",
       "    <tr>\n",
       "      <th>9 </th>\n",
       "      <td> Fe_bcc_5.36_11.out</td>\n",
       "      <td> 50</td>\n",
       "      <td> 112</td>\n",
       "      <td> 5.36</td>\n",
       "      <td>-329.262423</td>\n",
       "      <td> 16.35</td>\n",
       "    </tr>\n",
       "    <tr>\n",
       "      <th>10</th>\n",
       "      <td> Fe_bcc_5.37_11.out</td>\n",
       "      <td> 50</td>\n",
       "      <td> 112</td>\n",
       "      <td> 5.37</td>\n",
       "      <td>-329.262526</td>\n",
       "      <td> 19.37</td>\n",
       "    </tr>\n",
       "    <tr>\n",
       "      <th>11</th>\n",
       "      <td> Fe_bcc_5.38_11.out</td>\n",
       "      <td> 50</td>\n",
       "      <td> 112</td>\n",
       "      <td> 5.38</td>\n",
       "      <td>-329.262502</td>\n",
       "      <td> 16.48</td>\n",
       "    </tr>\n",
       "    <tr>\n",
       "      <th>12</th>\n",
       "      <td> Fe_bcc_5.39_11.out</td>\n",
       "      <td> 50</td>\n",
       "      <td> 112</td>\n",
       "      <td> 5.39</td>\n",
       "      <td>-329.262426</td>\n",
       "      <td> 18.25</td>\n",
       "    </tr>\n",
       "    <tr>\n",
       "      <th>13</th>\n",
       "      <td>  Fe_bcc_5.4_11.out</td>\n",
       "      <td> 50</td>\n",
       "      <td> 112</td>\n",
       "      <td> 5.40</td>\n",
       "      <td>-329.262411</td>\n",
       "      <td> 19.35</td>\n",
       "    </tr>\n",
       "    <tr>\n",
       "      <th>14</th>\n",
       "      <td> Fe_bcc_5.45_11.out</td>\n",
       "      <td> 50</td>\n",
       "      <td> 112</td>\n",
       "      <td> 5.45</td>\n",
       "      <td>-329.261153</td>\n",
       "      <td> 21.73</td>\n",
       "    </tr>\n",
       "    <tr>\n",
       "      <th>15</th>\n",
       "      <td>  Fe_bcc_5.5_11.out</td>\n",
       "      <td> 50</td>\n",
       "      <td> 112</td>\n",
       "      <td> 5.50</td>\n",
       "      <td>-329.259398</td>\n",
       "      <td> 26.96</td>\n",
       "    </tr>\n",
       "    <tr>\n",
       "      <th>16</th>\n",
       "      <td> Fe_bcc_5.55_11.out</td>\n",
       "      <td> 50</td>\n",
       "      <td> 112</td>\n",
       "      <td> 5.55</td>\n",
       "      <td>-329.257473</td>\n",
       "      <td> 36.09</td>\n",
       "    </tr>\n",
       "  </tbody>\n",
       "</table>\n",
       "</div>"
      ],
      "text/plain": [
       "              filename  ecut  nkpts  alat      energy  cpu_time\n",
       "0   Fe_bcc_5.15_11.out    50    112  5.15 -329.253726     18.72\n",
       "1    Fe_bcc_5.2_11.out    50    112  5.20 -329.257518     23.53\n",
       "2   Fe_bcc_5.25_11.out    50    112  5.25 -329.260028     17.93\n",
       "3    Fe_bcc_5.3_11.out    50    112  5.30 -329.261786     19.41\n",
       "4   Fe_bcc_5.31_11.out    50    112  5.31 -329.261960     20.03\n",
       "5   Fe_bcc_5.32_11.out    50    112  5.32 -329.262167     17.82\n",
       "6   Fe_bcc_5.33_11.out    50    112  5.33 -329.262348     19.50\n",
       "7   Fe_bcc_5.34_11.out    50    112  5.34 -329.262348     19.22\n",
       "8   Fe_bcc_5.35_11.out    50    112  5.35 -329.262454     16.36\n",
       "9   Fe_bcc_5.36_11.out    50    112  5.36 -329.262423     16.35\n",
       "10  Fe_bcc_5.37_11.out    50    112  5.37 -329.262526     19.37\n",
       "11  Fe_bcc_5.38_11.out    50    112  5.38 -329.262502     16.48\n",
       "12  Fe_bcc_5.39_11.out    50    112  5.39 -329.262426     18.25\n",
       "13   Fe_bcc_5.4_11.out    50    112  5.40 -329.262411     19.35\n",
       "14  Fe_bcc_5.45_11.out    50    112  5.45 -329.261153     21.73\n",
       "15   Fe_bcc_5.5_11.out    50    112  5.50 -329.259398     26.96\n",
       "16  Fe_bcc_5.55_11.out    50    112  5.55 -329.257473     36.09"
      ]
     },
     "execution_count": 5,
     "metadata": {},
     "output_type": "execute_result"
    }
   ],
   "source": [
    "datafile"
   ]
  },
  {
   "cell_type": "code",
   "execution_count": 6,
   "metadata": {
    "collapsed": false
   },
   "outputs": [
    {
     "data": {
      "text/plain": [
       "filename    Fe_bcc_5.37_11.out\n",
       "ecut                        50\n",
       "nkpts                      112\n",
       "alat                      5.37\n",
       "energy               -329.2625\n",
       "cpu_time                 19.37\n",
       "Name: 10, dtype: object"
      ]
     },
     "execution_count": 6,
     "metadata": {},
     "output_type": "execute_result"
    }
   ],
   "source": [
    "datafile.ix[datafile['energy'].idxmin()]"
   ]
  },
  {
   "cell_type": "code",
   "execution_count": 7,
   "metadata": {
    "collapsed": false
   },
   "outputs": [],
   "source": [
    "x = datafile['alat'].tolist()\n",
    "y_energy = datafile['energy'].tolist()"
   ]
  },
  {
   "cell_type": "code",
   "execution_count": 9,
   "metadata": {
    "collapsed": false
   },
   "outputs": [
    {
     "data": {
      "image/png": "[encoded data removed]",
      "text/plain": [
       "<matplotlib.figure.Figure at 0x107ec24d0>"
      ]
     },
     "metadata": {},
     "output_type": "display_data"
    }
   ],
   "source": [
    "fig, ax0=plt.subplots(nrows=1)\n",
    "fig.set_size_inches(10,10)\n",
    "\n",
    "ax0.scatter(x, y_energy,marker='o',alpha=0.75,s=60,c='r')\n",
    "ax0.plot(x,y_energy,c='black')\n",
    "ax0.set_title('Energy VS Lattice Constant (BCC)',fontsize=30,y=1.05)\n",
    "ax0.set_xlabel('Lattice Parameter (a.u)',fontsize=24)\n",
    "ax0.set_ylabel(r'Total Energy (Ry)',fontsize=20)\n",
    "ax0.set_ylim(-329.265,-329.252)\n",
    "ax0.tick_params(labelsize = 18)\n",
    "ax0.annotate('Lowest Energy: 5.37 a.u.', xy=(5.37, -329.2625),  xycoords='data',\n",
    "                xytext=(-50, -35), textcoords='offset points',\n",
    "                arrowprops=dict(arrowstyle=\"->\",\n",
    "                                connectionstyle=\"angle3,angleA=0,angleB=-90\"),fontsize=15\n",
    "                )\n",
    "\n",
    "# ax1.scatter(x,y_conver,marker='o',alpha=0.75, s=60,c='b')\n",
    "# ax1.plot(x,y_conver,c='black')\n",
    "# ax1.set_title('Force Convergence Vs K-points',fontsize=24,y=1.05)\n",
    "# ax1.set_xlabel('# of K-points',fontsize=24)\n",
    "# ax1.set_ylabel(r'Force Converge $meV/\\AA$',fontsize=18)\n",
    "# # ax1.set_yscale('log')\n",
    "# ax1.set_ylim(-1,40)\n",
    "# ax1.annotate(r'Convergence < 5 $meV/\\AA$ # Kpoints: 205', xy=(207, 5),  xycoords='data',\n",
    "#                 xytext=(0.95, 0.95), textcoords='axes fraction',\n",
    "#                 arrowprops=dict(facecolor='black', shrink=0.05),\n",
    "#                 horizontalalignment='right', verticalalignment='top',fontsize=16\n",
    "#                 )\n",
    "# ax1.tick_params(labelsize = 18)\n",
    "\n",
    "plt.subplots_adjust(hspace=0.5)\n",
    "plt.show()"
   ]
  },
  {
   "cell_type": "code",
   "execution_count": 17,
   "metadata": {
    "collapsed": false
   },
   "outputs": [
    {
     "data": {
      "text/plain": [
       "<matplotlib.text.Text at 0x10891e9d0>"
      ]
     },
     "execution_count": 17,
     "metadata": {},
     "output_type": "execute_result"
    }
   ],
   "source": []
  },
  {
   "cell_type": "code",
   "execution_count": 18,
   "metadata": {
    "collapsed": true
   },
   "outputs": [],
   "source": [
    "plt.show()"
   ]
  }
 ],
 "metadata": {
  "kernelspec": {
   "display_name": "Python 2",
   "language": "python",
   "name": "python2"
  },
  "language_info": {
   "codemirror_mode": {
    "name": "ipython",
    "version": 2
   },
   "file_extension": ".py",
   "mimetype": "text/x-python",
   "name": "python",
   "nbconvert_exporter": "python",
   "pygments_lexer": "ipython2",
   "version": "2.7.6"
  }
 },
 "nbformat": 4,
 "nbformat_minor": 0
}
