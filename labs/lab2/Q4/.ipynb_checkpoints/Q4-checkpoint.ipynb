{
 "cells": [
  {
   "cell_type": "code",
   "execution_count": 1,
   "metadata": {
    "collapsed": true
   },
   "outputs": [],
   "source": [
    "import matplotlib.pyplot as plt\n",
    "%matplotlib inline\n",
    "from pymatgen.util.plotting_utils import get_publication_quality_plot"
   ]
  },
  {
   "cell_type": "code",
   "execution_count": 2,
   "metadata": {
    "collapsed": true
   },
   "outputs": [],
   "source": [
    "import numpy as np\n",
    "import pandas as pd"
   ]
  },
  {
   "cell_type": "code",
   "execution_count": 3,
   "metadata": {
    "collapsed": false
   },
   "outputs": [
    {
     "name": "stdout",
     "output_type": "stream",
     "text": [
      "Q3.ipynb            Si_50_11_10.26.out  Si_50_13_10.26.out  Si_50_5_10.26.out   Si_50_7_10.26.out   Si_50_9_10.26.out   results.csv\r\n",
      "Si_50_10_10.26.out  Si_50_12_10.26.out  Si_50_14_10.26.out  Si_50_6_10.26.out   Si_50_8_10.26.out   analyze.py          results_Q4.csv\r\n"
     ]
    }
   ],
   "source": [
    "ls"
   ]
  },
  {
   "cell_type": "code",
   "execution_count": 4,
   "metadata": {
    "collapsed": true
   },
   "outputs": [],
   "source": [
    "datafile = pd.read_csv('results_Q4.csv')"
   ]
  },
  {
   "cell_type": "code",
   "execution_count": 5,
   "metadata": {
    "collapsed": false
   },
   "outputs": [
    {
     "data": {
      "text/html": [
       "<div style=\"max-height:1000px;max-width:1500px;overflow:auto;\">\n",
       "<table border=\"1\" class=\"dataframe\">\n",
       "  <thead>\n",
       "    <tr style=\"text-align: right;\">\n",
       "      <th></th>\n",
       "      <th>filename</th>\n",
       "      <th>ecut (Ry)</th>\n",
       "      <th>nkpts</th>\n",
       "      <th>alat</th>\n",
       "      <th>energy</th>\n",
       "      <th>total_force</th>\n",
       "      <th>Force Total (eV/Angstrom)</th>\n",
       "      <th>Force Difference (meV/Angstrom)</th>\n",
       "    </tr>\n",
       "  </thead>\n",
       "  <tbody>\n",
       "    <tr>\n",
       "      <th>0</th>\n",
       "      <td>  Si_50_5_10.26.out</td>\n",
       "      <td> 50</td>\n",
       "      <td>  39</td>\n",
       "      <td> 10.26</td>\n",
       "      <td>-93.430544</td>\n",
       "      <td> 0.150617</td>\n",
       "      <td> 3.872520</td>\n",
       "      <td>  0.000000</td>\n",
       "    </tr>\n",
       "    <tr>\n",
       "      <th>1</th>\n",
       "      <td>  Si_50_6_10.26.out</td>\n",
       "      <td> 50</td>\n",
       "      <td>  68</td>\n",
       "      <td> 10.26</td>\n",
       "      <td>-93.433690</td>\n",
       "      <td> 0.149247</td>\n",
       "      <td> 3.837296</td>\n",
       "      <td> 35.224129</td>\n",
       "    </tr>\n",
       "    <tr>\n",
       "      <th>2</th>\n",
       "      <td>  Si_50_7_10.26.out</td>\n",
       "      <td> 50</td>\n",
       "      <td> 100</td>\n",
       "      <td> 10.26</td>\n",
       "      <td>-93.434826</td>\n",
       "      <td> 0.148690</td>\n",
       "      <td> 3.822975</td>\n",
       "      <td> 14.321051</td>\n",
       "    </tr>\n",
       "    <tr>\n",
       "      <th>3</th>\n",
       "      <td>  Si_50_8_10.26.out</td>\n",
       "      <td> 50</td>\n",
       "      <td> 150</td>\n",
       "      <td> 10.26</td>\n",
       "      <td>-93.435264</td>\n",
       "      <td> 0.148453</td>\n",
       "      <td> 3.816881</td>\n",
       "      <td>  6.093517</td>\n",
       "    </tr>\n",
       "    <tr>\n",
       "      <th>4</th>\n",
       "      <td>  Si_50_9_10.26.out</td>\n",
       "      <td> 50</td>\n",
       "      <td> 205</td>\n",
       "      <td> 10.26</td>\n",
       "      <td>-93.435442</td>\n",
       "      <td> 0.148346</td>\n",
       "      <td> 3.814130</td>\n",
       "      <td>  2.751082</td>\n",
       "    </tr>\n",
       "    <tr>\n",
       "      <th>5</th>\n",
       "      <td> Si_50_10_10.26.out</td>\n",
       "      <td> 50</td>\n",
       "      <td> 282</td>\n",
       "      <td> 10.26</td>\n",
       "      <td>-93.435517</td>\n",
       "      <td> 0.148296</td>\n",
       "      <td> 3.812845</td>\n",
       "      <td>  1.285552</td>\n",
       "    </tr>\n",
       "    <tr>\n",
       "      <th>6</th>\n",
       "      <td> Si_50_11_10.26.out</td>\n",
       "      <td> 50</td>\n",
       "      <td> 366</td>\n",
       "      <td> 10.26</td>\n",
       "      <td>-93.435549</td>\n",
       "      <td> 0.148269</td>\n",
       "      <td> 3.812151</td>\n",
       "      <td>  0.694198</td>\n",
       "    </tr>\n",
       "    <tr>\n",
       "      <th>7</th>\n",
       "      <td> Si_50_12_10.26.out</td>\n",
       "      <td> 50</td>\n",
       "      <td> 476</td>\n",
       "      <td> 10.26</td>\n",
       "      <td>-93.435564</td>\n",
       "      <td> 0.148258</td>\n",
       "      <td> 3.811868</td>\n",
       "      <td>  0.282821</td>\n",
       "    </tr>\n",
       "    <tr>\n",
       "      <th>8</th>\n",
       "      <td> Si_50_13_10.26.out</td>\n",
       "      <td> 50</td>\n",
       "      <td> 595</td>\n",
       "      <td> 10.26</td>\n",
       "      <td>-93.435571</td>\n",
       "      <td> 0.148250</td>\n",
       "      <td> 3.811662</td>\n",
       "      <td>  0.205688</td>\n",
       "    </tr>\n",
       "    <tr>\n",
       "      <th>9</th>\n",
       "      <td> Si_50_14_10.26.out</td>\n",
       "      <td> 50</td>\n",
       "      <td> 744</td>\n",
       "      <td> 10.26</td>\n",
       "      <td>-93.435575</td>\n",
       "      <td> 0.148243</td>\n",
       "      <td> 3.811482</td>\n",
       "      <td>  0.179977</td>\n",
       "    </tr>\n",
       "  </tbody>\n",
       "</table>\n",
       "</div>"
      ],
      "text/plain": [
       "             filename  ecut (Ry)  nkpts   alat     energy  total_force  \\\n",
       "0   Si_50_5_10.26.out         50     39  10.26 -93.430544     0.150617   \n",
       "1   Si_50_6_10.26.out         50     68  10.26 -93.433690     0.149247   \n",
       "2   Si_50_7_10.26.out         50    100  10.26 -93.434826     0.148690   \n",
       "3   Si_50_8_10.26.out         50    150  10.26 -93.435264     0.148453   \n",
       "4   Si_50_9_10.26.out         50    205  10.26 -93.435442     0.148346   \n",
       "5  Si_50_10_10.26.out         50    282  10.26 -93.435517     0.148296   \n",
       "6  Si_50_11_10.26.out         50    366  10.26 -93.435549     0.148269   \n",
       "7  Si_50_12_10.26.out         50    476  10.26 -93.435564     0.148258   \n",
       "8  Si_50_13_10.26.out         50    595  10.26 -93.435571     0.148250   \n",
       "9  Si_50_14_10.26.out         50    744  10.26 -93.435575     0.148243   \n",
       "\n",
       "   Force Total (eV/Angstrom)  Force Difference (meV/Angstrom)  \n",
       "0                   3.872520                         0.000000  \n",
       "1                   3.837296                        35.224129  \n",
       "2                   3.822975                        14.321051  \n",
       "3                   3.816881                         6.093517  \n",
       "4                   3.814130                         2.751082  \n",
       "5                   3.812845                         1.285552  \n",
       "6                   3.812151                         0.694198  \n",
       "7                   3.811868                         0.282821  \n",
       "8                   3.811662                         0.205688  \n",
       "9                   3.811482                         0.179977  "
      ]
     },
     "execution_count": 5,
     "metadata": {},
     "output_type": "execute_result"
    }
   ],
   "source": [
    "datafile.head(0)"
   ]
  },
  {
   "cell_type": "code",
   "execution_count": 7,
   "metadata": {
    "collapsed": false
   },
   "outputs": [
    {
     "data": {
      "text/plain": [
       "[39, 68, 100, 150, 205, 282, 366, 476, 595, 744]"
      ]
     },
     "execution_count": 7,
     "metadata": {},
     "output_type": "execute_result"
    }
   ],
   "source": [
    "x = datafile['nkpts'].tolist()\n",
    "x"
   ]
  },
  {
   "cell_type": "code",
   "execution_count": 9,
   "metadata": {
    "collapsed": false
   },
   "outputs": [],
   "source": [
    "y_energy = datafile['Force Total (eV/Angstrom)'].tolist()\n",
    "y_conver = datafile['Force Difference (meV/Angstrom)'].tolist()"
   ]
  },
  {
   "cell_type": "code",
   "execution_count": 33,
   "metadata": {
    "collapsed": false
   },
   "outputs": [
    {
     "data": {
      "image/png": "[encoded data removed]",
      "text/plain": [
       "<matplotlib.figure.Figure at 0x107ebc650>"
      ]
     },
     "metadata": {},
     "output_type": "display_data"
    }
   ],
   "source": [
    "fig, (ax0,ax1)=plt.subplots(nrows=2)\n",
    "fig.set_size_inches(10,10)\n",
    "\n",
    "ax0.scatter(x, y_energy,marker='o',alpha=0.75,s=60,c='r')\n",
    "ax0.plot(x,y_energy,c='black')\n",
    "ax0.set_title('Forces VS K-points',fontsize=30,y=1.05)\n",
    "ax0.set_xlabel('# of K-points',fontsize=24)\n",
    "ax0.set_ylabel(r'Force $eV/\\AA$',fontsize=20)\n",
    "ax0.set_ylim(3.81,3970)\n",
    "ax0.tick_params(labelsize = 18)\n",
    "\n",
    "ax1.scatter(x,y_conver,marker='o',alpha=0.75, s=60,c='b')\n",
    "ax1.plot(x,y_conver,c='black')\n",
    "ax1.set_title('Energy Difference',fontsize=24,y=1.05)\n",
    "ax1.set_xlabel('Kinetic Energy Cutoff (Ry)',fontsize=24)\n",
    "ax1.set_ylabel('Force Converge $meV/\\AA$',fontsize=18)\n",
    "# ax1.set_yscale('log')\n",
    "ax1.set_ylim(-10,100)\n",
    "ax1.annotate(r'Convergence < 5 $meV/\\AA$ Cutoff 30 Ry', xy=(32, 5),  xycoords='data',\n",
    "                xytext=(0.95, 0.95), textcoords='axes fraction',\n",
    "                arrowprops=dict(facecolor='black', shrink=0.05),\n",
    "                horizontalalignment='right', verticalalignment='top',fontsize=16\n",
    "                )\n",
    "ax1.tick_params(labelsize = 18)\n",
    "\n",
    "plt.subplots_adjust(hspace=0.5)\n",
    "plt.show()"
   ]
  },
  {
   "cell_type": "code",
   "execution_count": 17,
   "metadata": {
    "collapsed": false
   },
   "outputs": [
    {
     "data": {
      "text/plain": [
       "<matplotlib.text.Text at 0x10891e9d0>"
      ]
     },
     "execution_count": 17,
     "metadata": {},
     "output_type": "execute_result"
    }
   ],
   "source": []
  },
  {
   "cell_type": "code",
   "execution_count": 18,
   "metadata": {
    "collapsed": true
   },
   "outputs": [],
   "source": [
    "plt.show()"
   ]
  }
 ],
 "metadata": {
  "kernelspec": {
   "display_name": "Python 2",
   "language": "python",
   "name": "python2"
  },
  "language_info": {
   "codemirror_mode": {
    "name": "ipython",
    "version": 2
   },
   "file_extension": ".py",
   "mimetype": "text/x-python",
   "name": "python",
   "nbconvert_exporter": "python",
   "pygments_lexer": "ipython2",
   "version": "2.7.6"
  }
 },
 "nbformat": 4,
 "nbformat_minor": 0
}
