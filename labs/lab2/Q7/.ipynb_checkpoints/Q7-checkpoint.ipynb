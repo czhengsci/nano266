{
 "cells": [
  {
   "cell_type": "code",
   "execution_count": 1,
   "metadata": {
    "collapsed": true
   },
   "outputs": [],
   "source": [
    "import matplotlib.pyplot as plt\n",
    "%matplotlib inline\n",
    "from pymatgen.util.plotting_utils import get_publication_quality_plot"
   ]
  },
  {
   "cell_type": "code",
   "execution_count": 2,
   "metadata": {
    "collapsed": true
   },
   "outputs": [],
   "source": [
    "import numpy as np\n",
    "import pandas as pd"
   ]
  },
  {
   "cell_type": "code",
   "execution_count": 3,
   "metadata": {
    "collapsed": false
   },
   "outputs": [
    {
     "name": "stdout",
     "output_type": "stream",
     "text": [
      "Q7.ipynb                    Si_50_9_10.25.out           Si_50_9_10.27.out           Si_50_9_10.29.out           Si_50_9_10.31.out           Si_50_9_10.33.out           Si_50_9_10.35.out           \u001b[31mrun_pw.py\u001b[m\u001b[m*\r\n",
      "Si.pbe-n-kjpaw_psl.0.1.UPF  Si_50_9_10.25.pw.in         Si_50_9_10.27.pw.in         Si_50_9_10.29.pw.in         Si_50_9_10.31.pw.in         Si_50_9_10.33.pw.in         Si_50_9_10.35.pw.in\r\n",
      "Si.pw.in.template           Si_50_9_10.26.out           Si_50_9_10.28.out           Si_50_9_10.3.out            Si_50_9_10.32.out           Si_50_9_10.34.out           \u001b[31manalyze.py\u001b[m\u001b[m*\r\n",
      "Si.pz-n-kjpaw_psl.0.1.UPF   Si_50_9_10.26.pw.in         Si_50_9_10.28.pw.in         Si_50_9_10.3.pw.in          Si_50_9_10.32.pw.in         Si_50_9_10.34.pw.in         results.csv\r\n"
     ]
    }
   ],
   "source": [
    "ls"
   ]
  },
  {
   "cell_type": "code",
   "execution_count": 4,
   "metadata": {
    "collapsed": true
   },
   "outputs": [],
   "source": [
    "datafile = pd.read_csv('results.csv')"
   ]
  },
  {
   "cell_type": "code",
   "execution_count": 5,
   "metadata": {
    "collapsed": false
   },
   "outputs": [
    {
     "data": {
      "text/html": [
       "<div style=\"max-height:1000px;max-width:1500px;overflow:auto;\">\n",
       "<table border=\"1\" class=\"dataframe\">\n",
       "  <thead>\n",
       "    <tr style=\"text-align: right;\">\n",
       "      <th></th>\n",
       "      <th>filename</th>\n",
       "      <th>ecut</th>\n",
       "      <th>nkpts</th>\n",
       "      <th>alat</th>\n",
       "      <th>energy</th>\n",
       "      <th>total_force</th>\n",
       "      <th>cpu_time</th>\n",
       "    </tr>\n",
       "  </thead>\n",
       "  <tbody>\n",
       "    <tr>\n",
       "      <th>0 </th>\n",
       "      <td> Si_50_9_10.25.out</td>\n",
       "      <td> 50</td>\n",
       "      <td> 35</td>\n",
       "      <td> 10.25</td>\n",
       "      <td>-93.453743</td>\n",
       "      <td> 0</td>\n",
       "      <td> 12.2</td>\n",
       "    </tr>\n",
       "    <tr>\n",
       "      <th>1 </th>\n",
       "      <td> Si_50_9_10.26.out</td>\n",
       "      <td> 50</td>\n",
       "      <td> 35</td>\n",
       "      <td> 10.26</td>\n",
       "      <td>-93.453853</td>\n",
       "      <td> 0</td>\n",
       "      <td> 12.3</td>\n",
       "    </tr>\n",
       "    <tr>\n",
       "      <th>2 </th>\n",
       "      <td> Si_50_9_10.27.out</td>\n",
       "      <td> 50</td>\n",
       "      <td> 35</td>\n",
       "      <td> 10.27</td>\n",
       "      <td>-93.453947</td>\n",
       "      <td> 0</td>\n",
       "      <td> 12.2</td>\n",
       "    </tr>\n",
       "    <tr>\n",
       "      <th>3 </th>\n",
       "      <td> Si_50_9_10.28.out</td>\n",
       "      <td> 50</td>\n",
       "      <td> 35</td>\n",
       "      <td> 10.28</td>\n",
       "      <td>-93.454027</td>\n",
       "      <td> 0</td>\n",
       "      <td> 12.3</td>\n",
       "    </tr>\n",
       "    <tr>\n",
       "      <th>4 </th>\n",
       "      <td> Si_50_9_10.29.out</td>\n",
       "      <td> 50</td>\n",
       "      <td> 35</td>\n",
       "      <td> 10.29</td>\n",
       "      <td>-93.454093</td>\n",
       "      <td> 0</td>\n",
       "      <td> 12.2</td>\n",
       "    </tr>\n",
       "    <tr>\n",
       "      <th>5 </th>\n",
       "      <td>  Si_50_9_10.3.out</td>\n",
       "      <td> 50</td>\n",
       "      <td> 35</td>\n",
       "      <td> 10.30</td>\n",
       "      <td>-93.454144</td>\n",
       "      <td> 0</td>\n",
       "      <td> 12.3</td>\n",
       "    </tr>\n",
       "    <tr>\n",
       "      <th>6 </th>\n",
       "      <td> Si_50_9_10.31.out</td>\n",
       "      <td> 50</td>\n",
       "      <td> 35</td>\n",
       "      <td> 10.31</td>\n",
       "      <td>-93.454180</td>\n",
       "      <td> 0</td>\n",
       "      <td> 12.4</td>\n",
       "    </tr>\n",
       "    <tr>\n",
       "      <th>7 </th>\n",
       "      <td> Si_50_9_10.32.out</td>\n",
       "      <td> 50</td>\n",
       "      <td> 35</td>\n",
       "      <td> 10.32</td>\n",
       "      <td>-93.454202</td>\n",
       "      <td> 0</td>\n",
       "      <td> 12.5</td>\n",
       "    </tr>\n",
       "    <tr>\n",
       "      <th>8 </th>\n",
       "      <td> Si_50_9_10.33.out</td>\n",
       "      <td> 50</td>\n",
       "      <td> 35</td>\n",
       "      <td> 10.33</td>\n",
       "      <td>-93.454209</td>\n",
       "      <td> 0</td>\n",
       "      <td> 12.4</td>\n",
       "    </tr>\n",
       "    <tr>\n",
       "      <th>9 </th>\n",
       "      <td> Si_50_9_10.34.out</td>\n",
       "      <td> 50</td>\n",
       "      <td> 35</td>\n",
       "      <td> 10.34</td>\n",
       "      <td>-93.454202</td>\n",
       "      <td> 0</td>\n",
       "      <td> 12.7</td>\n",
       "    </tr>\n",
       "    <tr>\n",
       "      <th>10</th>\n",
       "      <td> Si_50_9_10.35.out</td>\n",
       "      <td> 50</td>\n",
       "      <td> 35</td>\n",
       "      <td> 10.35</td>\n",
       "      <td>-93.454182</td>\n",
       "      <td> 0</td>\n",
       "      <td> 12.5</td>\n",
       "    </tr>\n",
       "  </tbody>\n",
       "</table>\n",
       "</div>"
      ],
      "text/plain": [
       "             filename  ecut  nkpts   alat     energy  total_force  cpu_time\n",
       "0   Si_50_9_10.25.out    50     35  10.25 -93.453743            0      12.2\n",
       "1   Si_50_9_10.26.out    50     35  10.26 -93.453853            0      12.3\n",
       "2   Si_50_9_10.27.out    50     35  10.27 -93.453947            0      12.2\n",
       "3   Si_50_9_10.28.out    50     35  10.28 -93.454027            0      12.3\n",
       "4   Si_50_9_10.29.out    50     35  10.29 -93.454093            0      12.2\n",
       "5    Si_50_9_10.3.out    50     35  10.30 -93.454144            0      12.3\n",
       "6   Si_50_9_10.31.out    50     35  10.31 -93.454180            0      12.4\n",
       "7   Si_50_9_10.32.out    50     35  10.32 -93.454202            0      12.5\n",
       "8   Si_50_9_10.33.out    50     35  10.33 -93.454209            0      12.4\n",
       "9   Si_50_9_10.34.out    50     35  10.34 -93.454202            0      12.7\n",
       "10  Si_50_9_10.35.out    50     35  10.35 -93.454182            0      12.5"
      ]
     },
     "execution_count": 5,
     "metadata": {},
     "output_type": "execute_result"
    }
   ],
   "source": [
    "datafile.head(0)"
   ]
  },
  {
   "cell_type": "code",
   "execution_count": 6,
   "metadata": {
    "collapsed": false
   },
   "outputs": [
    {
     "data": {
      "text/plain": [
       "[10.25,\n",
       " 10.26,\n",
       " 10.27,\n",
       " 10.279999999999999,\n",
       " 10.289999999999999,\n",
       " 10.300000000000001,\n",
       " 10.31,\n",
       " 10.32,\n",
       " 10.33,\n",
       " 10.34,\n",
       " 10.35]"
      ]
     },
     "execution_count": 6,
     "metadata": {},
     "output_type": "execute_result"
    }
   ],
   "source": [
    "x = datafile['alat'].tolist()\n",
    "x"
   ]
  },
  {
   "cell_type": "code",
   "execution_count": 7,
   "metadata": {
    "collapsed": false
   },
   "outputs": [],
   "source": [
    "y_energy = datafile['energy'].tolist()\n",
    "# y_conver = datafile['Force Difference (meV/Angstrom)'].tolist()"
   ]
  },
  {
   "cell_type": "code",
   "execution_count": 9,
   "metadata": {
    "collapsed": false
   },
   "outputs": [
    {
     "data": {
      "image/png": "[encoded data removed]",
      "text/plain": [
       "<matplotlib.figure.Figure at 0x107d93250>"
      ]
     },
     "metadata": {},
     "output_type": "display_data"
    }
   ],
   "source": [
    "fig, (ax0,ax1)=plt.subplots(nrows=2)\n",
    "fig.set_size_inches(10,10)\n",
    "\n",
    "ax0.scatter(x, y_energy,marker='o',alpha=0.75,s=60,c='r')\n",
    "ax0.plot(x,y_energy,c='black')\n",
    "ax0.set_title('Forces VS K-points',fontsize=30,y=1.05)\n",
    "ax0.set_xlabel('# of K-points',fontsize=24)\n",
    "ax0.set_ylabel(r'Force $eV/\\AA$',fontsize=20)\n",
    "# ax0.set_ylim(3.80,3.89)\n",
    "ax0.tick_params(labelsize = 18)\n",
    "\n",
    "# ax1.scatter(x,y_conver,marker='o',alpha=0.75, s=60,c='b')\n",
    "# ax1.plot(x,y_conver,c='black')\n",
    "# ax1.set_title('Force Convergence Vs K-points',fontsize=24,y=1.05)\n",
    "# ax1.set_xlabel('# of K-points',fontsize=24)\n",
    "# ax1.set_ylabel(r'Force Converge $meV/\\AA$',fontsize=18)\n",
    "# # ax1.set_yscale('log')\n",
    "# ax1.set_ylim(-1,40)\n",
    "# ax1.annotate(r'Convergence < 5 $meV/\\AA$ # Kpoints: 205', xy=(207, 5),  xycoords='data',\n",
    "#                 xytext=(0.95, 0.95), textcoords='axes fraction',\n",
    "#                 arrowprops=dict(facecolor='black', shrink=0.05),\n",
    "#                 horizontalalignment='right', verticalalignment='top',fontsize=16\n",
    "#                 )\n",
    "# ax1.tick_params(labelsize = 18)\n",
    "\n",
    "plt.subplots_adjust(hspace=0.5)\n",
    "plt.show()"
   ]
  },
  {
   "cell_type": "code",
   "execution_count": 17,
   "metadata": {
    "collapsed": false
   },
   "outputs": [
    {
     "data": {
      "text/plain": [
       "<matplotlib.text.Text at 0x10891e9d0>"
      ]
     },
     "execution_count": 17,
     "metadata": {},
     "output_type": "execute_result"
    }
   ],
   "source": []
  },
  {
   "cell_type": "code",
   "execution_count": 18,
   "metadata": {
    "collapsed": true
   },
   "outputs": [],
   "source": [
    "plt.show()"
   ]
  }
 ],
 "metadata": {
  "kernelspec": {
   "display_name": "Python 2",
   "language": "python",
   "name": "python2"
  },
  "language_info": {
   "codemirror_mode": {
    "name": "ipython",
    "version": 2
   },
   "file_extension": ".py",
   "mimetype": "text/x-python",
   "name": "python",
   "nbconvert_exporter": "python",
   "pygments_lexer": "ipython2",
   "version": "2.7.6"
  }
 },
 "nbformat": 4,
 "nbformat_minor": 0
}
