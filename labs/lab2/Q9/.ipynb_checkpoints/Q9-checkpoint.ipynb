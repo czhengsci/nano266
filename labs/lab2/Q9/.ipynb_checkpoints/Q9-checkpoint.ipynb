{
 "cells": [
  {
   "cell_type": "code",
   "execution_count": 1,
   "metadata": {
    "collapsed": true
   },
   "outputs": [],
   "source": [
    "import matplotlib.pyplot as plt\n",
    "%matplotlib inline\n",
    "from pymatgen.util.plotting_utils import get_publication_quality_plot"
   ]
  },
  {
   "cell_type": "code",
   "execution_count": 2,
   "metadata": {
    "collapsed": true
   },
   "outputs": [],
   "source": [
    "import numpy as np\n",
    "import pandas as pd"
   ]
  },
  {
   "cell_type": "code",
   "execution_count": 3,
   "metadata": {
    "collapsed": false
   },
   "outputs": [
    {
     "name": "stdout",
     "output_type": "stream",
     "text": [
      "Q9.ipynb           Si_50_9_10.22.out  Si_50_9_10.28.out  Si_50_9_10.32.out  Si_50_9_10.35.out  Si_50_9_10.38.out  Si_50_9_10.42.out  Si_50_9_10.48.out  Si_50_9_10.75.out  Si_50_9_9.5.out    \u001b[31mrun_pw.py\u001b[m\u001b[m*\r\n",
      "Si_50_9_10.1.out   Si_50_9_10.24.out  Si_50_9_10.3.out   Si_50_9_10.33.out  Si_50_9_10.36.out  Si_50_9_10.39.out  Si_50_9_10.44.out  Si_50_9_10.5.out   Si_50_9_10.out     \u001b[31manalyze.py\u001b[m\u001b[m*\r\n",
      "Si_50_9_10.2.out   Si_50_9_10.26.out  Si_50_9_10.31.out  Si_50_9_10.34.out  Si_50_9_10.37.out  Si_50_9_10.4.out   Si_50_9_10.46.out  Si_50_9_10.7.out   Si_50_9_6.out      results.csv\r\n"
     ]
    }
   ],
   "source": [
    "ls"
   ]
  },
  {
   "cell_type": "code",
   "execution_count": 4,
   "metadata": {
    "collapsed": true
   },
   "outputs": [],
   "source": [
    "datafile = pd.read_csv('results.csv')"
   ]
  },
  {
   "cell_type": "code",
   "execution_count": 5,
   "metadata": {
    "collapsed": false
   },
   "outputs": [
    {
     "data": {
      "text/html": [
       "<div style=\"max-height:1000px;max-width:1500px;overflow:auto;\">\n",
       "<table border=\"1\" class=\"dataframe\">\n",
       "  <thead>\n",
       "    <tr style=\"text-align: right;\">\n",
       "      <th></th>\n",
       "      <th>filename</th>\n",
       "      <th>ecut</th>\n",
       "      <th>nkpts</th>\n",
       "      <th>alat</th>\n",
       "      <th>energy</th>\n",
       "      <th>total_force</th>\n",
       "      <th>cpu_time</th>\n",
       "    </tr>\n",
       "  </thead>\n",
       "  <tbody>\n",
       "    <tr>\n",
       "      <th>0 </th>\n",
       "      <td>   Si_50_9_9.5.out</td>\n",
       "      <td> 50</td>\n",
       "      <td> 35</td>\n",
       "      <td>  9.50</td>\n",
       "      <td>-89.242348</td>\n",
       "      <td> 0</td>\n",
       "      <td> 2.4</td>\n",
       "    </tr>\n",
       "    <tr>\n",
       "      <th>1 </th>\n",
       "      <td>    Si_50_9_10.out</td>\n",
       "      <td> 50</td>\n",
       "      <td> 35</td>\n",
       "      <td> 10.00</td>\n",
       "      <td>-89.285942</td>\n",
       "      <td> 0</td>\n",
       "      <td> 3.2</td>\n",
       "    </tr>\n",
       "    <tr>\n",
       "      <th>2 </th>\n",
       "      <td>  Si_50_9_10.1.out</td>\n",
       "      <td> 50</td>\n",
       "      <td> 35</td>\n",
       "      <td> 10.10</td>\n",
       "      <td>-89.288451</td>\n",
       "      <td> 0</td>\n",
       "      <td> 5.9</td>\n",
       "    </tr>\n",
       "    <tr>\n",
       "      <th>3 </th>\n",
       "      <td>  Si_50_9_10.2.out</td>\n",
       "      <td> 50</td>\n",
       "      <td> 35</td>\n",
       "      <td> 10.20</td>\n",
       "      <td>-89.289287</td>\n",
       "      <td> 0</td>\n",
       "      <td> 9.2</td>\n",
       "    </tr>\n",
       "    <tr>\n",
       "      <th>4 </th>\n",
       "      <td> Si_50_9_10.22.out</td>\n",
       "      <td> 50</td>\n",
       "      <td> 35</td>\n",
       "      <td> 10.22</td>\n",
       "      <td>-89.289271</td>\n",
       "      <td> 0</td>\n",
       "      <td> 9.4</td>\n",
       "    </tr>\n",
       "    <tr>\n",
       "      <th>5 </th>\n",
       "      <td> Si_50_9_10.24.out</td>\n",
       "      <td> 50</td>\n",
       "      <td> 35</td>\n",
       "      <td> 10.24</td>\n",
       "      <td>-89.289192</td>\n",
       "      <td> 0</td>\n",
       "      <td> 9.6</td>\n",
       "    </tr>\n",
       "    <tr>\n",
       "      <th>6 </th>\n",
       "      <td> Si_50_9_10.26.out</td>\n",
       "      <td> 50</td>\n",
       "      <td> 35</td>\n",
       "      <td> 10.26</td>\n",
       "      <td>-89.289054</td>\n",
       "      <td> 0</td>\n",
       "      <td> 9.5</td>\n",
       "    </tr>\n",
       "    <tr>\n",
       "      <th>7 </th>\n",
       "      <td> Si_50_9_10.28.out</td>\n",
       "      <td> 50</td>\n",
       "      <td> 35</td>\n",
       "      <td> 10.28</td>\n",
       "      <td>-89.288863</td>\n",
       "      <td> 0</td>\n",
       "      <td> 9.5</td>\n",
       "    </tr>\n",
       "    <tr>\n",
       "      <th>8 </th>\n",
       "      <td>  Si_50_9_10.3.out</td>\n",
       "      <td> 50</td>\n",
       "      <td> 35</td>\n",
       "      <td> 10.30</td>\n",
       "      <td>-89.288612</td>\n",
       "      <td> 0</td>\n",
       "      <td> 9.6</td>\n",
       "    </tr>\n",
       "    <tr>\n",
       "      <th>9 </th>\n",
       "      <td> Si_50_9_10.31.out</td>\n",
       "      <td> 50</td>\n",
       "      <td> 35</td>\n",
       "      <td> 10.31</td>\n",
       "      <td>-89.288465</td>\n",
       "      <td> 0</td>\n",
       "      <td> 8.1</td>\n",
       "    </tr>\n",
       "    <tr>\n",
       "      <th>10</th>\n",
       "      <td> Si_50_9_10.32.out</td>\n",
       "      <td> 50</td>\n",
       "      <td> 35</td>\n",
       "      <td> 10.32</td>\n",
       "      <td>-89.288305</td>\n",
       "      <td> 0</td>\n",
       "      <td> 4.8</td>\n",
       "    </tr>\n",
       "    <tr>\n",
       "      <th>11</th>\n",
       "      <td> Si_50_9_10.33.out</td>\n",
       "      <td> 50</td>\n",
       "      <td> 35</td>\n",
       "      <td> 10.33</td>\n",
       "      <td>-89.288132</td>\n",
       "      <td> 0</td>\n",
       "      <td> 4.8</td>\n",
       "    </tr>\n",
       "    <tr>\n",
       "      <th>12</th>\n",
       "      <td> Si_50_9_10.34.out</td>\n",
       "      <td> 50</td>\n",
       "      <td> 35</td>\n",
       "      <td> 10.34</td>\n",
       "      <td>-89.287945</td>\n",
       "      <td> 0</td>\n",
       "      <td> 4.9</td>\n",
       "    </tr>\n",
       "    <tr>\n",
       "      <th>13</th>\n",
       "      <td> Si_50_9_10.35.out</td>\n",
       "      <td> 50</td>\n",
       "      <td> 35</td>\n",
       "      <td> 10.35</td>\n",
       "      <td>-89.287745</td>\n",
       "      <td> 0</td>\n",
       "      <td> 4.8</td>\n",
       "    </tr>\n",
       "    <tr>\n",
       "      <th>14</th>\n",
       "      <td> Si_50_9_10.36.out</td>\n",
       "      <td> 50</td>\n",
       "      <td> 35</td>\n",
       "      <td> 10.36</td>\n",
       "      <td>-89.287532</td>\n",
       "      <td> 0</td>\n",
       "      <td> 4.8</td>\n",
       "    </tr>\n",
       "    <tr>\n",
       "      <th>15</th>\n",
       "      <td> Si_50_9_10.37.out</td>\n",
       "      <td> 50</td>\n",
       "      <td> 35</td>\n",
       "      <td> 10.37</td>\n",
       "      <td>-89.287305</td>\n",
       "      <td> 0</td>\n",
       "      <td> 4.8</td>\n",
       "    </tr>\n",
       "    <tr>\n",
       "      <th>16</th>\n",
       "      <td> Si_50_9_10.38.out</td>\n",
       "      <td> 50</td>\n",
       "      <td> 35</td>\n",
       "      <td> 10.38</td>\n",
       "      <td>-89.287066</td>\n",
       "      <td> 0</td>\n",
       "      <td> 4.9</td>\n",
       "    </tr>\n",
       "    <tr>\n",
       "      <th>17</th>\n",
       "      <td> Si_50_9_10.39.out</td>\n",
       "      <td> 50</td>\n",
       "      <td> 35</td>\n",
       "      <td> 10.39</td>\n",
       "      <td>-89.286815</td>\n",
       "      <td> 0</td>\n",
       "      <td> 4.8</td>\n",
       "    </tr>\n",
       "    <tr>\n",
       "      <th>18</th>\n",
       "      <td>  Si_50_9_10.4.out</td>\n",
       "      <td> 50</td>\n",
       "      <td> 35</td>\n",
       "      <td> 10.40</td>\n",
       "      <td>-89.286550</td>\n",
       "      <td> 0</td>\n",
       "      <td> 4.8</td>\n",
       "    </tr>\n",
       "    <tr>\n",
       "      <th>19</th>\n",
       "      <td> Si_50_9_10.42.out</td>\n",
       "      <td> 50</td>\n",
       "      <td> 35</td>\n",
       "      <td> 10.42</td>\n",
       "      <td>-89.285987</td>\n",
       "      <td> 0</td>\n",
       "      <td> 4.8</td>\n",
       "    </tr>\n",
       "    <tr>\n",
       "      <th>20</th>\n",
       "      <td> Si_50_9_10.44.out</td>\n",
       "      <td> 50</td>\n",
       "      <td> 35</td>\n",
       "      <td> 10.44</td>\n",
       "      <td>-89.285372</td>\n",
       "      <td> 0</td>\n",
       "      <td> 4.8</td>\n",
       "    </tr>\n",
       "    <tr>\n",
       "      <th>21</th>\n",
       "      <td> Si_50_9_10.46.out</td>\n",
       "      <td> 50</td>\n",
       "      <td> 35</td>\n",
       "      <td> 10.46</td>\n",
       "      <td>-89.284709</td>\n",
       "      <td> 0</td>\n",
       "      <td> 4.9</td>\n",
       "    </tr>\n",
       "    <tr>\n",
       "      <th>22</th>\n",
       "      <td> Si_50_9_10.48.out</td>\n",
       "      <td> 50</td>\n",
       "      <td> 35</td>\n",
       "      <td> 10.48</td>\n",
       "      <td>-89.284000</td>\n",
       "      <td> 0</td>\n",
       "      <td> 4.8</td>\n",
       "    </tr>\n",
       "    <tr>\n",
       "      <th>23</th>\n",
       "      <td>  Si_50_9_10.5.out</td>\n",
       "      <td> 50</td>\n",
       "      <td> 35</td>\n",
       "      <td> 10.50</td>\n",
       "      <td>-89.283244</td>\n",
       "      <td> 0</td>\n",
       "      <td> 4.9</td>\n",
       "    </tr>\n",
       "    <tr>\n",
       "      <th>24</th>\n",
       "      <td>  Si_50_9_10.7.out</td>\n",
       "      <td> 50</td>\n",
       "      <td> 35</td>\n",
       "      <td> 10.70</td>\n",
       "      <td>-89.273379</td>\n",
       "      <td> 0</td>\n",
       "      <td> 4.9</td>\n",
       "    </tr>\n",
       "    <tr>\n",
       "      <th>25</th>\n",
       "      <td> Si_50_9_10.75.out</td>\n",
       "      <td> 50</td>\n",
       "      <td> 35</td>\n",
       "      <td> 10.75</td>\n",
       "      <td>-89.270314</td>\n",
       "      <td> 0</td>\n",
       "      <td> 4.9</td>\n",
       "    </tr>\n",
       "  </tbody>\n",
       "</table>\n",
       "</div>"
      ],
      "text/plain": [
       "             filename  ecut  nkpts   alat     energy  total_force  cpu_time\n",
       "0     Si_50_9_9.5.out    50     35   9.50 -89.242348            0       2.4\n",
       "1      Si_50_9_10.out    50     35  10.00 -89.285942            0       3.2\n",
       "2    Si_50_9_10.1.out    50     35  10.10 -89.288451            0       5.9\n",
       "3    Si_50_9_10.2.out    50     35  10.20 -89.289287            0       9.2\n",
       "4   Si_50_9_10.22.out    50     35  10.22 -89.289271            0       9.4\n",
       "5   Si_50_9_10.24.out    50     35  10.24 -89.289192            0       9.6\n",
       "6   Si_50_9_10.26.out    50     35  10.26 -89.289054            0       9.5\n",
       "7   Si_50_9_10.28.out    50     35  10.28 -89.288863            0       9.5\n",
       "8    Si_50_9_10.3.out    50     35  10.30 -89.288612            0       9.6\n",
       "9   Si_50_9_10.31.out    50     35  10.31 -89.288465            0       8.1\n",
       "10  Si_50_9_10.32.out    50     35  10.32 -89.288305            0       4.8\n",
       "11  Si_50_9_10.33.out    50     35  10.33 -89.288132            0       4.8\n",
       "12  Si_50_9_10.34.out    50     35  10.34 -89.287945            0       4.9\n",
       "13  Si_50_9_10.35.out    50     35  10.35 -89.287745            0       4.8\n",
       "14  Si_50_9_10.36.out    50     35  10.36 -89.287532            0       4.8\n",
       "15  Si_50_9_10.37.out    50     35  10.37 -89.287305            0       4.8\n",
       "16  Si_50_9_10.38.out    50     35  10.38 -89.287066            0       4.9\n",
       "17  Si_50_9_10.39.out    50     35  10.39 -89.286815            0       4.8\n",
       "18   Si_50_9_10.4.out    50     35  10.40 -89.286550            0       4.8\n",
       "19  Si_50_9_10.42.out    50     35  10.42 -89.285987            0       4.8\n",
       "20  Si_50_9_10.44.out    50     35  10.44 -89.285372            0       4.8\n",
       "21  Si_50_9_10.46.out    50     35  10.46 -89.284709            0       4.9\n",
       "22  Si_50_9_10.48.out    50     35  10.48 -89.284000            0       4.8\n",
       "23   Si_50_9_10.5.out    50     35  10.50 -89.283244            0       4.9\n",
       "24   Si_50_9_10.7.out    50     35  10.70 -89.273379            0       4.9\n",
       "25  Si_50_9_10.75.out    50     35  10.75 -89.270314            0       4.9"
      ]
     },
     "execution_count": 5,
     "metadata": {},
     "output_type": "execute_result"
    }
   ],
   "source": [
    "datafile.head(0)"
   ]
  },
  {
   "cell_type": "code",
   "execution_count": 6,
   "metadata": {
    "collapsed": false
   },
   "outputs": [
    {
     "data": {
      "text/plain": [
       "filename       Si_50_9_10.2.out\n",
       "ecut                         50\n",
       "nkpts                        35\n",
       "alat                       10.2\n",
       "energy                -89.28929\n",
       "total_force                   0\n",
       "cpu_time                    9.2\n",
       "Name: 3, dtype: object"
      ]
     },
     "execution_count": 6,
     "metadata": {},
     "output_type": "execute_result"
    }
   ],
   "source": [
    "datafile.ix[datafile['energy'].idxmin()]"
   ]
  },
  {
   "cell_type": "code",
   "execution_count": 7,
   "metadata": {
    "collapsed": true
   },
   "outputs": [],
   "source": [
    "datafile_mod = datafile[(datafile['alat']>9.5) & (datafile['alat']<11.5)]"
   ]
  },
  {
   "cell_type": "code",
   "execution_count": 56,
   "metadata": {
    "collapsed": false
   },
   "outputs": [
    {
     "data": {
      "text/html": [
       "<div style=\"max-height:1000px;max-width:1500px;overflow:auto;\">\n",
       "<table border=\"1\" class=\"dataframe\">\n",
       "  <thead>\n",
       "    <tr style=\"text-align: right;\">\n",
       "      <th></th>\n",
       "      <th>filename</th>\n",
       "      <th>ecut</th>\n",
       "      <th>nkpts</th>\n",
       "      <th>alat</th>\n",
       "      <th>energy</th>\n",
       "      <th>total_force</th>\n",
       "      <th>cpu_time</th>\n",
       "    </tr>\n",
       "  </thead>\n",
       "  <tbody>\n",
       "    <tr>\n",
       "      <th>1</th>\n",
       "      <td>    Si_50_9_10.out</td>\n",
       "      <td> 50</td>\n",
       "      <td> 35</td>\n",
       "      <td> 10.00</td>\n",
       "      <td>-93.445675</td>\n",
       "      <td> 0</td>\n",
       "      <td> 3.8</td>\n",
       "    </tr>\n",
       "    <tr>\n",
       "      <th>2</th>\n",
       "      <td>  Si_50_9_10.1.out</td>\n",
       "      <td> 50</td>\n",
       "      <td> 35</td>\n",
       "      <td> 10.10</td>\n",
       "      <td>-93.450191</td>\n",
       "      <td> 0</td>\n",
       "      <td> 5.3</td>\n",
       "    </tr>\n",
       "    <tr>\n",
       "      <th>3</th>\n",
       "      <td>  Si_50_9_10.2.out</td>\n",
       "      <td> 50</td>\n",
       "      <td> 35</td>\n",
       "      <td> 10.20</td>\n",
       "      <td>-93.452963</td>\n",
       "      <td> 0</td>\n",
       "      <td> 5.2</td>\n",
       "    </tr>\n",
       "    <tr>\n",
       "      <th>4</th>\n",
       "      <td> Si_50_9_10.22.out</td>\n",
       "      <td> 50</td>\n",
       "      <td> 35</td>\n",
       "      <td> 10.22</td>\n",
       "      <td>-93.453322</td>\n",
       "      <td> 0</td>\n",
       "      <td> 5.4</td>\n",
       "    </tr>\n",
       "    <tr>\n",
       "      <th>5</th>\n",
       "      <td> Si_50_9_10.24.out</td>\n",
       "      <td> 50</td>\n",
       "      <td> 35</td>\n",
       "      <td> 10.24</td>\n",
       "      <td>-93.453618</td>\n",
       "      <td> 0</td>\n",
       "      <td> 5.4</td>\n",
       "    </tr>\n",
       "  </tbody>\n",
       "</table>\n",
       "</div>"
      ],
      "text/plain": [
       "            filename  ecut  nkpts   alat     energy  total_force  cpu_time\n",
       "1     Si_50_9_10.out    50     35  10.00 -93.445675            0       3.8\n",
       "2   Si_50_9_10.1.out    50     35  10.10 -93.450191            0       5.3\n",
       "3   Si_50_9_10.2.out    50     35  10.20 -93.452963            0       5.2\n",
       "4  Si_50_9_10.22.out    50     35  10.22 -93.453322            0       5.4\n",
       "5  Si_50_9_10.24.out    50     35  10.24 -93.453618            0       5.4"
      ]
     },
     "execution_count": 56,
     "metadata": {},
     "output_type": "execute_result"
    }
   ],
   "source": [
    "datafile_mod.head()"
   ]
  },
  {
   "cell_type": "code",
   "execution_count": 8,
   "metadata": {
    "collapsed": false
   },
   "outputs": [
    {
     "data": {
      "text/plain": [
       "[10.0,\n",
       " 10.1,\n",
       " 10.199999999999999,\n",
       " 10.220000000000001,\n",
       " 10.24,\n",
       " 10.26,\n",
       " 10.279999999999999,\n",
       " 10.300000000000001,\n",
       " 10.31,\n",
       " 10.32,\n",
       " 10.33,\n",
       " 10.34,\n",
       " 10.35,\n",
       " 10.359999999999999,\n",
       " 10.369999999999999,\n",
       " 10.380000000000001,\n",
       " 10.390000000000001,\n",
       " 10.4,\n",
       " 10.42,\n",
       " 10.44,\n",
       " 10.460000000000001,\n",
       " 10.48,\n",
       " 10.5,\n",
       " 10.699999999999999,\n",
       " 10.75]"
      ]
     },
     "execution_count": 8,
     "metadata": {},
     "output_type": "execute_result"
    }
   ],
   "source": [
    "x = datafile_mod['alat'].tolist()\n",
    "x"
   ]
  },
  {
   "cell_type": "code",
   "execution_count": 9,
   "metadata": {
    "collapsed": false
   },
   "outputs": [],
   "source": [
    "y_energy = datafile_mod['energy'].tolist()\n",
    "# y_conver = datafile['Force Difference (meV/Angstrom)'].tolist()"
   ]
  },
  {
   "cell_type": "code",
   "execution_count": 11,
   "metadata": {
    "collapsed": false
   },
   "outputs": [
    {
     "data": {
      "image/png": "[encoded data removed]",
      "text/plain": [
       "<matplotlib.figure.Figure at 0x107dad790>"
      ]
     },
     "metadata": {},
     "output_type": "display_data"
    }
   ],
   "source": [
    "fig, ax0=plt.subplots(nrows=1)\n",
    "fig.set_size_inches(10,10)\n",
    "\n",
    "ax0.scatter(x, y_energy,marker='o',alpha=0.75,s=60,c='r')\n",
    "ax0.plot(x,y_energy,c='black')\n",
    "ax0.set_title('Energy VS Lattice Constant',fontsize=30,y=1.05)\n",
    "ax0.set_xlabel('Lattice Parameter (a.u)',fontsize=24)\n",
    "ax0.set_ylabel(r'Total Energy (Ry)',fontsize=20)\n",
    "# ax0.set_ylim(-93.456,-93.44)\n",
    "ax0.tick_params(labelsize = 18)\n",
    "ax0.annotate('Lowest Energy: 10.33 a.u.', xy=(10.33, -93.45421),  xycoords='data',\n",
    "                xytext=(-50, -30), textcoords='offset points',\n",
    "                arrowprops=dict(arrowstyle=\"->\",\n",
    "                                connectionstyle=\"angle3,angleA=0,angleB=-90\"),fontsize=15\n",
    "                )\n",
    "\n",
    "# ax1.scatter(x,y_conver,marker='o',alpha=0.75, s=60,c='b')\n",
    "# ax1.plot(x,y_conver,c='black')\n",
    "# ax1.set_title('Force Convergence Vs K-points',fontsize=24,y=1.05)\n",
    "# ax1.set_xlabel('# of K-points',fontsize=24)\n",
    "# ax1.set_ylabel(r'Force Converge $meV/\\AA$',fontsize=18)\n",
    "# # ax1.set_yscale('log')\n",
    "# ax1.set_ylim(-1,40)\n",
    "# ax1.annotate(r'Convergence < 5 $meV/\\AA$ # Kpoints: 205', xy=(207, 5),  xycoords='data',\n",
    "#                 xytext=(0.95, 0.95), textcoords='axes fraction',\n",
    "#                 arrowprops=dict(facecolor='black', shrink=0.05),\n",
    "#                 horizontalalignment='right', verticalalignment='top',fontsize=16\n",
    "#                 )\n",
    "# ax1.tick_params(labelsize = 18)\n",
    "\n",
    "plt.subplots_adjust(hspace=0.5)\n",
    "plt.show()"
   ]
  },
  {
   "cell_type": "code",
   "execution_count": 17,
   "metadata": {
    "collapsed": false
   },
   "outputs": [
    {
     "data": {
      "text/plain": [
       "<matplotlib.text.Text at 0x10891e9d0>"
      ]
     },
     "execution_count": 17,
     "metadata": {},
     "output_type": "execute_result"
    }
   ],
   "source": []
  },
  {
   "cell_type": "code",
   "execution_count": 18,
   "metadata": {
    "collapsed": true
   },
   "outputs": [],
   "source": [
    "plt.show()"
   ]
  }
 ],
 "metadata": {
  "kernelspec": {
   "display_name": "Python 2",
   "language": "python",
   "name": "python2"
  },
  "language_info": {
   "codemirror_mode": {
    "name": "ipython",
    "version": 2
   },
   "file_extension": ".py",
   "mimetype": "text/x-python",
   "name": "python",
   "nbconvert_exporter": "python",
   "pygments_lexer": "ipython2",
   "version": "2.7.6"
  }
 },
 "nbformat": 4,
 "nbformat_minor": 0
}
