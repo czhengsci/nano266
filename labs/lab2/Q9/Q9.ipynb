{
 "cells": [
  {
   "cell_type": "code",
   "execution_count": 1,
   "metadata": {
    "collapsed": true
   },
   "outputs": [],
   "source": [
    "import matplotlib.pyplot as plt\n",
    "%matplotlib inline\n",
    "from pymatgen.util.plotting_utils import get_publication_quality_plot"
   ]
  },
  {
   "cell_type": "code",
   "execution_count": 2,
   "metadata": {
    "collapsed": true
   },
   "outputs": [],
   "source": [
    "import numpy as np\n",
    "import pandas as pd"
   ]
  },
  {
   "cell_type": "code",
   "execution_count": 3,
   "metadata": {
    "collapsed": false
   },
   "outputs": [
    {
     "name": "stdout",
     "output_type": "stream",
     "text": [
      "Q9.ipynb           Si_50_9_10.22.out  Si_50_9_10.28.out  Si_50_9_10.32.out  Si_50_9_10.35.out  Si_50_9_10.38.out  Si_50_9_10.42.out  Si_50_9_10.48.out  Si_50_9_10.75.out  Si_50_9_9.5.out    \u001b[31mrun_pw.py\u001b[m\u001b[m*\r\n",
      "Si_50_9_10.1.out   Si_50_9_10.24.out  Si_50_9_10.3.out   Si_50_9_10.33.out  Si_50_9_10.36.out  Si_50_9_10.39.out  Si_50_9_10.44.out  Si_50_9_10.5.out   Si_50_9_10.out     \u001b[31manalyze.py\u001b[m\u001b[m*\r\n",
      "Si_50_9_10.2.out   Si_50_9_10.26.out  Si_50_9_10.31.out  Si_50_9_10.34.out  Si_50_9_10.37.out  Si_50_9_10.4.out   Si_50_9_10.46.out  Si_50_9_10.7.out   Si_50_9_6.out      results.csv\r\n"
     ]
    }
   ],
   "source": [
    "ls"
   ]
  },
  {
   "cell_type": "code",
   "execution_count": 12,
   "metadata": {
    "collapsed": true
   },
   "outputs": [],
   "source": [
    "datafile = pd.read_csv('results.csv')"
   ]
  },
  {
   "cell_type": "code",
   "execution_count": 13,
   "metadata": {
    "collapsed": false
   },
   "outputs": [
    {
     "data": {
      "text/html": [
       "<div style=\"max-height:1000px;max-width:1500px;overflow:auto;\">\n",
       "<table border=\"1\" class=\"dataframe\">\n",
       "  <thead>\n",
       "    <tr style=\"text-align: right;\">\n",
       "      <th></th>\n",
       "      <th>filename</th>\n",
       "      <th>ecut</th>\n",
       "      <th>nkpts</th>\n",
       "      <th>alat</th>\n",
       "      <th>energy</th>\n",
       "      <th>total_force</th>\n",
       "      <th>cpu_time</th>\n",
       "    </tr>\n",
       "  </thead>\n",
       "  <tbody>\n",
       "    <tr>\n",
       "      <th>0 </th>\n",
       "      <td>   Si_50_9_9.5.out</td>\n",
       "      <td> 50</td>\n",
       "      <td> 35</td>\n",
       "      <td>  9.50</td>\n",
       "      <td>-89.242348</td>\n",
       "      <td> 0</td>\n",
       "      <td> 2.3</td>\n",
       "    </tr>\n",
       "    <tr>\n",
       "      <th>1 </th>\n",
       "      <td>    Si_50_9_10.out</td>\n",
       "      <td> 50</td>\n",
       "      <td> 35</td>\n",
       "      <td> 10.00</td>\n",
       "      <td>-89.285942</td>\n",
       "      <td> 0</td>\n",
       "      <td> 3.2</td>\n",
       "    </tr>\n",
       "    <tr>\n",
       "      <th>2 </th>\n",
       "      <td> Si_50_9_10.05.out</td>\n",
       "      <td> 50</td>\n",
       "      <td> 35</td>\n",
       "      <td> 10.05</td>\n",
       "      <td>-89.287416</td>\n",
       "      <td> 0</td>\n",
       "      <td> 3.2</td>\n",
       "    </tr>\n",
       "    <tr>\n",
       "      <th>3 </th>\n",
       "      <td>  Si_50_9_10.1.out</td>\n",
       "      <td> 50</td>\n",
       "      <td> 35</td>\n",
       "      <td> 10.10</td>\n",
       "      <td>-89.288451</td>\n",
       "      <td> 0</td>\n",
       "      <td> 4.6</td>\n",
       "    </tr>\n",
       "    <tr>\n",
       "      <th>4 </th>\n",
       "      <td> Si_50_9_10.15.out</td>\n",
       "      <td> 50</td>\n",
       "      <td> 35</td>\n",
       "      <td> 10.15</td>\n",
       "      <td>-89.289067</td>\n",
       "      <td> 0</td>\n",
       "      <td> 4.7</td>\n",
       "    </tr>\n",
       "    <tr>\n",
       "      <th>5 </th>\n",
       "      <td> Si_50_9_10.16.out</td>\n",
       "      <td> 50</td>\n",
       "      <td> 35</td>\n",
       "      <td> 10.16</td>\n",
       "      <td>-89.289142</td>\n",
       "      <td> 0</td>\n",
       "      <td> 4.6</td>\n",
       "    </tr>\n",
       "    <tr>\n",
       "      <th>6 </th>\n",
       "      <td> Si_50_9_10.17.out</td>\n",
       "      <td> 50</td>\n",
       "      <td> 35</td>\n",
       "      <td> 10.17</td>\n",
       "      <td>-89.289201</td>\n",
       "      <td> 0</td>\n",
       "      <td> 4.6</td>\n",
       "    </tr>\n",
       "    <tr>\n",
       "      <th>7 </th>\n",
       "      <td> Si_50_9_10.18.out</td>\n",
       "      <td> 50</td>\n",
       "      <td> 35</td>\n",
       "      <td> 10.18</td>\n",
       "      <td>-89.289245</td>\n",
       "      <td> 0</td>\n",
       "      <td> 4.6</td>\n",
       "    </tr>\n",
       "    <tr>\n",
       "      <th>8 </th>\n",
       "      <td> Si_50_9_10.19.out</td>\n",
       "      <td> 50</td>\n",
       "      <td> 35</td>\n",
       "      <td> 10.19</td>\n",
       "      <td>-89.289274</td>\n",
       "      <td> 0</td>\n",
       "      <td> 4.6</td>\n",
       "    </tr>\n",
       "    <tr>\n",
       "      <th>9 </th>\n",
       "      <td>  Si_50_9_10.2.out</td>\n",
       "      <td> 50</td>\n",
       "      <td> 35</td>\n",
       "      <td> 10.20</td>\n",
       "      <td>-89.289287</td>\n",
       "      <td> 0</td>\n",
       "      <td> 4.6</td>\n",
       "    </tr>\n",
       "    <tr>\n",
       "      <th>10</th>\n",
       "      <td> Si_50_9_10.21.out</td>\n",
       "      <td> 50</td>\n",
       "      <td> 35</td>\n",
       "      <td> 10.21</td>\n",
       "      <td>-89.289288</td>\n",
       "      <td> 0</td>\n",
       "      <td> 4.7</td>\n",
       "    </tr>\n",
       "    <tr>\n",
       "      <th>11</th>\n",
       "      <td> Si_50_9_10.22.out</td>\n",
       "      <td> 50</td>\n",
       "      <td> 35</td>\n",
       "      <td> 10.22</td>\n",
       "      <td>-89.289271</td>\n",
       "      <td> 0</td>\n",
       "      <td> 4.8</td>\n",
       "    </tr>\n",
       "    <tr>\n",
       "      <th>12</th>\n",
       "      <td> Si_50_9_10.23.out</td>\n",
       "      <td> 50</td>\n",
       "      <td> 35</td>\n",
       "      <td> 10.23</td>\n",
       "      <td>-89.289239</td>\n",
       "      <td> 0</td>\n",
       "      <td> 4.8</td>\n",
       "    </tr>\n",
       "    <tr>\n",
       "      <th>13</th>\n",
       "      <td> Si_50_9_10.24.out</td>\n",
       "      <td> 50</td>\n",
       "      <td> 35</td>\n",
       "      <td> 10.24</td>\n",
       "      <td>-89.289192</td>\n",
       "      <td> 0</td>\n",
       "      <td> 4.8</td>\n",
       "    </tr>\n",
       "    <tr>\n",
       "      <th>14</th>\n",
       "      <td> Si_50_9_10.25.out</td>\n",
       "      <td> 50</td>\n",
       "      <td> 35</td>\n",
       "      <td> 10.25</td>\n",
       "      <td>-89.289130</td>\n",
       "      <td> 0</td>\n",
       "      <td> 4.8</td>\n",
       "    </tr>\n",
       "    <tr>\n",
       "      <th>15</th>\n",
       "      <td> Si_50_9_10.26.out</td>\n",
       "      <td> 50</td>\n",
       "      <td> 35</td>\n",
       "      <td> 10.26</td>\n",
       "      <td>-89.289054</td>\n",
       "      <td> 0</td>\n",
       "      <td> 4.8</td>\n",
       "    </tr>\n",
       "    <tr>\n",
       "      <th>16</th>\n",
       "      <td> Si_50_9_10.28.out</td>\n",
       "      <td> 50</td>\n",
       "      <td> 35</td>\n",
       "      <td> 10.28</td>\n",
       "      <td>-89.288863</td>\n",
       "      <td> 0</td>\n",
       "      <td> 4.8</td>\n",
       "    </tr>\n",
       "    <tr>\n",
       "      <th>17</th>\n",
       "      <td>  Si_50_9_10.3.out</td>\n",
       "      <td> 50</td>\n",
       "      <td> 35</td>\n",
       "      <td> 10.30</td>\n",
       "      <td>-89.288612</td>\n",
       "      <td> 0</td>\n",
       "      <td> 4.8</td>\n",
       "    </tr>\n",
       "    <tr>\n",
       "      <th>18</th>\n",
       "      <td> Si_50_9_10.32.out</td>\n",
       "      <td> 50</td>\n",
       "      <td> 35</td>\n",
       "      <td> 10.32</td>\n",
       "      <td>-89.288305</td>\n",
       "      <td> 0</td>\n",
       "      <td> 4.8</td>\n",
       "    </tr>\n",
       "    <tr>\n",
       "      <th>19</th>\n",
       "      <td> Si_50_9_10.34.out</td>\n",
       "      <td> 50</td>\n",
       "      <td> 35</td>\n",
       "      <td> 10.34</td>\n",
       "      <td>-89.287945</td>\n",
       "      <td> 0</td>\n",
       "      <td> 4.8</td>\n",
       "    </tr>\n",
       "    <tr>\n",
       "      <th>20</th>\n",
       "      <td> Si_50_9_10.37.out</td>\n",
       "      <td> 50</td>\n",
       "      <td> 35</td>\n",
       "      <td> 10.37</td>\n",
       "      <td>-89.287305</td>\n",
       "      <td> 0</td>\n",
       "      <td> 4.8</td>\n",
       "    </tr>\n",
       "    <tr>\n",
       "      <th>21</th>\n",
       "      <td>  Si_50_9_10.4.out</td>\n",
       "      <td> 50</td>\n",
       "      <td> 35</td>\n",
       "      <td> 10.40</td>\n",
       "      <td>-89.286550</td>\n",
       "      <td> 0</td>\n",
       "      <td> 4.8</td>\n",
       "    </tr>\n",
       "    <tr>\n",
       "      <th>22</th>\n",
       "      <td> Si_50_9_10.44.out</td>\n",
       "      <td> 50</td>\n",
       "      <td> 35</td>\n",
       "      <td> 10.44</td>\n",
       "      <td>-89.285372</td>\n",
       "      <td> 0</td>\n",
       "      <td> 4.8</td>\n",
       "    </tr>\n",
       "    <tr>\n",
       "      <th>23</th>\n",
       "      <td> Si_50_9_10.48.out</td>\n",
       "      <td> 50</td>\n",
       "      <td> 35</td>\n",
       "      <td> 10.48</td>\n",
       "      <td>-89.284000</td>\n",
       "      <td> 0</td>\n",
       "      <td> 4.8</td>\n",
       "    </tr>\n",
       "    <tr>\n",
       "      <th>24</th>\n",
       "      <td>  Si_50_9_10.5.out</td>\n",
       "      <td> 50</td>\n",
       "      <td> 35</td>\n",
       "      <td> 10.50</td>\n",
       "      <td>-89.283244</td>\n",
       "      <td> 0</td>\n",
       "      <td> 4.9</td>\n",
       "    </tr>\n",
       "  </tbody>\n",
       "</table>\n",
       "</div>"
      ],
      "text/plain": [
       "             filename  ecut  nkpts   alat     energy  total_force  cpu_time\n",
       "0     Si_50_9_9.5.out    50     35   9.50 -89.242348            0       2.3\n",
       "1      Si_50_9_10.out    50     35  10.00 -89.285942            0       3.2\n",
       "2   Si_50_9_10.05.out    50     35  10.05 -89.287416            0       3.2\n",
       "3    Si_50_9_10.1.out    50     35  10.10 -89.288451            0       4.6\n",
       "4   Si_50_9_10.15.out    50     35  10.15 -89.289067            0       4.7\n",
       "5   Si_50_9_10.16.out    50     35  10.16 -89.289142            0       4.6\n",
       "6   Si_50_9_10.17.out    50     35  10.17 -89.289201            0       4.6\n",
       "7   Si_50_9_10.18.out    50     35  10.18 -89.289245            0       4.6\n",
       "8   Si_50_9_10.19.out    50     35  10.19 -89.289274            0       4.6\n",
       "9    Si_50_9_10.2.out    50     35  10.20 -89.289287            0       4.6\n",
       "10  Si_50_9_10.21.out    50     35  10.21 -89.289288            0       4.7\n",
       "11  Si_50_9_10.22.out    50     35  10.22 -89.289271            0       4.8\n",
       "12  Si_50_9_10.23.out    50     35  10.23 -89.289239            0       4.8\n",
       "13  Si_50_9_10.24.out    50     35  10.24 -89.289192            0       4.8\n",
       "14  Si_50_9_10.25.out    50     35  10.25 -89.289130            0       4.8\n",
       "15  Si_50_9_10.26.out    50     35  10.26 -89.289054            0       4.8\n",
       "16  Si_50_9_10.28.out    50     35  10.28 -89.288863            0       4.8\n",
       "17   Si_50_9_10.3.out    50     35  10.30 -89.288612            0       4.8\n",
       "18  Si_50_9_10.32.out    50     35  10.32 -89.288305            0       4.8\n",
       "19  Si_50_9_10.34.out    50     35  10.34 -89.287945            0       4.8\n",
       "20  Si_50_9_10.37.out    50     35  10.37 -89.287305            0       4.8\n",
       "21   Si_50_9_10.4.out    50     35  10.40 -89.286550            0       4.8\n",
       "22  Si_50_9_10.44.out    50     35  10.44 -89.285372            0       4.8\n",
       "23  Si_50_9_10.48.out    50     35  10.48 -89.284000            0       4.8\n",
       "24   Si_50_9_10.5.out    50     35  10.50 -89.283244            0       4.9"
      ]
     },
     "execution_count": 13,
     "metadata": {},
     "output_type": "execute_result"
    }
   ],
   "source": [
    "datafile.head(0)"
   ]
  },
  {
   "cell_type": "code",
   "execution_count": 14,
   "metadata": {
    "collapsed": false
   },
   "outputs": [
    {
     "data": {
      "text/plain": [
       "filename       Si_50_9_10.21.out\n",
       "ecut                          50\n",
       "nkpts                         35\n",
       "alat                       10.21\n",
       "energy                 -89.28929\n",
       "total_force                    0\n",
       "cpu_time                     4.7\n",
       "Name: 10, dtype: object"
      ]
     },
     "execution_count": 14,
     "metadata": {},
     "output_type": "execute_result"
    }
   ],
   "source": [
    "datafile.ix[datafile['energy'].idxmin()]"
   ]
  },
  {
   "cell_type": "code",
   "execution_count": 34,
   "metadata": {
    "collapsed": true
   },
   "outputs": [],
   "source": [
    "datafile_mod = datafile[(datafile['alat']>9.5) & (datafile['alat']<10.48)]"
   ]
  },
  {
   "cell_type": "code",
   "execution_count": 16,
   "metadata": {
    "collapsed": false
   },
   "outputs": [
    {
     "data": {
      "text/html": [
       "<div style=\"max-height:1000px;max-width:1500px;overflow:auto;\">\n",
       "<table border=\"1\" class=\"dataframe\">\n",
       "  <thead>\n",
       "    <tr style=\"text-align: right;\">\n",
       "      <th></th>\n",
       "      <th>filename</th>\n",
       "      <th>ecut</th>\n",
       "      <th>nkpts</th>\n",
       "      <th>alat</th>\n",
       "      <th>energy</th>\n",
       "      <th>total_force</th>\n",
       "      <th>cpu_time</th>\n",
       "    </tr>\n",
       "  </thead>\n",
       "  <tbody>\n",
       "    <tr>\n",
       "      <th>1</th>\n",
       "      <td>    Si_50_9_10.out</td>\n",
       "      <td> 50</td>\n",
       "      <td> 35</td>\n",
       "      <td> 10.00</td>\n",
       "      <td>-89.285942</td>\n",
       "      <td> 0</td>\n",
       "      <td> 3.2</td>\n",
       "    </tr>\n",
       "    <tr>\n",
       "      <th>2</th>\n",
       "      <td> Si_50_9_10.05.out</td>\n",
       "      <td> 50</td>\n",
       "      <td> 35</td>\n",
       "      <td> 10.05</td>\n",
       "      <td>-89.287416</td>\n",
       "      <td> 0</td>\n",
       "      <td> 3.2</td>\n",
       "    </tr>\n",
       "    <tr>\n",
       "      <th>3</th>\n",
       "      <td>  Si_50_9_10.1.out</td>\n",
       "      <td> 50</td>\n",
       "      <td> 35</td>\n",
       "      <td> 10.10</td>\n",
       "      <td>-89.288451</td>\n",
       "      <td> 0</td>\n",
       "      <td> 4.6</td>\n",
       "    </tr>\n",
       "    <tr>\n",
       "      <th>4</th>\n",
       "      <td> Si_50_9_10.15.out</td>\n",
       "      <td> 50</td>\n",
       "      <td> 35</td>\n",
       "      <td> 10.15</td>\n",
       "      <td>-89.289067</td>\n",
       "      <td> 0</td>\n",
       "      <td> 4.7</td>\n",
       "    </tr>\n",
       "    <tr>\n",
       "      <th>5</th>\n",
       "      <td> Si_50_9_10.16.out</td>\n",
       "      <td> 50</td>\n",
       "      <td> 35</td>\n",
       "      <td> 10.16</td>\n",
       "      <td>-89.289142</td>\n",
       "      <td> 0</td>\n",
       "      <td> 4.6</td>\n",
       "    </tr>\n",
       "  </tbody>\n",
       "</table>\n",
       "</div>"
      ],
      "text/plain": [
       "            filename  ecut  nkpts   alat     energy  total_force  cpu_time\n",
       "1     Si_50_9_10.out    50     35  10.00 -89.285942            0       3.2\n",
       "2  Si_50_9_10.05.out    50     35  10.05 -89.287416            0       3.2\n",
       "3   Si_50_9_10.1.out    50     35  10.10 -89.288451            0       4.6\n",
       "4  Si_50_9_10.15.out    50     35  10.15 -89.289067            0       4.7\n",
       "5  Si_50_9_10.16.out    50     35  10.16 -89.289142            0       4.6"
      ]
     },
     "execution_count": 16,
     "metadata": {},
     "output_type": "execute_result"
    }
   ],
   "source": [
    "datafile_mod.head()"
   ]
  },
  {
   "cell_type": "code",
   "execution_count": 35,
   "metadata": {
    "collapsed": false
   },
   "outputs": [
    {
     "data": {
      "text/plain": [
       "[10.0,\n",
       " 10.050000000000001,\n",
       " 10.1,\n",
       " 10.15,\n",
       " 10.16,\n",
       " 10.17,\n",
       " 10.18,\n",
       " 10.19,\n",
       " 10.199999999999999,\n",
       " 10.210000000000001,\n",
       " 10.220000000000001,\n",
       " 10.23,\n",
       " 10.24,\n",
       " 10.25,\n",
       " 10.26,\n",
       " 10.279999999999999,\n",
       " 10.300000000000001,\n",
       " 10.32,\n",
       " 10.34,\n",
       " 10.369999999999999,\n",
       " 10.4,\n",
       " 10.44]"
      ]
     },
     "execution_count": 35,
     "metadata": {},
     "output_type": "execute_result"
    }
   ],
   "source": [
    "x = datafile_mod['alat'].tolist()\n",
    "x"
   ]
  },
  {
   "cell_type": "code",
   "execution_count": 38,
   "metadata": {
    "collapsed": false
   },
   "outputs": [
    {
     "data": {
      "text/plain": [
       "filename       Si_50_9_10.44.out\n",
       "ecut                          50\n",
       "nkpts                         35\n",
       "alat                       10.44\n",
       "energy                 -89.28537\n",
       "total_force                    0\n",
       "cpu_time                     4.8\n",
       "Name: 22, dtype: object"
      ]
     },
     "execution_count": 38,
     "metadata": {},
     "output_type": "execute_result"
    }
   ],
   "source": [
    "datafile_mod.ix[datafile_mod['energy'].idxmax()]"
   ]
  },
  {
   "cell_type": "code",
   "execution_count": 36,
   "metadata": {
    "collapsed": false
   },
   "outputs": [],
   "source": [
    "y_energy = datafile_mod['energy'].tolist()\n",
    "# y_conver = datafile['Force Difference (meV/Angstrom)'].tolist()"
   ]
  },
  {
   "cell_type": "code",
   "execution_count": 39,
   "metadata": {
    "collapsed": false
   },
   "outputs": [
    {
     "data": {
      "image/png": "[encoded data removed]",
      "text/plain": [
       "<matplotlib.figure.Figure at 0x102941410>"
      ]
     },
     "metadata": {},
     "output_type": "display_data"
    }
   ],
   "source": [
    "fig, ax0=plt.subplots(nrows=1)\n",
    "fig.set_size_inches(10,10)\n",
    "\n",
    "ax0.scatter(x, y_energy,marker='o',alpha=0.75,s=60,c='r')\n",
    "ax0.plot(x,y_energy,c='black')\n",
    "ax0.set_title('Energy VS Lattice Constant',fontsize=30,y=1.05)\n",
    "ax0.set_xlabel('Lattice Parameter (a.u)',fontsize=24)\n",
    "ax0.set_ylabel(r'Total Energy (Ry)',fontsize=20)\n",
    "ax0.set_ylim(-89.29,-89.285)\n",
    "ax0.tick_params(labelsize = 18)\n",
    "ax0.annotate('Lowest Energy: 10.21 a.u.', xy=(10.21, -89.28929),  xycoords='data',\n",
    "                xytext=(-50, -30), textcoords='offset points',\n",
    "                arrowprops=dict(arrowstyle=\"->\",\n",
    "                                connectionstyle=\"angle3,angleA=0,angleB=-90\"),fontsize=15\n",
    "                )\n",
    "\n",
    "# ax1.scatter(x,y_conver,marker='o',alpha=0.75, s=60,c='b')\n",
    "# ax1.plot(x,y_conver,c='black')\n",
    "# ax1.set_title('Force Convergence Vs K-points',fontsize=24,y=1.05)\n",
    "# ax1.set_xlabel('# of K-points',fontsize=24)\n",
    "# ax1.set_ylabel(r'Force Converge $meV/\\AA$',fontsize=18)\n",
    "# # ax1.set_yscale('log')\n",
    "# ax1.set_ylim(-1,40)\n",
    "# ax1.annotate(r'Convergence < 5 $meV/\\AA$ # Kpoints: 205', xy=(207, 5),  xycoords='data',\n",
    "#                 xytext=(0.95, 0.95), textcoords='axes fraction',\n",
    "#                 arrowprops=dict(facecolor='black', shrink=0.05),\n",
    "#                 horizontalalignment='right', verticalalignment='top',fontsize=16\n",
    "#                 )\n",
    "# ax1.tick_params(labelsize = 18)\n",
    "\n",
    "plt.subplots_adjust(hspace=0.5)\n",
    "plt.show()"
   ]
  },
  {
   "cell_type": "code",
   "execution_count": 17,
   "metadata": {
    "collapsed": false
   },
   "outputs": [
    {
     "data": {
      "text/plain": [
       "<matplotlib.text.Text at 0x10891e9d0>"
      ]
     },
     "execution_count": 17,
     "metadata": {},
     "output_type": "execute_result"
    }
   ],
   "source": []
  },
  {
   "cell_type": "code",
   "execution_count": 18,
   "metadata": {
    "collapsed": true
   },
   "outputs": [],
   "source": [
    "plt.show()"
   ]
  }
 ],
 "metadata": {
  "kernelspec": {
   "display_name": "Python 2",
   "language": "python",
   "name": "python2"
  },
  "language_info": {
   "codemirror_mode": {
    "name": "ipython",
    "version": 2
   },
   "file_extension": ".py",
   "mimetype": "text/x-python",
   "name": "python",
   "nbconvert_exporter": "python",
   "pygments_lexer": "ipython2",
   "version": "2.7.6"
  }
 },
 "nbformat": 4,
 "nbformat_minor": 0
}
