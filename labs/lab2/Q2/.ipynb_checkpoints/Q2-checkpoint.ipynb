{
 "cells": [
  {
   "cell_type": "code",
   "execution_count": 1,
   "metadata": {
    "collapsed": true
   },
   "outputs": [],
   "source": [
    "import matplotlib.pyplot as plt\n",
    "%matplotlib inline\n",
    "from pymatgen.util.plotting_utils import get_publication_quality_plot"
   ]
  },
  {
   "cell_type": "code",
   "execution_count": 2,
   "metadata": {
    "collapsed": true
   },
   "outputs": [],
   "source": [
    "import numpy as np\n",
    "import pandas as pd"
   ]
  },
  {
   "cell_type": "code",
   "execution_count": 3,
   "metadata": {
    "collapsed": false
   },
   "outputs": [
    {
     "name": "stdout",
     "output_type": "stream",
     "text": [
      "Q1.ipynb                    Si_50_10_10.26.pw.in        Si_50_12_10.26.pw.in        Si_50_14_10.26.pw.in        Si_50_6_10.26.pw.in         Si_50_8_10.26.pw.in         results.csv\r\n",
      "Si.pbe-n-kjpaw_psl.0.1.UPF  Si_50_11_10.26.out          Si_50_13_10.26.out          Si_50_5_10.26.out           Si_50_7_10.26.out           Si_50_9_10.26.out           results_Q2.csv\r\n",
      "Si.pw.in.template           Si_50_11_10.26.pw.in        Si_50_13_10.26.pw.in        Si_50_5_10.26.pw.in         Si_50_7_10.26.pw.in         Si_50_9_10.26.pw.in         \u001b[31mrun_pw.py\u001b[m\u001b[m*\r\n",
      "Si_50_10_10.26.out          Si_50_12_10.26.out          Si_50_14_10.26.out          Si_50_6_10.26.out           Si_50_8_10.26.out           \u001b[31manalyze.py\u001b[m\u001b[m*\r\n"
     ]
    }
   ],
   "source": [
    "ls"
   ]
  },
  {
   "cell_type": "code",
   "execution_count": 4,
   "metadata": {
    "collapsed": true
   },
   "outputs": [],
   "source": [
    "datafile = pd.read_csv('results_Q2.csv')"
   ]
  },
  {
   "cell_type": "code",
   "execution_count": 5,
   "metadata": {
    "collapsed": false
   },
   "outputs": [
    {
     "data": {
      "text/html": [
       "<div style=\"max-height:1000px;max-width:1500px;overflow:auto;\">\n",
       "<table border=\"1\" class=\"dataframe\">\n",
       "  <thead>\n",
       "    <tr style=\"text-align: right;\">\n",
       "      <th></th>\n",
       "      <th>filename</th>\n",
       "      <th>ecut</th>\n",
       "      <th>nkpts</th>\n",
       "      <th>alat</th>\n",
       "      <th>energy</th>\n",
       "      <th>Total Energy (eV)</th>\n",
       "      <th>Converge (meV)</th>\n",
       "      <th>total_force</th>\n",
       "    </tr>\n",
       "  </thead>\n",
       "  <tbody>\n",
       "    <tr>\n",
       "      <th>0</th>\n",
       "      <td>  Si_50_5_10.26.out</td>\n",
       "      <td> 50</td>\n",
       "      <td>  10</td>\n",
       "      <td> 10.26</td>\n",
       "      <td>-93.449229</td>\n",
       "      <td>-1271.441476</td>\n",
       "      <td>  0.000000</td>\n",
       "      <td> 0</td>\n",
       "    </tr>\n",
       "    <tr>\n",
       "      <th>1</th>\n",
       "      <td>  Si_50_6_10.26.out</td>\n",
       "      <td> 50</td>\n",
       "      <td>  16</td>\n",
       "      <td> 10.26</td>\n",
       "      <td>-93.452211</td>\n",
       "      <td>-1271.482048</td>\n",
       "      <td> 40.572039</td>\n",
       "      <td> 0</td>\n",
       "    </tr>\n",
       "    <tr>\n",
       "      <th>2</th>\n",
       "      <td>  Si_50_7_10.26.out</td>\n",
       "      <td> 50</td>\n",
       "      <td>  20</td>\n",
       "      <td> 10.26</td>\n",
       "      <td>-93.453280</td>\n",
       "      <td>-1271.496587</td>\n",
       "      <td> 14.538499</td>\n",
       "      <td> 0</td>\n",
       "    </tr>\n",
       "    <tr>\n",
       "      <th>3</th>\n",
       "      <td>  Si_50_8_10.26.out</td>\n",
       "      <td> 50</td>\n",
       "      <td>  29</td>\n",
       "      <td> 10.26</td>\n",
       "      <td>-93.453688</td>\n",
       "      <td>-1271.502151</td>\n",
       "      <td>  5.564048</td>\n",
       "      <td> 0</td>\n",
       "    </tr>\n",
       "    <tr>\n",
       "      <th>4</th>\n",
       "      <td>  Si_50_9_10.26.out</td>\n",
       "      <td> 50</td>\n",
       "      <td>  35</td>\n",
       "      <td> 10.26</td>\n",
       "      <td>-93.453853</td>\n",
       "      <td>-1271.504387</td>\n",
       "      <td>  2.235960</td>\n",
       "      <td> 0</td>\n",
       "    </tr>\n",
       "    <tr>\n",
       "      <th>5</th>\n",
       "      <td> Si_50_10_10.26.out</td>\n",
       "      <td> 50</td>\n",
       "      <td>  47</td>\n",
       "      <td> 10.26</td>\n",
       "      <td>-93.453922</td>\n",
       "      <td>-1271.505322</td>\n",
       "      <td>  0.935527</td>\n",
       "      <td> 0</td>\n",
       "    </tr>\n",
       "    <tr>\n",
       "      <th>6</th>\n",
       "      <td> Si_50_11_10.26.out</td>\n",
       "      <td> 50</td>\n",
       "      <td>  56</td>\n",
       "      <td> 10.26</td>\n",
       "      <td>-93.453951</td>\n",
       "      <td>-1271.505725</td>\n",
       "      <td>  0.402456</td>\n",
       "      <td> 0</td>\n",
       "    </tr>\n",
       "    <tr>\n",
       "      <th>7</th>\n",
       "      <td> Si_50_12_10.26.out</td>\n",
       "      <td> 50</td>\n",
       "      <td>  72</td>\n",
       "      <td> 10.26</td>\n",
       "      <td>-93.453964</td>\n",
       "      <td>-1271.505903</td>\n",
       "      <td>  0.178099</td>\n",
       "      <td> 0</td>\n",
       "    </tr>\n",
       "    <tr>\n",
       "      <th>8</th>\n",
       "      <td> Si_50_13_10.26.out</td>\n",
       "      <td> 50</td>\n",
       "      <td>  84</td>\n",
       "      <td> 10.26</td>\n",
       "      <td>-93.453970</td>\n",
       "      <td>-1271.505984</td>\n",
       "      <td>  0.081090</td>\n",
       "      <td> 0</td>\n",
       "    </tr>\n",
       "    <tr>\n",
       "      <th>9</th>\n",
       "      <td> Si_50_14_10.26.out</td>\n",
       "      <td> 50</td>\n",
       "      <td> 104</td>\n",
       "      <td> 10.26</td>\n",
       "      <td>-93.453973</td>\n",
       "      <td>-1271.506022</td>\n",
       "      <td>  0.037688</td>\n",
       "      <td> 0</td>\n",
       "    </tr>\n",
       "  </tbody>\n",
       "</table>\n",
       "</div>"
      ],
      "text/plain": [
       "             filename  ecut  nkpts   alat     energy  Total Energy (eV)  \\\n",
       "0   Si_50_5_10.26.out    50     10  10.26 -93.449229       -1271.441476   \n",
       "1   Si_50_6_10.26.out    50     16  10.26 -93.452211       -1271.482048   \n",
       "2   Si_50_7_10.26.out    50     20  10.26 -93.453280       -1271.496587   \n",
       "3   Si_50_8_10.26.out    50     29  10.26 -93.453688       -1271.502151   \n",
       "4   Si_50_9_10.26.out    50     35  10.26 -93.453853       -1271.504387   \n",
       "5  Si_50_10_10.26.out    50     47  10.26 -93.453922       -1271.505322   \n",
       "6  Si_50_11_10.26.out    50     56  10.26 -93.453951       -1271.505725   \n",
       "7  Si_50_12_10.26.out    50     72  10.26 -93.453964       -1271.505903   \n",
       "8  Si_50_13_10.26.out    50     84  10.26 -93.453970       -1271.505984   \n",
       "9  Si_50_14_10.26.out    50    104  10.26 -93.453973       -1271.506022   \n",
       "\n",
       "   Converge (meV)  total_force  \n",
       "0        0.000000            0  \n",
       "1       40.572039            0  \n",
       "2       14.538499            0  \n",
       "3        5.564048            0  \n",
       "4        2.235960            0  \n",
       "5        0.935527            0  \n",
       "6        0.402456            0  \n",
       "7        0.178099            0  \n",
       "8        0.081090            0  \n",
       "9        0.037688            0  "
      ]
     },
     "execution_count": 5,
     "metadata": {},
     "output_type": "execute_result"
    }
   ],
   "source": [
    "datafile.head(0)"
   ]
  },
  {
   "cell_type": "code",
   "execution_count": 6,
   "metadata": {
    "collapsed": false
   },
   "outputs": [
    {
     "data": {
      "text/plain": [
       "[10, 16, 20, 29, 35, 47, 56, 72, 84, 104]"
      ]
     },
     "execution_count": 6,
     "metadata": {},
     "output_type": "execute_result"
    }
   ],
   "source": [
    "x = datafile['nkpts'].tolist()\n",
    "x"
   ]
  },
  {
   "cell_type": "code",
   "execution_count": 7,
   "metadata": {
    "collapsed": true
   },
   "outputs": [],
   "source": [
    "y_energy = datafile['Total Energy (eV)'].tolist()\n",
    "y_conver = datafile['Converge (meV)'].tolist()"
   ]
  },
  {
   "cell_type": "code",
   "execution_count": 13,
   "metadata": {
    "collapsed": false
   },
   "outputs": [
    {
     "data": {
      "image/png": "[encoded data removed]",
      "text/plain": [
       "<matplotlib.figure.Figure at 0x107dceb90>"
      ]
     },
     "metadata": {},
     "output_type": "display_data"
    }
   ],
   "source": [
    "fig, (ax0,ax1)=plt.subplots(nrows=2)\n",
    "fig.set_size_inches(10,10)\n",
    "\n",
    "ax0.scatter(x, y_energy,marker='o',alpha=0.75,s=60,c='r')\n",
    "ax0.plot(x,y_energy,c='black')\n",
    "ax0.set_title('Energy',fontsize=30,y=1.05)\n",
    "ax0.set_xlabel('# of K-points',fontsize=24)\n",
    "ax0.set_ylabel('Total Energy (eV)',fontsize=20)\n",
    "ax0.set_ylim( -1271.51,-1271.43)\n",
    "ax0.tick_params(labelsize = 18)\n",
    "\n",
    "ax1.scatter(x,y_conver,marker='o',alpha=0.75, s=60,c='b')\n",
    "ax1.plot(x,y_conver,c='black')\n",
    "ax1.set_title('Energy Difference',fontsize=24,y=1.05)\n",
    "ax1.set_xlabel('# of K-points',fontsize=24)\n",
    "ax1.set_ylabel('Energy Converge (meV)',fontsize=18)\n",
    "# ax1.set_yscale('log')\n",
    "ax1.set_ylim(-10,50)\n",
    "ax1.annotate('Convergence < 5 meV, # of K-point: 35 ', xy=(35, 5),  xycoords='data',\n",
    "                xytext=(0.8, 0.95), textcoords='axes fraction',\n",
    "                arrowprops=dict(facecolor='black', shrink=0.05),\n",
    "                horizontalalignment='right', verticalalignment='top',fontsize=16\n",
    "                )\n",
    "ax1.tick_params(labelsize = 18)\n",
    "\n",
    "plt.subplots_adjust(hspace=0.5)\n",
    "plt.show()"
   ]
  },
  {
   "cell_type": "code",
   "execution_count": 17,
   "metadata": {
    "collapsed": false
   },
   "outputs": [
    {
     "data": {
      "text/plain": [
       "<matplotlib.text.Text at 0x10891e9d0>"
      ]
     },
     "execution_count": 17,
     "metadata": {},
     "output_type": "execute_result"
    }
   ],
   "source": []
  },
  {
   "cell_type": "code",
   "execution_count": 18,
   "metadata": {
    "collapsed": true
   },
   "outputs": [],
   "source": [
    "plt.show()"
   ]
  }
 ],
 "metadata": {
  "kernelspec": {
   "display_name": "Python 2",
   "language": "python",
   "name": "python2"
  },
  "language_info": {
   "codemirror_mode": {
    "name": "ipython",
    "version": 2
   },
   "file_extension": ".py",
   "mimetype": "text/x-python",
   "name": "python",
   "nbconvert_exporter": "python",
   "pygments_lexer": "ipython2",
   "version": "2.7.6"
  }
 },
 "nbformat": 4,
 "nbformat_minor": 0
}
