{
 "cells": [
  {
   "cell_type": "code",
   "execution_count": 1,
   "metadata": {
    "collapsed": true
   },
   "outputs": [],
   "source": [
    "import matplotlib.pyplot as plt\n",
    "# %matplotlib inline\n",
    "from pymatgen.util.plotting_utils import get_publication_quality_plot"
   ]
  },
  {
   "cell_type": "code",
   "execution_count": 2,
   "metadata": {
    "collapsed": true
   },
   "outputs": [],
   "source": [
    "import numpy as np\n",
    "import pandas as pd"
   ]
  },
  {
   "cell_type": "code",
   "execution_count": 3,
   "metadata": {
    "collapsed": false
   },
   "outputs": [
    {
     "name": "stdout",
     "output_type": "stream",
     "text": [
      "Converge_Image.png                                   Si_100_8_10.26.pw.in                                 Si_40_8_10.26.pw.in                                  Si_80_8_10.26.pw.in\r\n",
      "NANO266 Lab 2 - Convergence of DFT calculations.pdf  Si_10_8_10.26.out                                    Si_50_8_10.26.out                                    Si_90_8_10.26.out\r\n",
      "Q1.ipynb                                             Si_10_8_10.26.pw.in                                  Si_50_8_10.26.pw.in                                  Si_90_8_10.26.pw.in\r\n",
      "README.md                                            Si_20_8_10.26.out                                    Si_60_8_10.26.out                                    \u001b[31manalyze.py\u001b[m\u001b[m*\r\n",
      "Si.pbe-n-kjpaw_psl.0.1.UPF                           Si_20_8_10.26.pw.in                                  Si_60_8_10.26.pw.in                                  results.csv\r\n",
      "Si.pw.in.template                                    Si_30_8_10.26.out                                    Si_70_8_10.26.out                                    \u001b[31mrun_pw.py\u001b[m\u001b[m*\r\n",
      "Si.pz-n-kjpaw_psl.0.1.UPF                            Si_30_8_10.26.pw.in                                  Si_70_8_10.26.pw.in\r\n",
      "Si_100_8_10.26.out                                   Si_40_8_10.26.out                                    Si_80_8_10.26.out\r\n"
     ]
    }
   ],
   "source": [
    "ls"
   ]
  },
  {
   "cell_type": "code",
   "execution_count": 4,
   "metadata": {
    "collapsed": true
   },
   "outputs": [],
   "source": [
    "datafile = pd.read_csv('results.csv')"
   ]
  },
  {
   "cell_type": "code",
   "execution_count": 5,
   "metadata": {
    "collapsed": false
   },
   "outputs": [
    {
     "data": {
      "text/html": [
       "<div style=\"max-height:1000px;max-width:1500px;overflow:auto;\">\n",
       "<table border=\"1\" class=\"dataframe\">\n",
       "  <thead>\n",
       "    <tr style=\"text-align: right;\">\n",
       "      <th></th>\n",
       "      <th>filename</th>\n",
       "      <th>ecut (Ry)</th>\n",
       "      <th>nkpts</th>\n",
       "      <th>alat</th>\n",
       "      <th>energy</th>\n",
       "      <th>total_force</th>\n",
       "      <th>Total Energy (eV)</th>\n",
       "      <th>energy difference (meV/atom)</th>\n",
       "    </tr>\n",
       "  </thead>\n",
       "  <tbody>\n",
       "    <tr>\n",
       "      <th>0</th>\n",
       "      <td>  Si_10_8_10.26.out</td>\n",
       "      <td>  10</td>\n",
       "      <td> 29</td>\n",
       "      <td> 10.26</td>\n",
       "      <td>-93.447441</td>\n",
       "      <td> 0</td>\n",
       "      <td>-1271.417145</td>\n",
       "      <td>  0.000000</td>\n",
       "    </tr>\n",
       "    <tr>\n",
       "      <th>1</th>\n",
       "      <td>  Si_20_8_10.26.out</td>\n",
       "      <td>  20</td>\n",
       "      <td> 29</td>\n",
       "      <td> 10.26</td>\n",
       "      <td>-93.452291</td>\n",
       "      <td> 0</td>\n",
       "      <td>-1271.483131</td>\n",
       "      <td> 32.993192</td>\n",
       "    </tr>\n",
       "    <tr>\n",
       "      <th>2</th>\n",
       "      <td>  Si_30_8_10.26.out</td>\n",
       "      <td>  30</td>\n",
       "      <td> 29</td>\n",
       "      <td> 10.26</td>\n",
       "      <td>-93.453525</td>\n",
       "      <td> 0</td>\n",
       "      <td>-1271.499924</td>\n",
       "      <td>  8.396549</td>\n",
       "    </tr>\n",
       "    <tr>\n",
       "      <th>3</th>\n",
       "      <td>  Si_40_8_10.26.out</td>\n",
       "      <td>  40</td>\n",
       "      <td> 29</td>\n",
       "      <td> 10.26</td>\n",
       "      <td>-93.453698</td>\n",
       "      <td> 0</td>\n",
       "      <td>-1271.502283</td>\n",
       "      <td>  1.179205</td>\n",
       "    </tr>\n",
       "    <tr>\n",
       "      <th>4</th>\n",
       "      <td>  Si_50_8_10.26.out</td>\n",
       "      <td>  50</td>\n",
       "      <td> 29</td>\n",
       "      <td> 10.26</td>\n",
       "      <td>-93.453688</td>\n",
       "      <td> 0</td>\n",
       "      <td>-1271.502151</td>\n",
       "      <td> -0.065920</td>\n",
       "    </tr>\n",
       "    <tr>\n",
       "      <th>5</th>\n",
       "      <td>  Si_60_8_10.26.out</td>\n",
       "      <td>  60</td>\n",
       "      <td> 29</td>\n",
       "      <td> 10.26</td>\n",
       "      <td>-93.453698</td>\n",
       "      <td> 0</td>\n",
       "      <td>-1271.502282</td>\n",
       "      <td>  0.065647</td>\n",
       "    </tr>\n",
       "    <tr>\n",
       "      <th>6</th>\n",
       "      <td>  Si_70_8_10.26.out</td>\n",
       "      <td>  70</td>\n",
       "      <td> 29</td>\n",
       "      <td> 10.26</td>\n",
       "      <td>-93.453700</td>\n",
       "      <td> 0</td>\n",
       "      <td>-1271.502309</td>\n",
       "      <td>  0.013606</td>\n",
       "    </tr>\n",
       "    <tr>\n",
       "      <th>7</th>\n",
       "      <td>  Si_80_8_10.26.out</td>\n",
       "      <td>  80</td>\n",
       "      <td> 29</td>\n",
       "      <td> 10.26</td>\n",
       "      <td>-93.453705</td>\n",
       "      <td> 0</td>\n",
       "      <td>-1271.502373</td>\n",
       "      <td>  0.032041</td>\n",
       "    </tr>\n",
       "    <tr>\n",
       "      <th>8</th>\n",
       "      <td>  Si_90_8_10.26.out</td>\n",
       "      <td>  90</td>\n",
       "      <td> 29</td>\n",
       "      <td> 10.26</td>\n",
       "      <td>-93.453708</td>\n",
       "      <td> 0</td>\n",
       "      <td>-1271.502415</td>\n",
       "      <td>  0.020817</td>\n",
       "    </tr>\n",
       "    <tr>\n",
       "      <th>9</th>\n",
       "      <td> Si_100_8_10.26.out</td>\n",
       "      <td> 100</td>\n",
       "      <td> 29</td>\n",
       "      <td> 10.26</td>\n",
       "      <td>-93.453710</td>\n",
       "      <td> 0</td>\n",
       "      <td>-1271.502449</td>\n",
       "      <td>  0.017075</td>\n",
       "    </tr>\n",
       "  </tbody>\n",
       "</table>\n",
       "</div>"
      ],
      "text/plain": [
       "             filename  ecut (Ry)  nkpts   alat     energy  total_force  \\\n",
       "0   Si_10_8_10.26.out         10     29  10.26 -93.447441            0   \n",
       "1   Si_20_8_10.26.out         20     29  10.26 -93.452291            0   \n",
       "2   Si_30_8_10.26.out         30     29  10.26 -93.453525            0   \n",
       "3   Si_40_8_10.26.out         40     29  10.26 -93.453698            0   \n",
       "4   Si_50_8_10.26.out         50     29  10.26 -93.453688            0   \n",
       "5   Si_60_8_10.26.out         60     29  10.26 -93.453698            0   \n",
       "6   Si_70_8_10.26.out         70     29  10.26 -93.453700            0   \n",
       "7   Si_80_8_10.26.out         80     29  10.26 -93.453705            0   \n",
       "8   Si_90_8_10.26.out         90     29  10.26 -93.453708            0   \n",
       "9  Si_100_8_10.26.out        100     29  10.26 -93.453710            0   \n",
       "\n",
       "   Total Energy (eV)  energy difference (meV/atom)  \n",
       "0       -1271.417145                      0.000000  \n",
       "1       -1271.483131                     32.993192  \n",
       "2       -1271.499924                      8.396549  \n",
       "3       -1271.502283                      1.179205  \n",
       "4       -1271.502151                     -0.065920  \n",
       "5       -1271.502282                      0.065647  \n",
       "6       -1271.502309                      0.013606  \n",
       "7       -1271.502373                      0.032041  \n",
       "8       -1271.502415                      0.020817  \n",
       "9       -1271.502449                      0.017075  "
      ]
     },
     "execution_count": 5,
     "metadata": {},
     "output_type": "execute_result"
    }
   ],
   "source": [
    "datafile.head(0)"
   ]
  },
  {
   "cell_type": "code",
   "execution_count": 6,
   "metadata": {
    "collapsed": false
   },
   "outputs": [
    {
     "data": {
      "text/plain": [
       "[10, 20, 30, 40, 50, 60, 70, 80, 90, 100]"
      ]
     },
     "execution_count": 6,
     "metadata": {},
     "output_type": "execute_result"
    }
   ],
   "source": [
    "x = datafile['ecut (Ry)'].tolist()\n",
    "x"
   ]
  },
  {
   "cell_type": "code",
   "execution_count": 7,
   "metadata": {
    "collapsed": true
   },
   "outputs": [],
   "source": [
    "y_energy = datafile['Total Energy (eV)'].tolist()\n",
    "y_conver = datafile['energy difference (meV/atom)'].tolist()"
   ]
  },
  {
   "cell_type": "code",
   "execution_count": 8,
   "metadata": {
    "collapsed": false
   },
   "outputs": [],
   "source": [
    "fig, (ax0,ax1)=plt.subplots(nrows=2)\n",
    "fig.set_size_inches(10,10)\n",
    "\n",
    "ax0.scatter(x, y_energy,marker='o',alpha=0.75,s=60,c='r')\n",
    "ax0.plot(x,y_energy,c='black')\n",
    "ax0.set_title('Energy',fontsize=30,y=1.05)\n",
    "ax0.set_xlabel('Kinetic Energy Cutoff (Ry)',fontsize=24)\n",
    "ax0.set_ylabel('Total Energy (eV)',fontsize=20)\n",
    "ax0.set_ylim( -1271.54,-1271.38)\n",
    "ax0.tick_params(labelsize = 18)\n",
    "\n",
    "ax1.scatter(x,y_conver,marker='o',alpha=0.75, s=60,c='b')\n",
    "ax1.plot(x,y_conver,c='black')\n",
    "ax1.set_title('Energy Difference',fontsize=24,y=1.05)\n",
    "ax1.set_xlabel('Kinetic Energy Cutoff (Ry)',fontsize=24)\n",
    "ax1.set_ylabel('Energy Converge (meV)',fontsize=18)\n",
    "# ax1.set_yscale('log')\n",
    "ax1.set_ylim(-10,80)\n",
    "ax1.annotate('Convergence < 5 meV', xy=(41, 5),  xycoords='data',\n",
    "                xytext=(0.8, 0.95), textcoords='axes fraction',\n",
    "                arrowprops=dict(facecolor='black', shrink=0.05),\n",
    "                horizontalalignment='right', verticalalignment='top',fontsize=16\n",
    "                )\n",
    "ax1.tick_params(labelsize = 18)\n",
    "\n",
    "plt.subplots_adjust(hspace=0.5)\n",
    "plt.show()"
   ]
  },
  {
   "cell_type": "code",
   "execution_count": 17,
   "metadata": {
    "collapsed": false
   },
   "outputs": [
    {
     "data": {
      "text/plain": [
       "<matplotlib.text.Text at 0x10891e9d0>"
      ]
     },
     "execution_count": 17,
     "metadata": {},
     "output_type": "execute_result"
    }
   ],
   "source": []
  },
  {
   "cell_type": "code",
   "execution_count": 18,
   "metadata": {
    "collapsed": true
   },
   "outputs": [],
   "source": [
    "plt.show()"
   ]
  }
 ],
 "metadata": {
  "kernelspec": {
   "display_name": "Python 2",
   "language": "python",
   "name": "python2"
  },
  "language_info": {
   "codemirror_mode": {
    "name": "ipython",
    "version": 2
   },
   "file_extension": ".py",
   "mimetype": "text/x-python",
   "name": "python",
   "nbconvert_exporter": "python",
   "pygments_lexer": "ipython2",
   "version": "2.7.6"
  }
 },
 "nbformat": 4,
 "nbformat_minor": 0
}
