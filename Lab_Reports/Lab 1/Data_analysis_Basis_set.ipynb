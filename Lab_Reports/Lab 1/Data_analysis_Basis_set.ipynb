{
 "cells": [
  {
   "cell_type": "code",
   "execution_count": 40,
   "metadata": {
    "collapsed": false
   },
   "outputs": [],
   "source": [
    "import numpy as np\n",
    "import pandas as pd\n",
    "\n",
    "datafile = pd.read_csv('data_record_0420.csv',header=0)\n",
    "\n",
    "# rpt[rpt['STK_ID'].str.contains(r'^600[0-9]{3}$')]\n",
    "\n",
    "#Filter out H2 and N2 line using formation energy column NaN value\n",
    "datafile_overview = datafile[datafile['Compounds'].str.contains(r'NH3')]"
   ]
  },
  {
   "cell_type": "code",
   "execution_count": 2,
   "metadata": {
    "collapsed": false
   },
   "outputs": [
    {
     "data": {
      "text/plain": [
       "<bound method DataFrame.head of     Compounds              Functional_Used Functional_Used_Abb   Functional_1  \\\n",
       "2         NH3                  B3LYP_B3LYP               B3_B3          B3LYP   \n",
       "5         NH3                  B3LYP_B3LYP               B3_B3          B3LYP   \n",
       "8         NH3                  B3LYP_B3LYP               B3_B3          B3LYP   \n",
       "11        NH3                  B3LYP_B3LYP               B3_B3          B3LYP   \n",
       "14        NH3                 B3LYP_HFexch               B3_HF          B3LYP   \n",
       "17        NH3                 B3LYP_HFexch               B3_HF          B3LYP   \n",
       "20        NH3                 B3LYP_HFexch               B3_HF          B3LYP   \n",
       "23        NH3                 B3LYP_HFexch               B3_HF          B3LYP   \n",
       "26        NH3          B3LYP_xpbe96 cpbe96              B3_PBE          B3LYP   \n",
       "29        NH3          B3LYP_xpbe96 cpbe96              B3_PBE          B3LYP   \n",
       "32        NH3          B3LYP_xpbe96 cpbe96              B3_PBE          B3LYP   \n",
       "35        NH3          B3LYP_xpbe96 cpbe96              B3_PBE          B3LYP   \n",
       "38        NH3                 HFexch_B3LYP               HF_B3         HFexch   \n",
       "41        NH3                 HFexch_B3LYP               HF_B3         HFexch   \n",
       "44        NH3                 HFexch_B3LYP               HF_B3         HFexch   \n",
       "47        NH3                 HFexch_B3LYP               HF_B3         HFexch   \n",
       "50        NH3                HFexch_HFexch               HF_HF         HFexch   \n",
       "53        NH3                HFexch_HFexch               HF_HF         HFexch   \n",
       "56        NH3                HFexch_HFexch               HF_HF         HFexch   \n",
       "59        NH3                HFexch_HFexch               HF_HF         HFexch   \n",
       "62        NH3         HFexch_xpbe96 cpbe96              HF_PBE         HFexch   \n",
       "65        NH3         HFexch_xpbe96 cpbe96              HF_PBE         HFexch   \n",
       "68        NH3         HFexch_xpbe96 cpbe96              HF_PBE         HFexch   \n",
       "71        NH3         HFexch_xpbe96 cpbe96              HF_PBE         HFexch   \n",
       "74        NH3          xpbe96 cpbe96_B3LYP              PBE_B3  xpbe96 cpbe96   \n",
       "77        NH3          xpbe96 cpbe96_B3LYP              PBE_B3  xpbe96 cpbe96   \n",
       "80        NH3          xpbe96 cpbe96_B3LYP              PBE_B3  xpbe96 cpbe96   \n",
       "83        NH3          xpbe96 cpbe96_B3LYP              PBE_B3  xpbe96 cpbe96   \n",
       "86        NH3         xpbe96 cpbe96_HFexch              PBE_HF  xpbe96 cpbe96   \n",
       "89        NH3         xpbe96 cpbe96_HFexch              PBE_HF  xpbe96 cpbe96   \n",
       "92        NH3         xpbe96 cpbe96_HFexch              PBE_HF  xpbe96 cpbe96   \n",
       "95        NH3         xpbe96 cpbe96_HFexch              PBE_HF  xpbe96 cpbe96   \n",
       "98        NH3  xpbe96 cpbe96_xpbe96 cpbe96             PBE_PBE  xpbe96 cpbe96   \n",
       "101       NH3  xpbe96 cpbe96_xpbe96 cpbe96             PBE_PBE  xpbe96 cpbe96   \n",
       "104       NH3  xpbe96 cpbe96_xpbe96 cpbe96             PBE_PBE  xpbe96 cpbe96   \n",
       "107       NH3  xpbe96 cpbe96_xpbe96 cpbe96             PBE_PBE  xpbe96 cpbe96   \n",
       "\n",
       "      Functional_2          Basis_Set Basis_Set_Part_1 Basis_Set_Part_2  \\\n",
       "2            B3LYP    6-31+G*_6-31+G*          6-31+G*          6-31+G*   \n",
       "5            B3LYP   6-31+G*_6-311+G*          6-31+G*         6-311+G*   \n",
       "8            B3LYP   6-311+G*_6-31+G*         6-311+G*          6-31+G*   \n",
       "11           B3LYP  6-311+G*_6-311+G*         6-311+G*         6-311+G*   \n",
       "14          HFexch    6-31+G*_6-31+G*          6-31+G*          6-31+G*   \n",
       "17          HFexch   6-31+G*_6-311+G*          6-31+G*         6-311+G*   \n",
       "20          HFexch   6-311+G*_6-31+G*         6-311+G*          6-31+G*   \n",
       "23          HFexch  6-311+G*_6-311+G*         6-311+G*         6-311+G*   \n",
       "26   xpbe96 cpbe96    6-31+G*_6-31+G*          6-31+G*          6-31+G*   \n",
       "29   xpbe96 cpbe96   6-31+G*_6-311+G*          6-31+G*         6-311+G*   \n",
       "32   xpbe96 cpbe96   6-311+G*_6-31+G*         6-311+G*          6-31+G*   \n",
       "35   xpbe96 cpbe96  6-311+G*_6-311+G*         6-311+G*         6-311+G*   \n",
       "38           B3LYP    6-31+G*_6-31+G*          6-31+G*          6-31+G*   \n",
       "41           B3LYP   6-31+G*_6-311+G*          6-31+G*         6-311+G*   \n",
       "44           B3LYP   6-311+G*_6-31+G*         6-311+G*          6-31+G*   \n",
       "47           B3LYP  6-311+G*_6-311+G*         6-311+G*         6-311+G*   \n",
       "50          HFexch    6-31+G*_6-31+G*          6-31+G*          6-31+G*   \n",
       "53          HFexch   6-31+G*_6-311+G*          6-31+G*         6-311+G*   \n",
       "56          HFexch   6-311+G*_6-31+G*         6-311+G*          6-31+G*   \n",
       "59          HFexch  6-311+G*_6-311+G*         6-311+G*         6-311+G*   \n",
       "62   xpbe96 cpbe96    6-31+G*_6-31+G*          6-31+G*          6-31+G*   \n",
       "65   xpbe96 cpbe96   6-31+G*_6-311+G*          6-31+G*         6-311+G*   \n",
       "68   xpbe96 cpbe96   6-311+G*_6-31+G*         6-311+G*          6-31+G*   \n",
       "71   xpbe96 cpbe96  6-311+G*_6-311+G*         6-311+G*         6-311+G*   \n",
       "74           B3LYP    6-31+G*_6-31+G*          6-31+G*          6-31+G*   \n",
       "77           B3LYP   6-31+G*_6-311+G*          6-31+G*         6-311+G*   \n",
       "80           B3LYP   6-311+G*_6-31+G*         6-311+G*          6-31+G*   \n",
       "83           B3LYP  6-311+G*_6-311+G*         6-311+G*         6-311+G*   \n",
       "86          HFexch    6-31+G*_6-31+G*          6-31+G*          6-31+G*   \n",
       "89          HFexch   6-31+G*_6-311+G*          6-31+G*         6-311+G*   \n",
       "92          HFexch   6-311+G*_6-31+G*         6-311+G*          6-31+G*   \n",
       "95          HFexch  6-311+G*_6-311+G*         6-311+G*         6-311+G*   \n",
       "98   xpbe96 cpbe96    6-31+G*_6-31+G*          6-31+G*          6-31+G*   \n",
       "101  xpbe96 cpbe96   6-31+G*_6-311+G*          6-31+G*         6-311+G*   \n",
       "104  xpbe96 cpbe96   6-311+G*_6-31+G*         6-311+G*          6-31+G*   \n",
       "107  xpbe96 cpbe96  6-311+G*_6-311+G*         6-311+G*         6-311+G*   \n",
       "\n",
       "     Total_DFT_Energy (Ha)  Total_DFT_Energy (kcal/mol)     ...       \\\n",
       "2               -56.556987                 -35489.67881     ...        \n",
       "5               -56.573629                 -35500.12172     ...        \n",
       "8               -56.556949                 -35489.65541     ...        \n",
       "11              -56.573666                 -35500.14505     ...        \n",
       "14              -56.188851                 -35258.67275     ...        \n",
       "17              -56.204026                 -35268.19468     ...        \n",
       "20              -56.189125                 -35258.84449     ...        \n",
       "23              -56.204367                 -35268.40894     ...        \n",
       "26              -56.480005                 -35441.37287     ...        \n",
       "29              -56.496076                 -35451.45725     ...        \n",
       "32              -56.479831                 -35441.26356     ...        \n",
       "35              -56.495972                 -35451.39214     ...        \n",
       "38              -56.556385                 -35489.30127     ...        \n",
       "41              -56.573319                 -35499.92711     ...        \n",
       "44              -56.556096                 -35489.11970     ...        \n",
       "47              -56.573094                 -35499.78640     ...        \n",
       "50              -56.189499                 -35259.07950     ...        \n",
       "53              -56.204953                 -35268.77646     ...        \n",
       "56              -56.189469                 -35259.06042     ...        \n",
       "59              -56.204983                 -35268.79562     ...        \n",
       "62              -56.478876                 -35440.66423     ...        \n",
       "65              -56.495221                 -35450.92084     ...        \n",
       "68              -56.478474                 -35440.41209     ...        \n",
       "71              -56.494881                 -35450.70732     ...        \n",
       "74              -56.556852                 -35489.59416     ...        \n",
       "77              -56.573354                 -35499.94955     ...        \n",
       "80              -56.556953                 -35489.65784     ...        \n",
       "83              -56.573526                 -35500.05711     ...        \n",
       "86              -56.188100                 -35258.20146     ...        \n",
       "89              -56.203146                 -35267.64258     ...        \n",
       "92              -56.188512                 -35258.45968     ...        \n",
       "95              -56.203621                 -35267.94091     ...        \n",
       "98              -56.480136                 -35441.45491     ...        \n",
       "101             -56.496075                 -35451.45679     ...        \n",
       "104             -56.480103                 -35441.43420     ...        \n",
       "107             -56.496108                 -35451.47746     ...        \n",
       "\n",
       "     Corrected Enthalpy  Formation_Enthalpy  Formation_Energy  Deviation_STD  \\\n",
       "2          -35465.63681           -9.519824        -39.830944      -6.109056   \n",
       "5          -35476.07972           -9.222687        -38.587724      -7.352276   \n",
       "8          -35465.50341           -9.331437        -39.042734      -6.897266   \n",
       "11         -35475.99305           -8.913523        -37.294181      -8.645819   \n",
       "14         -35234.63075           -8.027822        -33.588407     -12.351593   \n",
       "17         -35244.15268           -8.348024        -34.928132     -11.011868   \n",
       "20         -35234.69249           -7.491358        -31.343843     -14.596157   \n",
       "23         -35244.25694           -7.722363        -32.310365     -13.629635   \n",
       "26         -35417.33087          -11.236209        -47.012298       1.072298   \n",
       "29         -35427.41525          -10.827520        -45.302342      -0.637658   \n",
       "32         -35417.11156          -11.152562        -46.662319       0.722319   \n",
       "35         -35427.24014          -10.629938        -44.475663      -1.464337   \n",
       "38         -35463.72327           -9.031012        -37.785753      -8.154247   \n",
       "41         -35474.34911           -8.401365        -35.151310     -10.788690   \n",
       "44         -35463.41570           -9.015850        -37.722316      -8.217684   \n",
       "47         -35474.08240           -8.264510        -34.578709     -11.361291   \n",
       "50         -35233.50150           -6.648475        -27.817218     -18.122782   \n",
       "53         -35243.19846           -6.772781        -28.337315     -17.602685   \n",
       "56         -35233.35642           -6.414696        -26.839086     -19.100914   \n",
       "59         -35243.09162           -6.439045        -26.940962     -18.999038   \n",
       "62         -35415.08623          -11.050239        -46.234199       0.294199   \n",
       "65         -35425.34284          -10.333787        -43.236563      -2.703437   \n",
       "68         -35414.70809          -11.096323        -46.427014       0.487014   \n",
       "71         -35425.00332          -10.263283        -42.941575      -2.998425   \n",
       "74         -35466.02116           -9.761964        -40.844056      -5.095944   \n",
       "77         -35476.37655           -9.559839        -39.998365      -5.941635   \n",
       "80         -35465.98284           -9.467713        -39.612909      -6.327091   \n",
       "83         -35476.38211           -9.167300        -38.355985      -7.584015   \n",
       "86         -35234.62846           -8.631412        -36.113830      -9.826170   \n",
       "89         -35244.06958           -8.990323        -37.615510      -8.324490   \n",
       "92         -35234.78468           -8.025108        -33.577053     -12.362947   \n",
       "95         -35244.26591           -8.311384        -34.774830     -11.165170   \n",
       "98         -35417.88191          -11.361453        -47.536320       1.596320   \n",
       "101        -35427.88379          -11.037942        -46.182751       0.242751   \n",
       "104        -35417.75920          -11.155458        -46.674437       0.734437   \n",
       "107        -35427.80246          -10.738831        -44.931267      -1.008733   \n",
       "\n",
       "     CPU Time  Wall Time  CPU_Time_Sum  \\\n",
       "2        18.6       19.4          33.6   \n",
       "5        19.1       20.0          33.8   \n",
       "8        28.5       29.5          46.7   \n",
       "11       27.9       28.6          46.1   \n",
       "14       18.1       18.9          32.6   \n",
       "17       18.6       20.2          34.4   \n",
       "20       28.8       30.1          48.8   \n",
       "23       29.1       30.4          48.7   \n",
       "26       19.5       20.8          34.3   \n",
       "29       19.8       20.8          35.7   \n",
       "32       28.7       29.9          48.2   \n",
       "35       29.6       31.4          48.7   \n",
       "38        2.9        3.3           8.5   \n",
       "41        2.8        3.2           9.4   \n",
       "44        3.8        4.2          10.7   \n",
       "47        4.7        5.5          12.2   \n",
       "50        1.7        2.1           7.1   \n",
       "53        1.9        2.3           6.9   \n",
       "56        3.3        3.8          10.1   \n",
       "59        3.3        3.8           9.7   \n",
       "62        3.4        4.2          10.4   \n",
       "65        5.6        6.5          12.8   \n",
       "68        3.9        4.4          12.2   \n",
       "71        3.9        4.3          11.1   \n",
       "74       21.7       22.6          37.3   \n",
       "77       20.9       21.7          36.4   \n",
       "80       26.3       27.3          45.4   \n",
       "83       28.4       30.8          50.7   \n",
       "86       22.0       22.9          37.9   \n",
       "89       20.4       21.4          35.8   \n",
       "92       26.0       27.2          45.9   \n",
       "95       26.7       28.1          46.5   \n",
       "98       21.5       23.0          37.6   \n",
       "101      23.0       24.8          39.4   \n",
       "104      28.4       31.4          54.0   \n",
       "107      27.3       28.9          48.0   \n",
       "\n",
       "                                      Output_File_Path Geometry_Angle  \\\n",
       "2          ./B3LYP_B3LYP/6-31+G*_6-31+G*/NH3/NH3.nwout         107.68   \n",
       "5         ./B3LYP_B3LYP/6-31+G*_6-311+G*/NH3/NH3.nwout         107.68   \n",
       "8         ./B3LYP_B3LYP/6-311+G*_6-31+G*/NH3/NH3.nwout         108.00   \n",
       "11       ./B3LYP_B3LYP/6-311+G*_6-311+G*/NH3/NH3.nwout         108.00   \n",
       "14        ./B3LYP_HFexch/6-31+G*_6-31+G*/NH3/NH3.nwout         107.68   \n",
       "17       ./B3LYP_HFexch/6-31+G*_6-311+G*/NH3/NH3.nwout         107.68   \n",
       "20       ./B3LYP_HFexch/6-311+G*_6-31+G*/NH3/NH3.nwout         108.00   \n",
       "23      ./B3LYP_HFexch/6-311+G*_6-311+G*/NH3/NH3.nwout         108.00   \n",
       "26   ./B3LYP_xpbe96 cpbe96/6-31+G*_6-31+G*/NH3/NH3....         107.68   \n",
       "29   ./B3LYP_xpbe96 cpbe96/6-31+G*_6-311+G*/NH3/NH3...         107.68   \n",
       "32   ./B3LYP_xpbe96 cpbe96/6-311+G*_6-31+G*/NH3/NH3...         108.00   \n",
       "35   ./B3LYP_xpbe96 cpbe96/6-311+G*_6-311+G*/NH3/NH...         108.00   \n",
       "38        ./HFexch_B3LYP/6-31+G*_6-31+G*/NH3/NH3.nwout         108.12   \n",
       "41       ./HFexch_B3LYP/6-31+G*_6-311+G*/NH3/NH3.nwout         108.12   \n",
       "44       ./HFexch_B3LYP/6-311+G*_6-31+G*/NH3/NH3.nwout         108.23   \n",
       "47      ./HFexch_B3LYP/6-311+G*_6-311+G*/NH3/NH3.nwout         108.23   \n",
       "50       ./HFexch_HFexch/6-31+G*_6-31+G*/NH3/NH3.nwout         108.12   \n",
       "53      ./HFexch_HFexch/6-31+G*_6-311+G*/NH3/NH3.nwout         108.12   \n",
       "56      ./HFexch_HFexch/6-311+G*_6-31+G*/NH3/NH3.nwout         108.23   \n",
       "59     ./HFexch_HFexch/6-311+G*_6-311+G*/NH3/NH3.nwout         108.23   \n",
       "62   ./HFexch_xpbe96 cpbe96/6-31+G*_6-31+G*/NH3/NH3...         108.12   \n",
       "65   ./HFexch_xpbe96 cpbe96/6-31+G*_6-311+G*/NH3/NH...         108.12   \n",
       "68   ./HFexch_xpbe96 cpbe96/6-311+G*_6-31+G*/NH3/NH...         108.23   \n",
       "71   ./HFexch_xpbe96 cpbe96/6-311+G*_6-311+G*/NH3/N...         108.23   \n",
       "74   ./xpbe96 cpbe96_B3LYP/6-31+G*_6-31+G*/NH3/NH3....         107.07   \n",
       "77   ./xpbe96 cpbe96_B3LYP/6-31+G*_6-311+G*/NH3/NH3...         107.07   \n",
       "80   ./xpbe96 cpbe96_B3LYP/6-311+G*_6-31+G*/NH3/NH3...         107.42   \n",
       "83   ./xpbe96 cpbe96_B3LYP/6-311+G*_6-311+G*/NH3/NH...         107.42   \n",
       "86   ./xpbe96 cpbe96_HFexch/6-31+G*_6-31+G*/NH3/NH3...         107.07   \n",
       "89   ./xpbe96 cpbe96_HFexch/6-31+G*_6-311+G*/NH3/NH...         107.07   \n",
       "92   ./xpbe96 cpbe96_HFexch/6-311+G*_6-31+G*/NH3/NH...         107.42   \n",
       "95   ./xpbe96 cpbe96_HFexch/6-311+G*_6-311+G*/NH3/N...         107.42   \n",
       "98   ./xpbe96 cpbe96_xpbe96 cpbe96/6-31+G*_6-31+G*/...         107.07   \n",
       "101  ./xpbe96 cpbe96_xpbe96 cpbe96/6-31+G*_6-311+G*...         107.07   \n",
       "104  ./xpbe96 cpbe96_xpbe96 cpbe96/6-311+G*_6-31+G*...         107.42   \n",
       "107  ./xpbe96 cpbe96_xpbe96 cpbe96/6-311+G*_6-311+G...         107.42   \n",
       "\n",
       "     Bond_Length  \n",
       "2        1.01800  \n",
       "5        1.01800  \n",
       "8        1.01399  \n",
       "11       1.01399  \n",
       "14       1.01800  \n",
       "17       1.01800  \n",
       "20       1.01399  \n",
       "23       1.01399  \n",
       "26       1.01800  \n",
       "29       1.01800  \n",
       "32       1.01399  \n",
       "35       1.01399  \n",
       "38       1.00204  \n",
       "41       1.00204  \n",
       "44       0.99864  \n",
       "47       0.99864  \n",
       "50       1.00204  \n",
       "53       1.00204  \n",
       "56       0.99864  \n",
       "59       0.99864  \n",
       "62       1.00204  \n",
       "65       1.00204  \n",
       "68       0.99864  \n",
       "71       0.99864  \n",
       "74       1.02575  \n",
       "77       1.02575  \n",
       "80       1.02187  \n",
       "83       1.02187  \n",
       "86       1.02575  \n",
       "89       1.02575  \n",
       "92       1.02187  \n",
       "95       1.02187  \n",
       "98       1.02575  \n",
       "101      1.02575  \n",
       "104      1.02187  \n",
       "107      1.02187  \n",
       "\n",
       "[36 rows x 21 columns]>"
      ]
     },
     "execution_count": 2,
     "metadata": {},
     "output_type": "execute_result"
    }
   ],
   "source": [
    "datafile_overview.head"
   ]
  },
  {
   "cell_type": "code",
   "execution_count": 41,
   "metadata": {
    "collapsed": true
   },
   "outputs": [],
   "source": [
    "datafile_6_31G = datafile_overview[datafile_overview['Basis_Set_Part_1']=='6-31+G*']"
   ]
  },
  {
   "cell_type": "code",
   "execution_count": 42,
   "metadata": {
    "collapsed": false
   },
   "outputs": [
    {
     "data": {
      "text/plain": [
       "(18, 21)"
      ]
     },
     "execution_count": 42,
     "metadata": {},
     "output_type": "execute_result"
    }
   ],
   "source": [
    "datafile_6_31G.shape"
   ]
  },
  {
   "cell_type": "code",
   "execution_count": 43,
   "metadata": {
    "collapsed": false
   },
   "outputs": [],
   "source": [
    "stdlist_6_311_G =datafile_6_31G[datafile_6_31G['Basis_Set_Part_2']=='6-311+G*'].std()"
   ]
  },
  {
   "cell_type": "code",
   "execution_count": 44,
   "metadata": {
    "collapsed": true
   },
   "outputs": [],
   "source": [
    "mean_6_311_G =datafile_6_31G[datafile_6_31G['Basis_Set_Part_2']=='6-311+G*'].mean()"
   ]
  },
  {
   "cell_type": "code",
   "execution_count": 45,
   "metadata": {
    "collapsed": false
   },
   "outputs": [
    {
     "data": {
      "text/plain": [
       "Total_DFT_Energy (Ha)                          -56.424422\n",
       "Total_DFT_Energy (kcal/mol)                 -35406.494109\n",
       "Thermal Correction to Enthalpy (kcal/mol)       24.397667\n",
       "Corrected Enthalpy                          -35382.096442\n",
       "Formation_Enthalpy                              -9.277141\n",
       "Formation_Energy                               -38.815557\n",
       "Deviation_STD                                    0.225557\n",
       "CPU Time                                        14.677778\n",
       "Wall Time                                       15.655556\n",
       "CPU_Time_Sum                                    27.177778\n",
       "Geometry_Angle                                 107.623333\n",
       "Bond_Length                                      1.015263\n",
       "dtype: float64"
      ]
     },
     "execution_count": 45,
     "metadata": {},
     "output_type": "execute_result"
    }
   ],
   "source": [
    "mean_6_311_G"
   ]
  },
  {
   "cell_type": "code",
   "execution_count": 46,
   "metadata": {
    "collapsed": true
   },
   "outputs": [],
   "source": [
    "stdlist_6_31_G =datafile_6_31G[datafile_6_31G['Basis_Set_Part_2']=='6-31+G*'].std()"
   ]
  },
  {
   "cell_type": "code",
   "execution_count": 47,
   "metadata": {
    "collapsed": true
   },
   "outputs": [],
   "source": [
    "mean_6_31_G =datafile_6_31G[datafile_6_31G['Basis_Set_Part_2']=='6-31+G*'].mean()"
   ]
  },
  {
   "cell_type": "code",
   "execution_count": 48,
   "metadata": {
    "collapsed": false
   },
   "outputs": [
    {
     "data": {
      "text/plain": [
       "Total_DFT_Energy (Ha)                          -56.408410\n",
       "Total_DFT_Energy (kcal/mol)                 -35396.446662\n",
       "Thermal Correction to Enthalpy (kcal/mol)       24.397667\n",
       "Corrected Enthalpy                          -35372.048996\n",
       "Formation_Enthalpy                              -9.474268\n",
       "Formation_Energy                               -39.640336\n",
       "Deviation_STD                                    1.050336\n",
       "CPU Time                                        14.377778\n",
       "Wall Time                                       15.244444\n",
       "CPU_Time_Sum                                    26.588889\n",
       "Geometry_Angle                                 107.623333\n",
       "Bond_Length                                      1.015263\n",
       "dtype: float64"
      ]
     },
     "execution_count": 48,
     "metadata": {},
     "output_type": "execute_result"
    }
   ],
   "source": [
    "mean_6_31_G"
   ]
  },
  {
   "cell_type": "code",
   "execution_count": 49,
   "metadata": {
    "collapsed": false
   },
   "outputs": [
    {
     "data": {
      "text/plain": [
       "Total_DFT_Energy (Ha)                          0.168043\n",
       "Total_DFT_Energy (kcal/mol)                  105.447316\n",
       "Thermal Correction to Enthalpy (kcal/mol)      0.908246\n",
       "Corrected Enthalpy                           105.451715\n",
       "Formation_Enthalpy                             1.589757\n",
       "Formation_Energy                               6.651545\n",
       "Deviation_STD                                  6.651545\n",
       "CPU Time                                       8.897581\n",
       "Wall Time                                      9.163666\n",
       "CPU_Time_Sum                                  13.591214\n",
       "Geometry_Angle                                 0.456645\n",
       "Bond_Length                                    0.010470\n",
       "dtype: float64"
      ]
     },
     "execution_count": 49,
     "metadata": {},
     "output_type": "execute_result"
    }
   ],
   "source": [
    "stdlist_6_31_G"
   ]
  },
  {
   "cell_type": "code",
   "execution_count": 50,
   "metadata": {
    "collapsed": false
   },
   "outputs": [
    {
     "data": {
      "text/plain": [
       "Total_DFT_Energy (Ha)                          0.168671\n",
       "Total_DFT_Energy (kcal/mol)                  105.841548\n",
       "Thermal Correction to Enthalpy (kcal/mol)      0.908246\n",
       "Corrected Enthalpy                           105.844947\n",
       "Formation_Enthalpy                             1.354982\n",
       "Formation_Energy                               5.669244\n",
       "Deviation_STD                                  5.669244\n",
       "CPU Time                                       8.577992\n",
       "Wall Time                                      8.919657\n",
       "CPU_Time_Sum                                  13.282392\n",
       "Geometry_Angle                                 0.456645\n",
       "Bond_Length                                    0.010470\n",
       "dtype: float64"
      ]
     },
     "execution_count": 50,
     "metadata": {},
     "output_type": "execute_result"
    }
   ],
   "source": [
    "stdlist_6_311_G"
   ]
  },
  {
   "cell_type": "code",
   "execution_count": 51,
   "metadata": {
    "collapsed": false
   },
   "outputs": [
    {
     "data": {
      "text/plain": [
       "Total_DFT_Energy (Ha)                          -56.408410\n",
       "Total_DFT_Energy (kcal/mol)                 -35396.446662\n",
       "Thermal Correction to Enthalpy (kcal/mol)       24.397667\n",
       "Corrected Enthalpy                          -35372.048996\n",
       "Formation_Enthalpy                              -9.474268\n",
       "Formation_Energy                               -39.640336\n",
       "Deviation_STD                                    1.050336\n",
       "CPU Time                                        14.377778\n",
       "Wall Time                                       15.244444\n",
       "CPU_Time_Sum                                    26.588889\n",
       "Geometry_Angle                                 107.623333\n",
       "Bond_Length                                      1.015263\n",
       "dtype: float64"
      ]
     },
     "execution_count": 51,
     "metadata": {},
     "output_type": "execute_result"
    }
   ],
   "source": [
    "mean_6_31_G"
   ]
  },
  {
   "cell_type": "code",
   "execution_count": 52,
   "metadata": {
    "collapsed": false
   },
   "outputs": [
    {
     "data": {
      "text/plain": [
       "Total_DFT_Energy (Ha)                          -56.424422\n",
       "Total_DFT_Energy (kcal/mol)                 -35406.494109\n",
       "Thermal Correction to Enthalpy (kcal/mol)       24.397667\n",
       "Corrected Enthalpy                          -35382.096442\n",
       "Formation_Enthalpy                              -9.277141\n",
       "Formation_Energy                               -38.815557\n",
       "Deviation_STD                                    0.225557\n",
       "CPU Time                                        14.677778\n",
       "Wall Time                                       15.655556\n",
       "CPU_Time_Sum                                    27.177778\n",
       "Geometry_Angle                                 107.623333\n",
       "Bond_Length                                      1.015263\n",
       "dtype: float64"
      ]
     },
     "execution_count": 52,
     "metadata": {},
     "output_type": "execute_result"
    }
   ],
   "source": [
    "mean_6_311_G"
   ]
  },
  {
   "cell_type": "code",
   "execution_count": 53,
   "metadata": {
    "collapsed": false
   },
   "outputs": [
    {
     "data": {
      "text/plain": [
       "Total_DFT_Energy (Ha)                          0.168043\n",
       "Total_DFT_Energy (kcal/mol)                  105.447316\n",
       "Thermal Correction to Enthalpy (kcal/mol)      0.908246\n",
       "Corrected Enthalpy                           105.451715\n",
       "Formation_Enthalpy                             1.589757\n",
       "Formation_Energy                               6.651545\n",
       "Deviation_STD                                  6.651545\n",
       "CPU Time                                       8.897581\n",
       "Wall Time                                      9.163666\n",
       "CPU_Time_Sum                                  13.591214\n",
       "Geometry_Angle                                 0.456645\n",
       "Bond_Length                                    0.010470\n",
       "dtype: float64"
      ]
     },
     "execution_count": 53,
     "metadata": {},
     "output_type": "execute_result"
    }
   ],
   "source": [
    "stdlist_6_31_G"
   ]
  },
  {
   "cell_type": "code",
   "execution_count": 54,
   "metadata": {
    "collapsed": false
   },
   "outputs": [
    {
     "data": {
      "text/plain": [
       "Total_DFT_Energy (Ha)                          0.168671\n",
       "Total_DFT_Energy (kcal/mol)                  105.841548\n",
       "Thermal Correction to Enthalpy (kcal/mol)      0.908246\n",
       "Corrected Enthalpy                           105.844947\n",
       "Formation_Enthalpy                             1.354982\n",
       "Formation_Energy                               5.669244\n",
       "Deviation_STD                                  5.669244\n",
       "CPU Time                                       8.577992\n",
       "Wall Time                                      8.919657\n",
       "CPU_Time_Sum                                  13.282392\n",
       "Geometry_Angle                                 0.456645\n",
       "Bond_Length                                    0.010470\n",
       "dtype: float64"
      ]
     },
     "execution_count": 54,
     "metadata": {},
     "output_type": "execute_result"
    }
   ],
   "source": [
    "stdlist_6_311_G"
   ]
  },
  {
   "cell_type": "code",
   "execution_count": null,
   "metadata": {
    "collapsed": true
   },
   "outputs": [],
   "source": [
    "import numpy as np\n",
    "import matplotlib.pyplot as plt\n",
    "\n",
    "N = 4\n",
    "Sec_6_31_G_Means = (39.640336, 26.588889, 107.623333,  1.015263)\n",
    "Sec_6_31_G_Std =   (6.651545, 13.591214, 0.456645, 0.010470)\n",
    "\n",
    "ind = np.arange(N)  # the x locations for the groups\n",
    "width = 0.35       # the width of the bars\n",
    "\n",
    "fig, ax = plt.subplots()\n",
    "rects1 = ax.bar(ind, Sec_6_31_G_Means, width, color='r', yerr=Sec_6_31_G_Std)\n",
    "\n",
    "Sec_6_311_G_Means = (38.815557, 27.177778, 107.623333, 1.015263)\n",
    "Sec_6_311_G_Std =   (5.669244, 13.282392, 0.456645, 0.010470)\n",
    "rects2 = ax.bar(ind+width, Sec_6_311_G_Means, width, color='b', yerr=Sec_6_311_G_Std)\n",
    "\n",
    "# add some text for labels, title and axes ticks\n",
    "ax.set_ylabel('Absolute Value')\n",
    "ax.set_title('Overview by Energy Stage Basis Set (Optimized Stage Basis Set 6-31+G*)')\n",
    "ax.set_xticks(ind+width)\n",
    "ax.set_xticklabels( ('Formation_Energy (kJ/mol)', 'Wall Time (S)', r'NH Angle ($^\\circ$)', 'N-H Bondlength (Ang)') )\n",
    "\n",
    "ax.legend( (rects1[0], rects2[0]), ('6-31+G*', '6-311+G*') )\n",
    "\n",
    "def autolabel(rects):\n",
    "    # attach some text labels\n",
    "    for rect in rects:\n",
    "        height = rect.get_height()\n",
    "        ax.text(rect.get_x()+rect.get_width()/2., 1.05*height, '%d'%height,\n",
    "                ha='center', va='bottom')\n",
    "\n",
    "autolabel(rects1)\n",
    "autolabel(rects2)\n",
    "\n",
    "plt.show()"
   ]
  },
  {
   "cell_type": "code",
   "execution_count": 12,
   "metadata": {
    "collapsed": false
   },
   "outputs": [],
   "source": [
    "\"\"\"\n",
    "6-31+G* Overview of deviation\n",
    "\"\"\"\n",
    "import matplotlib.pyplot as plt\n",
    "\n",
    "x_pos = np.arange(datafile_6_31G.shape[0])\n",
    "y = list(datafile_6_31G['Deviation_STD'])\n",
    "labels = list(datafile_6_31G['Basis_Set_Part_2'])\n",
    "\n",
    "plt.scatter(x_pos, y, s=80,color='r')\n",
    "# You can specify a rotation for the tick labels in degrees or with keywords.\n",
    "plt.xticks(x_pos,labels, rotation=30)\n",
    "plt.yticks(fontsize=20)\n",
    "# Pad margins so that markers don't get clipped by the axes\n",
    "plt.margins(0.2)\n",
    "# Tweak spacing to prevent clipping of tick-labels\n",
    "plt.ylabel('Deviation from NIST NH3 Formation Enthalpy (kJ/mol)')\n",
    "# plt.xlabel('Functional Used',fontsize=40)\n",
    "plt.title('6-31+G* as Optimization basis set & Deviation from NIST data',fontsize=24)\n",
    "plt.subplots_adjust(bottom=0.15)\n",
    "\n",
    "\n",
    "# p = plt.axhspan(-2,2, facecolor='r', alpha=0.5)\n",
    "\n",
    "\n",
    "plt.show()"
   ]
  },
  {
   "cell_type": "code",
   "execution_count": 31,
   "metadata": {
    "collapsed": false
   },
   "outputs": [],
   "source": [
    "\"\"\"\n",
    "B3 Overview of deviation\n",
    "\"\"\"\n",
    "import matplotlib.pyplot as plt\n",
    "\n",
    "x_pos = np.arange(len(list(datafile_B3['Functional_2'])))\n",
    "y = list(datafile_B3['Deviation_STD'])\n",
    "labels = list(datafile_B3['Functional_2'])\n",
    "\n",
    "plt.scatter(x_pos, y, s=80,color='b')\n",
    "# You can specify a rotation for the tick labels in degrees or with keywords.\n",
    "plt.xticks(x_pos,labels, rotation=30)\n",
    "plt.yticks(fontsize=20)\n",
    "# Pad margins so that markers don't get clipped by the axes\n",
    "plt.margins(0.2)\n",
    "# Tweak spacing to prevent clipping of tick-labels\n",
    "plt.ylabel('Deviation from NIST NH3 Formation Enthalpy (kJ/mol)')\n",
    "# plt.xlabel('Functional Used',fontsize=40)\n",
    "plt.title('B3 as Optimization & Deviation from NIST data',fontsize=24)\n",
    "plt.subplots_adjust(bottom=0.15)\n",
    "\n",
    "\n",
    "# p = plt.axhspan(-2,2, facecolor='r', alpha=0.5)\n",
    "\n",
    "\n",
    "plt.show()"
   ]
  },
  {
   "cell_type": "code",
   "execution_count": 32,
   "metadata": {
    "collapsed": true
   },
   "outputs": [],
   "source": [
    "\"\"\"\n",
    "PBE Overview of deviation\n",
    "\"\"\"\n",
    "import matplotlib.pyplot as plt\n",
    "\n",
    "x_pos = np.arange(len(list(datafile_PBE['Functional_2'])))\n",
    "y = list(datafile_PBE['Deviation_STD'])\n",
    "labels = list(datafile_PBE['Functional_2'])\n",
    "\n",
    "plt.scatter(x_pos, y, s=80,color='y')\n",
    "# You can specify a rotation for the tick labels in degrees or with keywords.\n",
    "plt.xticks(x_pos,labels, rotation=30)\n",
    "plt.yticks(fontsize=20)\n",
    "# Pad margins so that markers don't get clipped by the axes\n",
    "plt.margins(0.2)\n",
    "# Tweak spacing to prevent clipping of tick-labels\n",
    "plt.ylabel('Deviation from NIST NH3 Formation Enthalpy (kJ/mol)')\n",
    "# plt.xlabel('Functional Used',fontsize=40)\n",
    "plt.title('PBE as Optimization & Deviation from NIST data',fontsize=24)\n",
    "plt.subplots_adjust(bottom=0.15)\n",
    "\n",
    "\n",
    "# p = plt.axhspan(-2,2, facecolor='r', alpha=0.5)\n",
    "\n",
    "\n",
    "plt.show()"
   ]
  },
  {
   "cell_type": "code",
   "execution_count": 7,
   "metadata": {
    "collapsed": false
   },
   "outputs": [
    {
     "data": {
      "text/html": [
       "<div style=\"max-height:1000px;max-width:1500px;overflow:auto;\">\n",
       "<table border=\"1\" class=\"dataframe\">\n",
       "  <thead>\n",
       "    <tr style=\"text-align: right;\">\n",
       "      <th></th>\n",
       "      <th>Compounds</th>\n",
       "      <th>Functional_Used</th>\n",
       "      <th>Functional_Used_Abb</th>\n",
       "      <th>Functional_1</th>\n",
       "      <th>Functional_2</th>\n",
       "      <th>Basis_Set</th>\n",
       "      <th>Basis_Set_Part_1</th>\n",
       "      <th>Basis_Set_Part_2</th>\n",
       "      <th>Total_DFT_Energy (Ha)</th>\n",
       "      <th>Total_DFT_Energy (kcal/mol)</th>\n",
       "      <th>...</th>\n",
       "      <th>Corrected Enthalpy</th>\n",
       "      <th>Formation_Enthalpy</th>\n",
       "      <th>Formation_Energy</th>\n",
       "      <th>Deviation_STD</th>\n",
       "      <th>CPU Time</th>\n",
       "      <th>Wall Time</th>\n",
       "      <th>CPU_Time_Sum</th>\n",
       "      <th>Output_File_Path</th>\n",
       "      <th>Geometry_Angle</th>\n",
       "      <th>Bond_Length</th>\n",
       "    </tr>\n",
       "  </thead>\n",
       "  <tbody>\n",
       "    <tr>\n",
       "      <th>0</th>\n",
       "      <td>  H2</td>\n",
       "      <td> B3LYP_B3LYP</td>\n",
       "      <td> B3_B3</td>\n",
       "      <td> B3LYP</td>\n",
       "      <td> B3LYP</td>\n",
       "      <td>  6-31+G*_6-31+G*</td>\n",
       "      <td> 6-31+G*</td>\n",
       "      <td>  6-31+G*</td>\n",
       "      <td>  -1.175482</td>\n",
       "      <td>  -737.618740</td>\n",
       "      <td>...</td>\n",
       "      <td>  -729.182740</td>\n",
       "      <td>      NaN</td>\n",
       "      <td>       NaN</td>\n",
       "      <td>       NaN</td>\n",
       "      <td>  1.0</td>\n",
       "      <td>  1.3</td>\n",
       "      <td>  0.0</td>\n",
       "      <td>   ./B3LYP_B3LYP/6-31+G*_6-31+G*/H2/H2.nwout</td>\n",
       "      <td>    NaN</td>\n",
       "      <td> 0.74279</td>\n",
       "    </tr>\n",
       "    <tr>\n",
       "      <th>1</th>\n",
       "      <td>  N2</td>\n",
       "      <td> B3LYP_B3LYP</td>\n",
       "      <td> B3_B3</td>\n",
       "      <td> B3LYP</td>\n",
       "      <td> B3LYP</td>\n",
       "      <td>  6-31+G*_6-31+G*</td>\n",
       "      <td> 6-31+G*</td>\n",
       "      <td>  6-31+G*</td>\n",
       "      <td>-109.529780</td>\n",
       "      <td>-68730.265750</td>\n",
       "      <td>...</td>\n",
       "      <td>-68724.685750</td>\n",
       "      <td>      NaN</td>\n",
       "      <td>       NaN</td>\n",
       "      <td>       NaN</td>\n",
       "      <td> 12.0</td>\n",
       "      <td> 12.9</td>\n",
       "      <td>  0.0</td>\n",
       "      <td>   ./B3LYP_B3LYP/6-31+G*_6-31+G*/N2/N2.nwout</td>\n",
       "      <td>    NaN</td>\n",
       "      <td> 1.10512</td>\n",
       "    </tr>\n",
       "    <tr>\n",
       "      <th>2</th>\n",
       "      <td> NH3</td>\n",
       "      <td> B3LYP_B3LYP</td>\n",
       "      <td> B3_B3</td>\n",
       "      <td> B3LYP</td>\n",
       "      <td> B3LYP</td>\n",
       "      <td>  6-31+G*_6-31+G*</td>\n",
       "      <td> 6-31+G*</td>\n",
       "      <td>  6-31+G*</td>\n",
       "      <td> -56.556987</td>\n",
       "      <td>-35489.678810</td>\n",
       "      <td>...</td>\n",
       "      <td>-35465.636810</td>\n",
       "      <td>-9.519824</td>\n",
       "      <td>-39.830944</td>\n",
       "      <td> -6.109056</td>\n",
       "      <td> 18.6</td>\n",
       "      <td> 19.4</td>\n",
       "      <td> 31.6</td>\n",
       "      <td> ./B3LYP_B3LYP/6-31+G*_6-31+G*/NH3/NH3.nwout</td>\n",
       "      <td> 107.68</td>\n",
       "      <td> 1.01800</td>\n",
       "    </tr>\n",
       "    <tr>\n",
       "      <th>3</th>\n",
       "      <td>  H2</td>\n",
       "      <td> B3LYP_B3LYP</td>\n",
       "      <td> B3_B3</td>\n",
       "      <td> B3LYP</td>\n",
       "      <td> B3LYP</td>\n",
       "      <td> 6-31+G*_6-311+G*</td>\n",
       "      <td> 6-31+G*</td>\n",
       "      <td> 6-311+G*</td>\n",
       "      <td>  -1.176631</td>\n",
       "      <td>  -738.339782</td>\n",
       "      <td>...</td>\n",
       "      <td>  -729.903782</td>\n",
       "      <td>      NaN</td>\n",
       "      <td>  0.000000</td>\n",
       "      <td>-45.940000</td>\n",
       "      <td>  1.1</td>\n",
       "      <td>  1.4</td>\n",
       "      <td>  0.0</td>\n",
       "      <td>  ./B3LYP_B3LYP/6-31+G*_6-311+G*/H2/H2.nwout</td>\n",
       "      <td>    NaN</td>\n",
       "      <td> 0.74279</td>\n",
       "    </tr>\n",
       "    <tr>\n",
       "      <th>4</th>\n",
       "      <td>  N2</td>\n",
       "      <td> B3LYP_B3LYP</td>\n",
       "      <td> B3_B3</td>\n",
       "      <td> B3LYP</td>\n",
       "      <td> B3LYP</td>\n",
       "      <td> 6-31+G*_6-311+G*</td>\n",
       "      <td> 6-31+G*</td>\n",
       "      <td> 6-311+G*</td>\n",
       "      <td>-109.560564</td>\n",
       "      <td>-68749.582710</td>\n",
       "      <td>...</td>\n",
       "      <td>-68744.002710</td>\n",
       "      <td>      NaN</td>\n",
       "      <td>  0.000000</td>\n",
       "      <td>-45.940000</td>\n",
       "      <td> 11.8</td>\n",
       "      <td> 12.4</td>\n",
       "      <td>  0.0</td>\n",
       "      <td>  ./B3LYP_B3LYP/6-31+G*_6-311+G*/N2/N2.nwout</td>\n",
       "      <td>    NaN</td>\n",
       "      <td> 1.10512</td>\n",
       "    </tr>\n",
       "  </tbody>\n",
       "</table>\n",
       "<p>5 rows × 21 columns</p>\n",
       "</div>"
      ],
      "text/plain": [
       "  Compounds Functional_Used Functional_Used_Abb Functional_1 Functional_2  \\\n",
       "0        H2     B3LYP_B3LYP               B3_B3        B3LYP        B3LYP   \n",
       "1        N2     B3LYP_B3LYP               B3_B3        B3LYP        B3LYP   \n",
       "2       NH3     B3LYP_B3LYP               B3_B3        B3LYP        B3LYP   \n",
       "3        H2     B3LYP_B3LYP               B3_B3        B3LYP        B3LYP   \n",
       "4        N2     B3LYP_B3LYP               B3_B3        B3LYP        B3LYP   \n",
       "\n",
       "          Basis_Set Basis_Set_Part_1 Basis_Set_Part_2  Total_DFT_Energy (Ha)  \\\n",
       "0   6-31+G*_6-31+G*          6-31+G*          6-31+G*              -1.175482   \n",
       "1   6-31+G*_6-31+G*          6-31+G*          6-31+G*            -109.529780   \n",
       "2   6-31+G*_6-31+G*          6-31+G*          6-31+G*             -56.556987   \n",
       "3  6-31+G*_6-311+G*          6-31+G*         6-311+G*              -1.176631   \n",
       "4  6-31+G*_6-311+G*          6-31+G*         6-311+G*            -109.560564   \n",
       "\n",
       "   Total_DFT_Energy (kcal/mol)     ...       Corrected Enthalpy  \\\n",
       "0                  -737.618740     ...              -729.182740   \n",
       "1                -68730.265750     ...            -68724.685750   \n",
       "2                -35489.678810     ...            -35465.636810   \n",
       "3                  -738.339782     ...              -729.903782   \n",
       "4                -68749.582710     ...            -68744.002710   \n",
       "\n",
       "   Formation_Enthalpy  Formation_Energy  Deviation_STD  CPU Time  Wall Time  \\\n",
       "0                 NaN               NaN            NaN       1.0        1.3   \n",
       "1                 NaN               NaN            NaN      12.0       12.9   \n",
       "2           -9.519824        -39.830944      -6.109056      18.6       19.4   \n",
       "3                 NaN          0.000000     -45.940000       1.1        1.4   \n",
       "4                 NaN          0.000000     -45.940000      11.8       12.4   \n",
       "\n",
       "   CPU_Time_Sum                             Output_File_Path Geometry_Angle  \\\n",
       "0           0.0    ./B3LYP_B3LYP/6-31+G*_6-31+G*/H2/H2.nwout            NaN   \n",
       "1           0.0    ./B3LYP_B3LYP/6-31+G*_6-31+G*/N2/N2.nwout            NaN   \n",
       "2          31.6  ./B3LYP_B3LYP/6-31+G*_6-31+G*/NH3/NH3.nwout         107.68   \n",
       "3           0.0   ./B3LYP_B3LYP/6-31+G*_6-311+G*/H2/H2.nwout            NaN   \n",
       "4           0.0   ./B3LYP_B3LYP/6-31+G*_6-311+G*/N2/N2.nwout            NaN   \n",
       "\n",
       "   Bond_Length  \n",
       "0      0.74279  \n",
       "1      1.10512  \n",
       "2      1.01800  \n",
       "3      0.74279  \n",
       "4      1.10512  \n",
       "\n",
       "[5 rows x 21 columns]"
      ]
     },
     "execution_count": 7,
     "metadata": {},
     "output_type": "execute_result"
    }
   ],
   "source": [
    "datafile_B3.head()"
   ]
  },
  {
   "cell_type": "code",
   "execution_count": 4,
   "metadata": {
    "collapsed": false
   },
   "outputs": [],
   "source": [
    "Functional_used_list = list(datafile['Functional_Used_Abb'])"
   ]
  },
  {
   "cell_type": "code",
   "execution_count": 5,
   "metadata": {
    "collapsed": true
   },
   "outputs": [],
   "source": [
    "Formation_Energy_list = list(datafile['Formation_Energy'])"
   ]
  },
  {
   "cell_type": "code",
   "execution_count": 6,
   "metadata": {
    "collapsed": true
   },
   "outputs": [],
   "source": [
    "Energy_Dev = list(datafile['Deviation_STD'])"
   ]
  },
  {
   "cell_type": "code",
   "execution_count": 7,
   "metadata": {
    "collapsed": false
   },
   "outputs": [
    {
     "data": {
      "text/plain": [
       "['B3_B3',\n",
       " 'B3_B3',\n",
       " 'B3_B3',\n",
       " 'B3_B3',\n",
       " 'B3_HF',\n",
       " 'B3_HF',\n",
       " 'B3_HF',\n",
       " 'B3_HF',\n",
       " 'B3_PBE',\n",
       " 'B3_PBE',\n",
       " 'B3_PBE',\n",
       " 'B3_PBE',\n",
       " 'HF_B3',\n",
       " 'HF_B3',\n",
       " 'HF_B3',\n",
       " 'HF_B3',\n",
       " 'HF_HF',\n",
       " 'HF_HF',\n",
       " 'HF_HF',\n",
       " 'HF_HF',\n",
       " 'HF_PBE',\n",
       " 'HF_PBE',\n",
       " 'HF_PBE',\n",
       " 'HF_PBE',\n",
       " 'PBE_B3',\n",
       " 'PBE_B3',\n",
       " 'PBE_B3',\n",
       " 'PBE_B3',\n",
       " 'PBE_HF',\n",
       " 'PBE_HF',\n",
       " 'PBE_HF',\n",
       " 'PBE_HF',\n",
       " 'PBE_PBE',\n",
       " 'PBE_PBE',\n",
       " 'PBE_PBE',\n",
       " 'PBE_PBE']"
      ]
     },
     "execution_count": 7,
     "metadata": {},
     "output_type": "execute_result"
    }
   ],
   "source": [
    "Functional_used_list"
   ]
  },
  {
   "cell_type": "code",
   "execution_count": 8,
   "metadata": {
    "collapsed": false
   },
   "outputs": [],
   "source": [
    "\"\"\"\n",
    "Demo of custom tick-labels with user-defined rotation.\n",
    "\"\"\"\n",
    "import matplotlib.pyplot as plt\n",
    "\n",
    "x_pos = np.arange(len(Formation_Energy_list))\n",
    "y = Formation_Energy_list\n",
    "labels = Functional_used_list\n",
    "\n",
    "plt.plot(x_pos, y, 'ro')\n",
    "# You can specify a rotation for the tick labels in degrees or with keywords.\n",
    "plt.xticks(x_pos,labels, rotation='vertical')\n",
    "# Pad margins so that markers don't get clipped by the axes\n",
    "plt.margins(0.2)\n",
    "# Tweak spacing to prevent clipping of tick-labels\n",
    "plt.subplots_adjust(bottom=0.15)\n",
    "plt.show()"
   ]
  },
  {
   "cell_type": "code",
   "execution_count": null,
   "metadata": {
    "collapsed": false
   },
   "outputs": [],
   "source": [
    "\"\"\"\n",
    "Demo of custom tick-labels with user-defined rotation.\n",
    "\"\"\"\n",
    "import matplotlib.pyplot as plt\n",
    "\n",
    "x_pos = np.arange(len(Energy_Dev))\n",
    "y = Energy_Dev\n",
    "labels = Functional_used_list\n",
    "\n",
    "plt.scatter(x_pos, y, s=60)\n",
    "# You can specify a rotation for the tick labels in degrees or with keywords.\n",
    "plt.xticks(x_pos,labels, rotation='vertical')\n",
    "plt.yticks(fontsize=20)\n",
    "# Pad margins so that markers don't get clipped by the axes\n",
    "plt.margins(0.2)\n",
    "# Tweak spacing to prevent clipping of tick-labels\n",
    "plt.xlabel('Functional Used',fontsize=30)\n",
    "plt.title('Functional Used & Deviation from NIST data',fontsize=24)\n",
    "plt.subplots_adjust(bottom=0.15)\n",
    "\n",
    "\n",
    "p = plt.axhspan(-2,2, facecolor='r', alpha=0.5)\n",
    "\n",
    "\n",
    "plt.show()"
   ]
  }
 ],
 "metadata": {
  "kernelspec": {
   "display_name": "Python 2",
   "language": "python",
   "name": "python2"
  },
  "language_info": {
   "codemirror_mode": {
    "name": "ipython",
    "version": 2
   },
   "file_extension": ".py",
   "mimetype": "text/x-python",
   "name": "python",
   "nbconvert_exporter": "python",
   "pygments_lexer": "ipython2",
   "version": "2.7.6"
  }
 },
 "nbformat": 4,
 "nbformat_minor": 0
}
