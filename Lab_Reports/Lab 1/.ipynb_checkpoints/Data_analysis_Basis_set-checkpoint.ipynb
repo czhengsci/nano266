{
 "cells": [
  {
   "cell_type": "code",
   "execution_count": 41,
   "metadata": {
    "collapsed": false
   },
   "outputs": [],
   "source": [
    "import numpy as np\n",
    "import pandas as pd\n",
    "\n",
    "datafile = pd.read_csv('data_record_0420.csv',header=0)\n",
    "\n",
    "# rpt[rpt['STK_ID'].str.contains(r'^600[0-9]{3}$')]\n",
    "\n",
    "#Filter out H2 and N2 line using formation energy column NaN value\n",
    "datafile_overview = datafile[datafile['Compounds'].str.contains(r'NH3')]"
   ]
  },
  {
   "cell_type": "code",
   "execution_count": 55,
   "metadata": {
    "collapsed": false
   },
   "outputs": [],
   "source": [
    "\"\"\"\n",
    "Geometry Angle Overview of predicted data\n",
    "\"\"\"\n",
    "import matplotlib.pyplot as plt\n",
    "\n",
    "x_pos = np.arange(datafile_overview.shape[0])\n",
    "y = list(datafile_overview['Geometry_Angle'])\n",
    "labels = list(datafile_overview['Functional_Used_Abb'])\n",
    "\n",
    "plt.scatter(x_pos, y, s=80,color='r')\n",
    "# You can specify a rotation for the tick labels in degrees or with keywords.\n",
    "plt.xticks(x_pos,labels, rotation='vertical')\n",
    "plt.yticks(fontsize=20)\n",
    "# Pad margins so that markers don't get clipped by the axes\n",
    "plt.margins(0.2)\n",
    "# Tweak spacing to prevent clipping of tick-labels\n",
    "plt.ylabel(r'Geometry Angle ($^\\circ$)')\n",
    "# plt.xlabel('Functional Used',fontsize=40)\n",
    "plt.title(r'Predicted Geometry Angle Overview',fontsize=24)\n",
    "plt.subplots_adjust(bottom=0.15)\n",
    "\n",
    "\n",
    "# p = plt.axhspan(-2,2, facecolor='r', alpha=0.5)\n",
    "\n",
    "\n",
    "plt.show()"
   ]
  },
  {
   "cell_type": "code",
   "execution_count": null,
   "metadata": {
    "collapsed": false
   },
   "outputs": [],
   "source": [
    "\"\"\"\n",
    "Bond Length Overview of predicted data\n",
    "\"\"\"\n",
    "import matplotlib.pyplot as plt\n",
    "\n",
    "x_pos = np.arange(datafile_overview.shape[0])\n",
    "y = list(datafile_overview['Bond_Length'])\n",
    "labels = list(datafile_overview['Functional_Used_Abb'])\n",
    "\n",
    "plt.scatter(x_pos, y, s=80,color='g')\n",
    "# You can specify a rotation for the tick labels in degrees or with keywords.\n",
    "plt.xticks(x_pos,labels, rotation='vertical')\n",
    "plt.yticks(fontsize=20)\n",
    "# Pad margins so that markers don't get clipped by the axes\n",
    "plt.margins(0.2)\n",
    "# Tweak spacing to prevent clipping of tick-labels\n",
    "plt.ylabel(r'Bond Length (Angstrom)')\n",
    "# plt.xlabel('Functional Used',fontsize=40)\n",
    "plt.title(r'Predicted Bond Length Overview',fontsize=24)\n",
    "# draw a thick red hline at y=0 that spans the xrange\n",
    "l = plt.axhline(1.017,linewidth=4, color='r')\n",
    "plt.subplots_adjust(bottom=0.15)\n",
    "\n",
    "\n",
    "# p = plt.axhspan(-2,2, facecolor='r', alpha=0.5)\n",
    "\n",
    "\n",
    "plt.show()"
   ]
  },
  {
   "cell_type": "code",
   "execution_count": 14,
   "metadata": {
    "collapsed": false
   },
   "outputs": [
    {
     "data": {
      "text/plain": [
       "(108, 21)"
      ]
     },
     "execution_count": 14,
     "metadata": {},
     "output_type": "execute_result"
    }
   ],
   "source": [
    "datafile.shape"
   ]
  },
  {
   "cell_type": "code",
   "execution_count": 42,
   "metadata": {
    "collapsed": true
   },
   "outputs": [],
   "source": [
    "# b = df[(df['a'] > 1) & (df['a'] < 5)]\n",
    "data_deviation_acc = datafile_overview[(datafile_overview['Deviation_STD']<2.5)&(datafile_overview['Deviation_STD']>-2.5)]"
   ]
  },
  {
   "cell_type": "code",
   "execution_count": 38,
   "metadata": {
    "collapsed": false
   },
   "outputs": [
    {
     "data": {
      "text/plain": [
       "10"
      ]
     },
     "execution_count": 38,
     "metadata": {},
     "output_type": "execute_result"
    }
   ],
   "source": [
    "data_deviation_acc.shape[0]"
   ]
  },
  {
   "cell_type": "code",
   "execution_count": 49,
   "metadata": {
    "collapsed": false
   },
   "outputs": [],
   "source": [
    "\"\"\"\n",
    "cpu time Overview of accepted deviation\n",
    "\"\"\"\n",
    "import matplotlib.pyplot as plt\n",
    "\n",
    "x_pos = np.arange(data_deviation_acc.shape[0])\n",
    "y = list(data_deviation_acc['CPU_Time_Sum'])\n",
    "labels = list(datafile_HF['Functional_Used_Abb'])\n",
    "\n",
    "plt.scatter(x_pos, y, s=80,color='r')\n",
    "# You can specify a rotation for the tick labels in degrees or with keywords.\n",
    "plt.xticks(x_pos,labels, rotation=30)\n",
    "plt.yticks(fontsize=20)\n",
    "# Pad margins so that markers don't get clipped by the axes\n",
    "plt.margins(0.2)\n",
    "# Tweak spacing to prevent clipping of tick-labels\n",
    "plt.ylabel('Wall Time Used (s)')\n",
    "# plt.xlabel('Functional Used',fontsize=40)\n",
    "plt.title(r'$Wall\\/Time\\/with\\/ \\pm 2.5 kJ/mol\\/deviation$',fontsize=24)\n",
    "plt.subplots_adjust(bottom=0.15)\n",
    "\n",
    "\n",
    "# p = plt.axhspan(-2,2, facecolor='r', alpha=0.5)\n",
    "\n",
    "\n",
    "plt.show()"
   ]
  },
  {
   "cell_type": "code",
   "execution_count": 15,
   "metadata": {
    "collapsed": true
   },
   "outputs": [],
   "source": [
    "datafile_B3 = datafile_overview[datafile_overview['Functional_1'].str.contains(r'B3LYP')]"
   ]
  },
  {
   "cell_type": "code",
   "execution_count": 21,
   "metadata": {
    "collapsed": true
   },
   "outputs": [],
   "source": [
    "datafile_HF = datafile_overview[datafile_overview['Functional_1'].str.contains(r'HFexch')]"
   ]
  },
  {
   "cell_type": "code",
   "execution_count": 29,
   "metadata": {
    "collapsed": true
   },
   "outputs": [],
   "source": [
    "datafile_PBE = datafile_overview[datafile_overview['Functional_1'].str.contains(r'xpbe96 cpbe96')]"
   ]
  },
  {
   "cell_type": "code",
   "execution_count": 22,
   "metadata": {
    "collapsed": false
   },
   "outputs": [
    {
     "data": {
      "text/plain": [
       "(12, 21)"
      ]
     },
     "execution_count": 22,
     "metadata": {},
     "output_type": "execute_result"
    }
   ],
   "source": [
    "datafile_HF.shape"
   ]
  },
  {
   "cell_type": "code",
   "execution_count": 27,
   "metadata": {
    "collapsed": false
   },
   "outputs": [],
   "source": [
    "\"\"\"\n",
    "HF Overview of deviation\n",
    "\"\"\"\n",
    "import matplotlib.pyplot as plt\n",
    "\n",
    "x_pos = np.arange(len(list(datafile_HF['Functional_2'])))\n",
    "y = list(datafile_HF['Deviation_STD'])\n",
    "labels = list(datafile_HF['Functional_2'])\n",
    "\n",
    "plt.scatter(x_pos, y, s=80,color='r')\n",
    "# You can specify a rotation for the tick labels in degrees or with keywords.\n",
    "plt.xticks(x_pos,labels, rotation=30)\n",
    "plt.yticks(fontsize=20)\n",
    "# Pad margins so that markers don't get clipped by the axes\n",
    "plt.margins(0.2)\n",
    "# Tweak spacing to prevent clipping of tick-labels\n",
    "plt.ylabel('Deviation from NIST NH3 Formation Enthalpy (kJ/mol)')\n",
    "# plt.xlabel('Functional Used',fontsize=40)\n",
    "plt.title('HF as Optimization & Deviation from NIST data',fontsize=24)\n",
    "plt.subplots_adjust(bottom=0.15)\n",
    "\n",
    "\n",
    "# p = plt.axhspan(-2,2, facecolor='r', alpha=0.5)\n",
    "\n",
    "\n",
    "plt.show()"
   ]
  },
  {
   "cell_type": "code",
   "execution_count": 31,
   "metadata": {
    "collapsed": false
   },
   "outputs": [],
   "source": [
    "\"\"\"\n",
    "B3 Overview of deviation\n",
    "\"\"\"\n",
    "import matplotlib.pyplot as plt\n",
    "\n",
    "x_pos = np.arange(len(list(datafile_B3['Functional_2'])))\n",
    "y = list(datafile_B3['Deviation_STD'])\n",
    "labels = list(datafile_B3['Functional_2'])\n",
    "\n",
    "plt.scatter(x_pos, y, s=80,color='b')\n",
    "# You can specify a rotation for the tick labels in degrees or with keywords.\n",
    "plt.xticks(x_pos,labels, rotation=30)\n",
    "plt.yticks(fontsize=20)\n",
    "# Pad margins so that markers don't get clipped by the axes\n",
    "plt.margins(0.2)\n",
    "# Tweak spacing to prevent clipping of tick-labels\n",
    "plt.ylabel('Deviation from NIST NH3 Formation Enthalpy (kJ/mol)')\n",
    "# plt.xlabel('Functional Used',fontsize=40)\n",
    "plt.title('B3 as Optimization & Deviation from NIST data',fontsize=24)\n",
    "plt.subplots_adjust(bottom=0.15)\n",
    "\n",
    "\n",
    "# p = plt.axhspan(-2,2, facecolor='r', alpha=0.5)\n",
    "\n",
    "\n",
    "plt.show()"
   ]
  },
  {
   "cell_type": "code",
   "execution_count": 32,
   "metadata": {
    "collapsed": true
   },
   "outputs": [],
   "source": [
    "\"\"\"\n",
    "PBE Overview of deviation\n",
    "\"\"\"\n",
    "import matplotlib.pyplot as plt\n",
    "\n",
    "x_pos = np.arange(len(list(datafile_PBE['Functional_2'])))\n",
    "y = list(datafile_PBE['Deviation_STD'])\n",
    "labels = list(datafile_PBE['Functional_2'])\n",
    "\n",
    "plt.scatter(x_pos, y, s=80,color='y')\n",
    "# You can specify a rotation for the tick labels in degrees or with keywords.\n",
    "plt.xticks(x_pos,labels, rotation=30)\n",
    "plt.yticks(fontsize=20)\n",
    "# Pad margins so that markers don't get clipped by the axes\n",
    "plt.margins(0.2)\n",
    "# Tweak spacing to prevent clipping of tick-labels\n",
    "plt.ylabel('Deviation from NIST NH3 Formation Enthalpy (kJ/mol)')\n",
    "# plt.xlabel('Functional Used',fontsize=40)\n",
    "plt.title('PBE as Optimization & Deviation from NIST data',fontsize=24)\n",
    "plt.subplots_adjust(bottom=0.15)\n",
    "\n",
    "\n",
    "# p = plt.axhspan(-2,2, facecolor='r', alpha=0.5)\n",
    "\n",
    "\n",
    "plt.show()"
   ]
  },
  {
   "cell_type": "code",
   "execution_count": 7,
   "metadata": {
    "collapsed": false
   },
   "outputs": [
    {
     "data": {
      "text/html": [
       "<div style=\"max-height:1000px;max-width:1500px;overflow:auto;\">\n",
       "<table border=\"1\" class=\"dataframe\">\n",
       "  <thead>\n",
       "    <tr style=\"text-align: right;\">\n",
       "      <th></th>\n",
       "      <th>Compounds</th>\n",
       "      <th>Functional_Used</th>\n",
       "      <th>Functional_Used_Abb</th>\n",
       "      <th>Functional_1</th>\n",
       "      <th>Functional_2</th>\n",
       "      <th>Basis_Set</th>\n",
       "      <th>Basis_Set_Part_1</th>\n",
       "      <th>Basis_Set_Part_2</th>\n",
       "      <th>Total_DFT_Energy (Ha)</th>\n",
       "      <th>Total_DFT_Energy (kcal/mol)</th>\n",
       "      <th>...</th>\n",
       "      <th>Corrected Enthalpy</th>\n",
       "      <th>Formation_Enthalpy</th>\n",
       "      <th>Formation_Energy</th>\n",
       "      <th>Deviation_STD</th>\n",
       "      <th>CPU Time</th>\n",
       "      <th>Wall Time</th>\n",
       "      <th>CPU_Time_Sum</th>\n",
       "      <th>Output_File_Path</th>\n",
       "      <th>Geometry_Angle</th>\n",
       "      <th>Bond_Length</th>\n",
       "    </tr>\n",
       "  </thead>\n",
       "  <tbody>\n",
       "    <tr>\n",
       "      <th>0</th>\n",
       "      <td>  H2</td>\n",
       "      <td> B3LYP_B3LYP</td>\n",
       "      <td> B3_B3</td>\n",
       "      <td> B3LYP</td>\n",
       "      <td> B3LYP</td>\n",
       "      <td>  6-31+G*_6-31+G*</td>\n",
       "      <td> 6-31+G*</td>\n",
       "      <td>  6-31+G*</td>\n",
       "      <td>  -1.175482</td>\n",
       "      <td>  -737.618740</td>\n",
       "      <td>...</td>\n",
       "      <td>  -729.182740</td>\n",
       "      <td>      NaN</td>\n",
       "      <td>       NaN</td>\n",
       "      <td>       NaN</td>\n",
       "      <td>  1.0</td>\n",
       "      <td>  1.3</td>\n",
       "      <td>  0.0</td>\n",
       "      <td>   ./B3LYP_B3LYP/6-31+G*_6-31+G*/H2/H2.nwout</td>\n",
       "      <td>    NaN</td>\n",
       "      <td> 0.74279</td>\n",
       "    </tr>\n",
       "    <tr>\n",
       "      <th>1</th>\n",
       "      <td>  N2</td>\n",
       "      <td> B3LYP_B3LYP</td>\n",
       "      <td> B3_B3</td>\n",
       "      <td> B3LYP</td>\n",
       "      <td> B3LYP</td>\n",
       "      <td>  6-31+G*_6-31+G*</td>\n",
       "      <td> 6-31+G*</td>\n",
       "      <td>  6-31+G*</td>\n",
       "      <td>-109.529780</td>\n",
       "      <td>-68730.265750</td>\n",
       "      <td>...</td>\n",
       "      <td>-68724.685750</td>\n",
       "      <td>      NaN</td>\n",
       "      <td>       NaN</td>\n",
       "      <td>       NaN</td>\n",
       "      <td> 12.0</td>\n",
       "      <td> 12.9</td>\n",
       "      <td>  0.0</td>\n",
       "      <td>   ./B3LYP_B3LYP/6-31+G*_6-31+G*/N2/N2.nwout</td>\n",
       "      <td>    NaN</td>\n",
       "      <td> 1.10512</td>\n",
       "    </tr>\n",
       "    <tr>\n",
       "      <th>2</th>\n",
       "      <td> NH3</td>\n",
       "      <td> B3LYP_B3LYP</td>\n",
       "      <td> B3_B3</td>\n",
       "      <td> B3LYP</td>\n",
       "      <td> B3LYP</td>\n",
       "      <td>  6-31+G*_6-31+G*</td>\n",
       "      <td> 6-31+G*</td>\n",
       "      <td>  6-31+G*</td>\n",
       "      <td> -56.556987</td>\n",
       "      <td>-35489.678810</td>\n",
       "      <td>...</td>\n",
       "      <td>-35465.636810</td>\n",
       "      <td>-9.519824</td>\n",
       "      <td>-39.830944</td>\n",
       "      <td> -6.109056</td>\n",
       "      <td> 18.6</td>\n",
       "      <td> 19.4</td>\n",
       "      <td> 31.6</td>\n",
       "      <td> ./B3LYP_B3LYP/6-31+G*_6-31+G*/NH3/NH3.nwout</td>\n",
       "      <td> 107.68</td>\n",
       "      <td> 1.01800</td>\n",
       "    </tr>\n",
       "    <tr>\n",
       "      <th>3</th>\n",
       "      <td>  H2</td>\n",
       "      <td> B3LYP_B3LYP</td>\n",
       "      <td> B3_B3</td>\n",
       "      <td> B3LYP</td>\n",
       "      <td> B3LYP</td>\n",
       "      <td> 6-31+G*_6-311+G*</td>\n",
       "      <td> 6-31+G*</td>\n",
       "      <td> 6-311+G*</td>\n",
       "      <td>  -1.176631</td>\n",
       "      <td>  -738.339782</td>\n",
       "      <td>...</td>\n",
       "      <td>  -729.903782</td>\n",
       "      <td>      NaN</td>\n",
       "      <td>  0.000000</td>\n",
       "      <td>-45.940000</td>\n",
       "      <td>  1.1</td>\n",
       "      <td>  1.4</td>\n",
       "      <td>  0.0</td>\n",
       "      <td>  ./B3LYP_B3LYP/6-31+G*_6-311+G*/H2/H2.nwout</td>\n",
       "      <td>    NaN</td>\n",
       "      <td> 0.74279</td>\n",
       "    </tr>\n",
       "    <tr>\n",
       "      <th>4</th>\n",
       "      <td>  N2</td>\n",
       "      <td> B3LYP_B3LYP</td>\n",
       "      <td> B3_B3</td>\n",
       "      <td> B3LYP</td>\n",
       "      <td> B3LYP</td>\n",
       "      <td> 6-31+G*_6-311+G*</td>\n",
       "      <td> 6-31+G*</td>\n",
       "      <td> 6-311+G*</td>\n",
       "      <td>-109.560564</td>\n",
       "      <td>-68749.582710</td>\n",
       "      <td>...</td>\n",
       "      <td>-68744.002710</td>\n",
       "      <td>      NaN</td>\n",
       "      <td>  0.000000</td>\n",
       "      <td>-45.940000</td>\n",
       "      <td> 11.8</td>\n",
       "      <td> 12.4</td>\n",
       "      <td>  0.0</td>\n",
       "      <td>  ./B3LYP_B3LYP/6-31+G*_6-311+G*/N2/N2.nwout</td>\n",
       "      <td>    NaN</td>\n",
       "      <td> 1.10512</td>\n",
       "    </tr>\n",
       "  </tbody>\n",
       "</table>\n",
       "<p>5 rows × 21 columns</p>\n",
       "</div>"
      ],
      "text/plain": [
       "  Compounds Functional_Used Functional_Used_Abb Functional_1 Functional_2  \\\n",
       "0        H2     B3LYP_B3LYP               B3_B3        B3LYP        B3LYP   \n",
       "1        N2     B3LYP_B3LYP               B3_B3        B3LYP        B3LYP   \n",
       "2       NH3     B3LYP_B3LYP               B3_B3        B3LYP        B3LYP   \n",
       "3        H2     B3LYP_B3LYP               B3_B3        B3LYP        B3LYP   \n",
       "4        N2     B3LYP_B3LYP               B3_B3        B3LYP        B3LYP   \n",
       "\n",
       "          Basis_Set Basis_Set_Part_1 Basis_Set_Part_2  Total_DFT_Energy (Ha)  \\\n",
       "0   6-31+G*_6-31+G*          6-31+G*          6-31+G*              -1.175482   \n",
       "1   6-31+G*_6-31+G*          6-31+G*          6-31+G*            -109.529780   \n",
       "2   6-31+G*_6-31+G*          6-31+G*          6-31+G*             -56.556987   \n",
       "3  6-31+G*_6-311+G*          6-31+G*         6-311+G*              -1.176631   \n",
       "4  6-31+G*_6-311+G*          6-31+G*         6-311+G*            -109.560564   \n",
       "\n",
       "   Total_DFT_Energy (kcal/mol)     ...       Corrected Enthalpy  \\\n",
       "0                  -737.618740     ...              -729.182740   \n",
       "1                -68730.265750     ...            -68724.685750   \n",
       "2                -35489.678810     ...            -35465.636810   \n",
       "3                  -738.339782     ...              -729.903782   \n",
       "4                -68749.582710     ...            -68744.002710   \n",
       "\n",
       "   Formation_Enthalpy  Formation_Energy  Deviation_STD  CPU Time  Wall Time  \\\n",
       "0                 NaN               NaN            NaN       1.0        1.3   \n",
       "1                 NaN               NaN            NaN      12.0       12.9   \n",
       "2           -9.519824        -39.830944      -6.109056      18.6       19.4   \n",
       "3                 NaN          0.000000     -45.940000       1.1        1.4   \n",
       "4                 NaN          0.000000     -45.940000      11.8       12.4   \n",
       "\n",
       "   CPU_Time_Sum                             Output_File_Path Geometry_Angle  \\\n",
       "0           0.0    ./B3LYP_B3LYP/6-31+G*_6-31+G*/H2/H2.nwout            NaN   \n",
       "1           0.0    ./B3LYP_B3LYP/6-31+G*_6-31+G*/N2/N2.nwout            NaN   \n",
       "2          31.6  ./B3LYP_B3LYP/6-31+G*_6-31+G*/NH3/NH3.nwout         107.68   \n",
       "3           0.0   ./B3LYP_B3LYP/6-31+G*_6-311+G*/H2/H2.nwout            NaN   \n",
       "4           0.0   ./B3LYP_B3LYP/6-31+G*_6-311+G*/N2/N2.nwout            NaN   \n",
       "\n",
       "   Bond_Length  \n",
       "0      0.74279  \n",
       "1      1.10512  \n",
       "2      1.01800  \n",
       "3      0.74279  \n",
       "4      1.10512  \n",
       "\n",
       "[5 rows x 21 columns]"
      ]
     },
     "execution_count": 7,
     "metadata": {},
     "output_type": "execute_result"
    }
   ],
   "source": [
    "datafile_B3.head()"
   ]
  },
  {
   "cell_type": "code",
   "execution_count": 4,
   "metadata": {
    "collapsed": false
   },
   "outputs": [],
   "source": [
    "Functional_used_list = list(datafile['Functional_Used_Abb'])"
   ]
  },
  {
   "cell_type": "code",
   "execution_count": 5,
   "metadata": {
    "collapsed": true
   },
   "outputs": [],
   "source": [
    "Formation_Energy_list = list(datafile['Formation_Energy'])"
   ]
  },
  {
   "cell_type": "code",
   "execution_count": 6,
   "metadata": {
    "collapsed": true
   },
   "outputs": [],
   "source": [
    "Energy_Dev = list(datafile['Deviation_STD'])"
   ]
  },
  {
   "cell_type": "code",
   "execution_count": 7,
   "metadata": {
    "collapsed": false
   },
   "outputs": [
    {
     "data": {
      "text/plain": [
       "['B3_B3',\n",
       " 'B3_B3',\n",
       " 'B3_B3',\n",
       " 'B3_B3',\n",
       " 'B3_HF',\n",
       " 'B3_HF',\n",
       " 'B3_HF',\n",
       " 'B3_HF',\n",
       " 'B3_PBE',\n",
       " 'B3_PBE',\n",
       " 'B3_PBE',\n",
       " 'B3_PBE',\n",
       " 'HF_B3',\n",
       " 'HF_B3',\n",
       " 'HF_B3',\n",
       " 'HF_B3',\n",
       " 'HF_HF',\n",
       " 'HF_HF',\n",
       " 'HF_HF',\n",
       " 'HF_HF',\n",
       " 'HF_PBE',\n",
       " 'HF_PBE',\n",
       " 'HF_PBE',\n",
       " 'HF_PBE',\n",
       " 'PBE_B3',\n",
       " 'PBE_B3',\n",
       " 'PBE_B3',\n",
       " 'PBE_B3',\n",
       " 'PBE_HF',\n",
       " 'PBE_HF',\n",
       " 'PBE_HF',\n",
       " 'PBE_HF',\n",
       " 'PBE_PBE',\n",
       " 'PBE_PBE',\n",
       " 'PBE_PBE',\n",
       " 'PBE_PBE']"
      ]
     },
     "execution_count": 7,
     "metadata": {},
     "output_type": "execute_result"
    }
   ],
   "source": [
    "Functional_used_list"
   ]
  },
  {
   "cell_type": "code",
   "execution_count": 8,
   "metadata": {
    "collapsed": false
   },
   "outputs": [],
   "source": [
    "\"\"\"\n",
    "Demo of custom tick-labels with user-defined rotation.\n",
    "\"\"\"\n",
    "import matplotlib.pyplot as plt\n",
    "\n",
    "x_pos = np.arange(len(Formation_Energy_list))\n",
    "y = Formation_Energy_list\n",
    "labels = Functional_used_list\n",
    "\n",
    "plt.plot(x_pos, y, 'ro')\n",
    "# You can specify a rotation for the tick labels in degrees or with keywords.\n",
    "plt.xticks(x_pos,labels, rotation='vertical')\n",
    "# Pad margins so that markers don't get clipped by the axes\n",
    "plt.margins(0.2)\n",
    "# Tweak spacing to prevent clipping of tick-labels\n",
    "plt.subplots_adjust(bottom=0.15)\n",
    "plt.show()"
   ]
  },
  {
   "cell_type": "code",
   "execution_count": null,
   "metadata": {
    "collapsed": false
   },
   "outputs": [],
   "source": [
    "\"\"\"\n",
    "Demo of custom tick-labels with user-defined rotation.\n",
    "\"\"\"\n",
    "import matplotlib.pyplot as plt\n",
    "\n",
    "x_pos = np.arange(len(Energy_Dev))\n",
    "y = Energy_Dev\n",
    "labels = Functional_used_list\n",
    "\n",
    "plt.scatter(x_pos, y, s=60)\n",
    "# You can specify a rotation for the tick labels in degrees or with keywords.\n",
    "plt.xticks(x_pos,labels, rotation='vertical')\n",
    "plt.yticks(fontsize=20)\n",
    "# Pad margins so that markers don't get clipped by the axes\n",
    "plt.margins(0.2)\n",
    "# Tweak spacing to prevent clipping of tick-labels\n",
    "plt.xlabel('Functional Used',fontsize=30)\n",
    "plt.title('Functional Used & Deviation from NIST data',fontsize=24)\n",
    "plt.subplots_adjust(bottom=0.15)\n",
    "\n",
    "\n",
    "p = plt.axhspan(-2,2, facecolor='r', alpha=0.5)\n",
    "\n",
    "\n",
    "plt.show()"
   ]
  }
 ],
 "metadata": {
  "kernelspec": {
   "display_name": "Python 2",
   "language": "python",
   "name": "python2"
  },
  "language_info": {
   "codemirror_mode": {
    "name": "ipython",
    "version": 2
   },
   "file_extension": ".py",
   "mimetype": "text/x-python",
   "name": "python",
   "nbconvert_exporter": "python",
   "pygments_lexer": "ipython2",
   "version": "2.7.6"
  }
 },
 "nbformat": 4,
 "nbformat_minor": 0
}
